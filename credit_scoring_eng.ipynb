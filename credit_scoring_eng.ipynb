{
 "cells": [
  {
   "cell_type": "markdown",
   "metadata": {},
   "source": [
    "Olá Neyllor!\n",
    "\n",
    "Meu nome é Ana Paula Araújo. Fico feliz em rever seu projeto hoje.\n",
    "\n",
    "Quando vejo um erro pela primeira vez, vou apenas apontá-lo. Vou deixar você encontrá-lo e consertá-lo. Também ao longo do texto farei algumas observações sobre melhorias no código e também farei comentários sobre suas percepções sobre o assunto. Estarei aberta a feedbacks e discussões sobre o tema.\n",
    "\n",
    "Você encontrará meus comentários abaixo - **por favor, não os mova, modifique ou exclua**.\n",
    "\n",
    "Você pode encontrar meus comentários em caixas verdes, amarelas ou vermelhas como esta:\n",
    "\n",
    "<div class=\"alert alert-block alert-success\">\n",
    "<b> Comentário do revisor: </b> <a class=\"tocSkip\"></a>\n",
    "\n",
    "Sucesso. Tudo foi feito corretamente.\n",
    "</div>\n",
    "\n",
    "<div class=\"alert alert-block alert-warning\">\n",
    "<b>Comentário do revisor: </b> <a class=\"tocSkip\"></a>\n",
    "\n",
    "Observações. Algumas recomendações.\n",
    "</div>\n",
    "\n",
    "<div class=\"alert alert-block alert-danger\">\n",
    "\n",
    "<b>Comentário do revisor: </b> <a class=\"tocSkip\"></a>\n",
    "    \n",
    "Precisa de correções. O bloqueio requer algumas correções. O trabalho não pode ser aceito com os comentários em vermelho.\n",
    "</div>\n",
    "\n",
    "Você pode me responder usando isso:\n",
    "\n",
    "<div class=\"alert alert-block alert-info\">\n",
    "<b>Resposta do Aluno: Realizei as devidas correções.</b> <a class=\"tocSkip\"></a>\n",
    "</div>"
   ]
  },
  {
   "cell_type": "markdown",
   "metadata": {},
   "source": [
    "<div class=\"alert alert-block alert-success\">\n",
    "<b> Comentário geral do revisor</b> <a class=\"tocSkip\"></a>\n",
    "\n",
    "Neyllor, obrigada por enviar seu projeto. Seu projeto esta excelente!\n",
    "\n",
    "A maioria das minhas observações foi em tom de sugestão para ajudá-lo em futuras aplicações, eles não significam que você fez algo errado, mas são coisas que quero destacar que podem ajudá-lo a desenvolver ainda mais suas habilidades. Gostei muito do seu código, você demonstrou um conhecimento amplo no assunto e aplicou alguns metodos que ainda nao foram ensinados no curso! Parabéns.\n",
    "\n",
    "<ul style=\"color:red\"> \n",
    "      <li> Seu trabalho teve apenas um bloco vermelho, que foi referente a analise das hipoteses. Eu fiz alguns observações em amarelo. </li> \n",
    "\n",
    "</ul>\n",
    "\n",
    "\n",
    "Outros pontos são mais elaborados ao decorrer de cada bloco. Cada problema com nosso código é uma chance para aprendermos algo novo.\n",
    "Boa sorte! :)\n",
    "\n",
    "\n",
    "    \n",
    "</div>"
   ]
  },
  {
   "cell_type": "markdown",
   "metadata": {},
   "source": [
    "<div class=\"alert alert-block alert-success\">\n",
    "<b> Comentário geral do revisor v.2</b> <a class=\"tocSkip\"></a>\n",
    "\n",
    "Neyllor obrigada por enviar seu projeto. Fiquei muito feliz com as suas alterações, obrigada pelo tempo dedicado para faze-las. E agora o seu trabalho esta perfeito e você está pronto para a nova sprint! \n",
    "    \n",
    "Eu risquei os meus comentários anteriores nas partes que voce modificou. E meus novos comentário estao marcados da seguinte forma:\n",
    "\n",
    "\n",
    "<b> Comentário do revisor v.2: </b> \n",
    "\n",
    " Obrigada e Boa sorte ;)"
   ]
  },
  {
   "cell_type": "markdown",
   "metadata": {},
   "source": [
    "# Análise do risco de inadimplência dos mutuários\n",
    "\n",
    "Seu projeto é preparar um relatório para a divisão de empréstimos de um banco. Você precisará descobrir se o estado civil de um cliente e o número de filhos têm impacto sobre se ele deixará de pagar um empréstimo. O banco já tem alguns dados sobre a capacidade de crédito dos clientes.\n",
    "\n",
    "Seu relatório será considerado ao criar uma **pontuação de crédito** de um cliente em potencial. A **contagem de crédito** é usada para avaliar a capacidade de um devedor em potencial de pagar seu empréstimo.\n"
   ]
  },
  {
   "cell_type": "markdown",
   "metadata": {},
   "source": [
    "<div class=\"alert alert-block alert-warning\">\n",
    "<b> Comentário do revisor: </b> <a class=\"tocSkip\"></a>\n",
    "\n",
    "Sugiro descrever um pouco mais sobre o projeto e deixar claro qual o objetivo, como tambem a criação de um index. \n",
    "\n",
    "    \n",
    "</div>"
   ]
  },
  {
   "cell_type": "markdown",
   "metadata": {},
   "source": [
    "## Abra o arquivo de dados e veja as informações gerais.\n"
   ]
  },
  {
   "cell_type": "code",
   "execution_count": 1,
   "metadata": {},
   "outputs": [
    {
     "data": {
      "text/html": [
       "<div>\n",
       "<style scoped>\n",
       "    .dataframe tbody tr th:only-of-type {\n",
       "        vertical-align: middle;\n",
       "    }\n",
       "\n",
       "    .dataframe tbody tr th {\n",
       "        vertical-align: top;\n",
       "    }\n",
       "\n",
       "    .dataframe thead th {\n",
       "        text-align: right;\n",
       "    }\n",
       "</style>\n",
       "<table border=\"1\" class=\"dataframe\">\n",
       "  <thead>\n",
       "    <tr style=\"text-align: right;\">\n",
       "      <th></th>\n",
       "      <th>children</th>\n",
       "      <th>days_employed</th>\n",
       "      <th>dob_years</th>\n",
       "      <th>education</th>\n",
       "      <th>education_id</th>\n",
       "      <th>family_status</th>\n",
       "      <th>family_status_id</th>\n",
       "      <th>gender</th>\n",
       "      <th>income_type</th>\n",
       "      <th>debt</th>\n",
       "      <th>total_income</th>\n",
       "      <th>purpose</th>\n",
       "    </tr>\n",
       "  </thead>\n",
       "  <tbody>\n",
       "    <tr>\n",
       "      <th>0</th>\n",
       "      <td>1</td>\n",
       "      <td>-8437.673028</td>\n",
       "      <td>42</td>\n",
       "      <td>bachelor's degree</td>\n",
       "      <td>0</td>\n",
       "      <td>married</td>\n",
       "      <td>0</td>\n",
       "      <td>F</td>\n",
       "      <td>employee</td>\n",
       "      <td>0</td>\n",
       "      <td>40620.102</td>\n",
       "      <td>purchase of the house</td>\n",
       "    </tr>\n",
       "    <tr>\n",
       "      <th>1</th>\n",
       "      <td>1</td>\n",
       "      <td>-4024.803754</td>\n",
       "      <td>36</td>\n",
       "      <td>secondary education</td>\n",
       "      <td>1</td>\n",
       "      <td>married</td>\n",
       "      <td>0</td>\n",
       "      <td>F</td>\n",
       "      <td>employee</td>\n",
       "      <td>0</td>\n",
       "      <td>17932.802</td>\n",
       "      <td>car purchase</td>\n",
       "    </tr>\n",
       "    <tr>\n",
       "      <th>2</th>\n",
       "      <td>0</td>\n",
       "      <td>-5623.422610</td>\n",
       "      <td>33</td>\n",
       "      <td>Secondary Education</td>\n",
       "      <td>1</td>\n",
       "      <td>married</td>\n",
       "      <td>0</td>\n",
       "      <td>M</td>\n",
       "      <td>employee</td>\n",
       "      <td>0</td>\n",
       "      <td>23341.752</td>\n",
       "      <td>purchase of the house</td>\n",
       "    </tr>\n",
       "    <tr>\n",
       "      <th>3</th>\n",
       "      <td>3</td>\n",
       "      <td>-4124.747207</td>\n",
       "      <td>32</td>\n",
       "      <td>secondary education</td>\n",
       "      <td>1</td>\n",
       "      <td>married</td>\n",
       "      <td>0</td>\n",
       "      <td>M</td>\n",
       "      <td>employee</td>\n",
       "      <td>0</td>\n",
       "      <td>42820.568</td>\n",
       "      <td>supplementary education</td>\n",
       "    </tr>\n",
       "    <tr>\n",
       "      <th>4</th>\n",
       "      <td>0</td>\n",
       "      <td>340266.072047</td>\n",
       "      <td>53</td>\n",
       "      <td>secondary education</td>\n",
       "      <td>1</td>\n",
       "      <td>civil partnership</td>\n",
       "      <td>1</td>\n",
       "      <td>F</td>\n",
       "      <td>retiree</td>\n",
       "      <td>0</td>\n",
       "      <td>25378.572</td>\n",
       "      <td>to have a wedding</td>\n",
       "    </tr>\n",
       "  </tbody>\n",
       "</table>\n",
       "</div>"
      ],
      "text/plain": [
       "   children  days_employed  dob_years            education  education_id  \\\n",
       "0         1   -8437.673028         42    bachelor's degree             0   \n",
       "1         1   -4024.803754         36  secondary education             1   \n",
       "2         0   -5623.422610         33  Secondary Education             1   \n",
       "3         3   -4124.747207         32  secondary education             1   \n",
       "4         0  340266.072047         53  secondary education             1   \n",
       "\n",
       "       family_status  family_status_id gender income_type  debt  total_income  \\\n",
       "0            married                 0      F    employee     0     40620.102   \n",
       "1            married                 0      F    employee     0     17932.802   \n",
       "2            married                 0      M    employee     0     23341.752   \n",
       "3            married                 0      M    employee     0     42820.568   \n",
       "4  civil partnership                 1      F     retiree     0     25378.572   \n",
       "\n",
       "                   purpose  \n",
       "0    purchase of the house  \n",
       "1             car purchase  \n",
       "2    purchase of the house  \n",
       "3  supplementary education  \n",
       "4        to have a wedding  "
      ]
     },
     "execution_count": 1,
     "metadata": {},
     "output_type": "execute_result"
    }
   ],
   "source": [
    "# Carregando todas as bibliotecas\n",
    "import pandas as pd\n",
    "import numpy as np\n",
    "# Carregue os dados\n",
    "credit_scoring = pd.read_csv('/datasets/credit_scoring_eng.csv')\n",
    "credit_scoring.head()"
   ]
  },
  {
   "cell_type": "markdown",
   "metadata": {},
   "source": [
    "<div class=\"alert alert-block alert-warning\">\n",
    "<b> Comentário do revisor: </b> <a class=\"tocSkip\"></a>\n",
    "\n",
    "O arquivo foi aberto corretamente. Sugiro que a importação das bibliotecas seja feita em uma celula separada.\n",
    "    \n",
    "</div>"
   ]
  },
  {
   "cell_type": "markdown",
   "metadata": {},
   "source": [
    "## Tarefa 1. Exploração de dados\n",
    "\n",
    "**Descrição dos dados**\n",
    "- `children` - o número de crianças na família\n",
    "- `days_employed` - experiência de trabalho em dias\n",
    "- `dob_years` - idade do cliente em anos\n",
    "- `education` - educação do cliente\n",
    "- `education_id` - identificador de educação\n",
    "- `family_status` - estado civil do cliente\n",
    "- `family_status_id` - identificador de estado civil\n",
    "- `gender` - gênero do cliente\n",
    "- `income_type` - tipo de emprego\n",
    "- `debt` - havia alguma dívida no pagamento do empréstimo\n",
    "- `total_income` - renda mensal\n",
    "- `purpose` - o objetivo de obter um empréstimo\n"
   ]
  },
  {
   "cell_type": "code",
   "execution_count": 2,
   "metadata": {},
   "outputs": [
    {
     "data": {
      "text/html": [
       "<div>\n",
       "<style scoped>\n",
       "    .dataframe tbody tr th:only-of-type {\n",
       "        vertical-align: middle;\n",
       "    }\n",
       "\n",
       "    .dataframe tbody tr th {\n",
       "        vertical-align: top;\n",
       "    }\n",
       "\n",
       "    .dataframe thead th {\n",
       "        text-align: right;\n",
       "    }\n",
       "</style>\n",
       "<table border=\"1\" class=\"dataframe\">\n",
       "  <thead>\n",
       "    <tr style=\"text-align: right;\">\n",
       "      <th></th>\n",
       "      <th>children</th>\n",
       "      <th>days_employed</th>\n",
       "      <th>dob_years</th>\n",
       "      <th>education_id</th>\n",
       "      <th>family_status_id</th>\n",
       "      <th>debt</th>\n",
       "      <th>total_income</th>\n",
       "    </tr>\n",
       "  </thead>\n",
       "  <tbody>\n",
       "    <tr>\n",
       "      <th>count</th>\n",
       "      <td>21525.000000</td>\n",
       "      <td>19351.000000</td>\n",
       "      <td>21525.000000</td>\n",
       "      <td>21525.000000</td>\n",
       "      <td>21525.000000</td>\n",
       "      <td>21525.000000</td>\n",
       "      <td>19351.000000</td>\n",
       "    </tr>\n",
       "    <tr>\n",
       "      <th>mean</th>\n",
       "      <td>0.538908</td>\n",
       "      <td>63046.497661</td>\n",
       "      <td>43.293380</td>\n",
       "      <td>0.817236</td>\n",
       "      <td>0.972544</td>\n",
       "      <td>0.080883</td>\n",
       "      <td>26787.568355</td>\n",
       "    </tr>\n",
       "    <tr>\n",
       "      <th>std</th>\n",
       "      <td>1.381587</td>\n",
       "      <td>140827.311974</td>\n",
       "      <td>12.574584</td>\n",
       "      <td>0.548138</td>\n",
       "      <td>1.420324</td>\n",
       "      <td>0.272661</td>\n",
       "      <td>16475.450632</td>\n",
       "    </tr>\n",
       "    <tr>\n",
       "      <th>min</th>\n",
       "      <td>-1.000000</td>\n",
       "      <td>-18388.949901</td>\n",
       "      <td>0.000000</td>\n",
       "      <td>0.000000</td>\n",
       "      <td>0.000000</td>\n",
       "      <td>0.000000</td>\n",
       "      <td>3306.762000</td>\n",
       "    </tr>\n",
       "    <tr>\n",
       "      <th>25%</th>\n",
       "      <td>0.000000</td>\n",
       "      <td>-2747.423625</td>\n",
       "      <td>33.000000</td>\n",
       "      <td>1.000000</td>\n",
       "      <td>0.000000</td>\n",
       "      <td>0.000000</td>\n",
       "      <td>16488.504500</td>\n",
       "    </tr>\n",
       "    <tr>\n",
       "      <th>50%</th>\n",
       "      <td>0.000000</td>\n",
       "      <td>-1203.369529</td>\n",
       "      <td>42.000000</td>\n",
       "      <td>1.000000</td>\n",
       "      <td>0.000000</td>\n",
       "      <td>0.000000</td>\n",
       "      <td>23202.870000</td>\n",
       "    </tr>\n",
       "    <tr>\n",
       "      <th>75%</th>\n",
       "      <td>1.000000</td>\n",
       "      <td>-291.095954</td>\n",
       "      <td>53.000000</td>\n",
       "      <td>1.000000</td>\n",
       "      <td>1.000000</td>\n",
       "      <td>0.000000</td>\n",
       "      <td>32549.611000</td>\n",
       "    </tr>\n",
       "    <tr>\n",
       "      <th>max</th>\n",
       "      <td>20.000000</td>\n",
       "      <td>401755.400475</td>\n",
       "      <td>75.000000</td>\n",
       "      <td>4.000000</td>\n",
       "      <td>4.000000</td>\n",
       "      <td>1.000000</td>\n",
       "      <td>362496.645000</td>\n",
       "    </tr>\n",
       "  </tbody>\n",
       "</table>\n",
       "</div>"
      ],
      "text/plain": [
       "           children  days_employed     dob_years  education_id  \\\n",
       "count  21525.000000   19351.000000  21525.000000  21525.000000   \n",
       "mean       0.538908   63046.497661     43.293380      0.817236   \n",
       "std        1.381587  140827.311974     12.574584      0.548138   \n",
       "min       -1.000000  -18388.949901      0.000000      0.000000   \n",
       "25%        0.000000   -2747.423625     33.000000      1.000000   \n",
       "50%        0.000000   -1203.369529     42.000000      1.000000   \n",
       "75%        1.000000    -291.095954     53.000000      1.000000   \n",
       "max       20.000000  401755.400475     75.000000      4.000000   \n",
       "\n",
       "       family_status_id          debt   total_income  \n",
       "count      21525.000000  21525.000000   19351.000000  \n",
       "mean           0.972544      0.080883   26787.568355  \n",
       "std            1.420324      0.272661   16475.450632  \n",
       "min            0.000000      0.000000    3306.762000  \n",
       "25%            0.000000      0.000000   16488.504500  \n",
       "50%            0.000000      0.000000   23202.870000  \n",
       "75%            1.000000      0.000000   32549.611000  \n",
       "max            4.000000      1.000000  362496.645000  "
      ]
     },
     "execution_count": 2,
     "metadata": {},
     "output_type": "execute_result"
    }
   ],
   "source": [
    "# Vamos ver quantas linhas e colunas nosso conjunto de dados tem\n",
    "credit_scoring.describe()\n"
   ]
  },
  {
   "cell_type": "code",
   "execution_count": 3,
   "metadata": {
    "scrolled": true
   },
   "outputs": [
    {
     "data": {
      "text/html": [
       "<div>\n",
       "<style scoped>\n",
       "    .dataframe tbody tr th:only-of-type {\n",
       "        vertical-align: middle;\n",
       "    }\n",
       "\n",
       "    .dataframe tbody tr th {\n",
       "        vertical-align: top;\n",
       "    }\n",
       "\n",
       "    .dataframe thead th {\n",
       "        text-align: right;\n",
       "    }\n",
       "</style>\n",
       "<table border=\"1\" class=\"dataframe\">\n",
       "  <thead>\n",
       "    <tr style=\"text-align: right;\">\n",
       "      <th></th>\n",
       "      <th>children</th>\n",
       "      <th>days_employed</th>\n",
       "      <th>dob_years</th>\n",
       "      <th>education</th>\n",
       "      <th>education_id</th>\n",
       "      <th>family_status</th>\n",
       "      <th>family_status_id</th>\n",
       "      <th>gender</th>\n",
       "      <th>income_type</th>\n",
       "      <th>debt</th>\n",
       "      <th>total_income</th>\n",
       "      <th>purpose</th>\n",
       "    </tr>\n",
       "  </thead>\n",
       "  <tbody>\n",
       "    <tr>\n",
       "      <th>0</th>\n",
       "      <td>1</td>\n",
       "      <td>-8437.673028</td>\n",
       "      <td>42</td>\n",
       "      <td>bachelor's degree</td>\n",
       "      <td>0</td>\n",
       "      <td>married</td>\n",
       "      <td>0</td>\n",
       "      <td>F</td>\n",
       "      <td>employee</td>\n",
       "      <td>0</td>\n",
       "      <td>40620.102</td>\n",
       "      <td>purchase of the house</td>\n",
       "    </tr>\n",
       "    <tr>\n",
       "      <th>1</th>\n",
       "      <td>1</td>\n",
       "      <td>-4024.803754</td>\n",
       "      <td>36</td>\n",
       "      <td>secondary education</td>\n",
       "      <td>1</td>\n",
       "      <td>married</td>\n",
       "      <td>0</td>\n",
       "      <td>F</td>\n",
       "      <td>employee</td>\n",
       "      <td>0</td>\n",
       "      <td>17932.802</td>\n",
       "      <td>car purchase</td>\n",
       "    </tr>\n",
       "    <tr>\n",
       "      <th>2</th>\n",
       "      <td>0</td>\n",
       "      <td>-5623.422610</td>\n",
       "      <td>33</td>\n",
       "      <td>Secondary Education</td>\n",
       "      <td>1</td>\n",
       "      <td>married</td>\n",
       "      <td>0</td>\n",
       "      <td>M</td>\n",
       "      <td>employee</td>\n",
       "      <td>0</td>\n",
       "      <td>23341.752</td>\n",
       "      <td>purchase of the house</td>\n",
       "    </tr>\n",
       "    <tr>\n",
       "      <th>3</th>\n",
       "      <td>3</td>\n",
       "      <td>-4124.747207</td>\n",
       "      <td>32</td>\n",
       "      <td>secondary education</td>\n",
       "      <td>1</td>\n",
       "      <td>married</td>\n",
       "      <td>0</td>\n",
       "      <td>M</td>\n",
       "      <td>employee</td>\n",
       "      <td>0</td>\n",
       "      <td>42820.568</td>\n",
       "      <td>supplementary education</td>\n",
       "    </tr>\n",
       "    <tr>\n",
       "      <th>4</th>\n",
       "      <td>0</td>\n",
       "      <td>340266.072047</td>\n",
       "      <td>53</td>\n",
       "      <td>secondary education</td>\n",
       "      <td>1</td>\n",
       "      <td>civil partnership</td>\n",
       "      <td>1</td>\n",
       "      <td>F</td>\n",
       "      <td>retiree</td>\n",
       "      <td>0</td>\n",
       "      <td>25378.572</td>\n",
       "      <td>to have a wedding</td>\n",
       "    </tr>\n",
       "    <tr>\n",
       "      <th>5</th>\n",
       "      <td>0</td>\n",
       "      <td>-926.185831</td>\n",
       "      <td>27</td>\n",
       "      <td>bachelor's degree</td>\n",
       "      <td>0</td>\n",
       "      <td>civil partnership</td>\n",
       "      <td>1</td>\n",
       "      <td>M</td>\n",
       "      <td>business</td>\n",
       "      <td>0</td>\n",
       "      <td>40922.170</td>\n",
       "      <td>purchase of the house</td>\n",
       "    </tr>\n",
       "    <tr>\n",
       "      <th>6</th>\n",
       "      <td>0</td>\n",
       "      <td>-2879.202052</td>\n",
       "      <td>43</td>\n",
       "      <td>bachelor's degree</td>\n",
       "      <td>0</td>\n",
       "      <td>married</td>\n",
       "      <td>0</td>\n",
       "      <td>F</td>\n",
       "      <td>business</td>\n",
       "      <td>0</td>\n",
       "      <td>38484.156</td>\n",
       "      <td>housing transactions</td>\n",
       "    </tr>\n",
       "    <tr>\n",
       "      <th>7</th>\n",
       "      <td>0</td>\n",
       "      <td>-152.779569</td>\n",
       "      <td>50</td>\n",
       "      <td>SECONDARY EDUCATION</td>\n",
       "      <td>1</td>\n",
       "      <td>married</td>\n",
       "      <td>0</td>\n",
       "      <td>M</td>\n",
       "      <td>employee</td>\n",
       "      <td>0</td>\n",
       "      <td>21731.829</td>\n",
       "      <td>education</td>\n",
       "    </tr>\n",
       "    <tr>\n",
       "      <th>8</th>\n",
       "      <td>2</td>\n",
       "      <td>-6929.865299</td>\n",
       "      <td>35</td>\n",
       "      <td>BACHELOR'S DEGREE</td>\n",
       "      <td>0</td>\n",
       "      <td>civil partnership</td>\n",
       "      <td>1</td>\n",
       "      <td>F</td>\n",
       "      <td>employee</td>\n",
       "      <td>0</td>\n",
       "      <td>15337.093</td>\n",
       "      <td>having a wedding</td>\n",
       "    </tr>\n",
       "    <tr>\n",
       "      <th>9</th>\n",
       "      <td>0</td>\n",
       "      <td>-2188.756445</td>\n",
       "      <td>41</td>\n",
       "      <td>secondary education</td>\n",
       "      <td>1</td>\n",
       "      <td>married</td>\n",
       "      <td>0</td>\n",
       "      <td>M</td>\n",
       "      <td>employee</td>\n",
       "      <td>0</td>\n",
       "      <td>23108.150</td>\n",
       "      <td>purchase of the house for my family</td>\n",
       "    </tr>\n",
       "  </tbody>\n",
       "</table>\n",
       "</div>"
      ],
      "text/plain": [
       "   children  days_employed  dob_years            education  education_id  \\\n",
       "0         1   -8437.673028         42    bachelor's degree             0   \n",
       "1         1   -4024.803754         36  secondary education             1   \n",
       "2         0   -5623.422610         33  Secondary Education             1   \n",
       "3         3   -4124.747207         32  secondary education             1   \n",
       "4         0  340266.072047         53  secondary education             1   \n",
       "5         0    -926.185831         27    bachelor's degree             0   \n",
       "6         0   -2879.202052         43    bachelor's degree             0   \n",
       "7         0    -152.779569         50  SECONDARY EDUCATION             1   \n",
       "8         2   -6929.865299         35    BACHELOR'S DEGREE             0   \n",
       "9         0   -2188.756445         41  secondary education             1   \n",
       "\n",
       "       family_status  family_status_id gender income_type  debt  total_income  \\\n",
       "0            married                 0      F    employee     0     40620.102   \n",
       "1            married                 0      F    employee     0     17932.802   \n",
       "2            married                 0      M    employee     0     23341.752   \n",
       "3            married                 0      M    employee     0     42820.568   \n",
       "4  civil partnership                 1      F     retiree     0     25378.572   \n",
       "5  civil partnership                 1      M    business     0     40922.170   \n",
       "6            married                 0      F    business     0     38484.156   \n",
       "7            married                 0      M    employee     0     21731.829   \n",
       "8  civil partnership                 1      F    employee     0     15337.093   \n",
       "9            married                 0      M    employee     0     23108.150   \n",
       "\n",
       "                               purpose  \n",
       "0                purchase of the house  \n",
       "1                         car purchase  \n",
       "2                purchase of the house  \n",
       "3              supplementary education  \n",
       "4                    to have a wedding  \n",
       "5                purchase of the house  \n",
       "6                 housing transactions  \n",
       "7                            education  \n",
       "8                     having a wedding  \n",
       "9  purchase of the house for my family  "
      ]
     },
     "execution_count": 3,
     "metadata": {},
     "output_type": "execute_result"
    }
   ],
   "source": [
    "# vamos exibir as primeiras 10 linhas\n",
    "credit_scoring.head(10)"
   ]
  },
  {
   "cell_type": "markdown",
   "metadata": {},
   "source": [
    "Ao observar a amostra de dados pode-se verificar que existem valores negativos na coluna \"days_employed\", e que na coluna \"education\" não se seguiu um padrão no cadastro da informação, ocasionando da mesma informação esta escrita de diversas formas diferentes.\n",
    "\n",
    "Além destes fatos, podemos observar valores muito altos na coluna \"days_employed\" e valores negativos na coluna \"children\"."
   ]
  },
  {
   "cell_type": "markdown",
   "metadata": {},
   "source": [
    "<div class=\"alert alert-block alert-warning\">\n",
    "<b> Comentário do revisor: </b> <a class=\"tocSkip\"></a>\n",
    "\n",
    "Boas observações! Você pode destacar outros problemas com os dados, como podemos ver no describe, onde temos valores muito grandes na coluna days_employed, como também o valor minimo da coluna children. \n",
    "    \n",
    "</div>"
   ]
  },
  {
   "cell_type": "code",
   "execution_count": 4,
   "metadata": {
    "scrolled": false
   },
   "outputs": [
    {
     "name": "stdout",
     "output_type": "stream",
     "text": [
      "<class 'pandas.core.frame.DataFrame'>\n",
      "RangeIndex: 21525 entries, 0 to 21524\n",
      "Data columns (total 12 columns):\n",
      " #   Column            Non-Null Count  Dtype  \n",
      "---  ------            --------------  -----  \n",
      " 0   children          21525 non-null  int64  \n",
      " 1   days_employed     19351 non-null  float64\n",
      " 2   dob_years         21525 non-null  int64  \n",
      " 3   education         21525 non-null  object \n",
      " 4   education_id      21525 non-null  int64  \n",
      " 5   family_status     21525 non-null  object \n",
      " 6   family_status_id  21525 non-null  int64  \n",
      " 7   gender            21525 non-null  object \n",
      " 8   income_type       21525 non-null  object \n",
      " 9   debt              21525 non-null  int64  \n",
      " 10  total_income      19351 non-null  float64\n",
      " 11  purpose           21525 non-null  object \n",
      "dtypes: float64(2), int64(5), object(5)\n",
      "memory usage: 2.0+ MB\n"
     ]
    }
   ],
   "source": [
    "# Obter informações sobre dados\n",
    "credit_scoring.info()"
   ]
  },
  {
   "cell_type": "markdown",
   "metadata": {},
   "source": [
    "Ao buscar por valores ausentes verifica-se que as colunas \"days_employed\" e \"total_income\" possuem, em cada uma, um total de 2174 linhas com valores ausentes de um total de 21.525 registros, ou seja, aproximadamente 10,1%."
   ]
  },
  {
   "cell_type": "code",
   "execution_count": 5,
   "metadata": {
    "scrolled": true
   },
   "outputs": [
    {
     "data": {
      "text/html": [
       "<div>\n",
       "<style scoped>\n",
       "    .dataframe tbody tr th:only-of-type {\n",
       "        vertical-align: middle;\n",
       "    }\n",
       "\n",
       "    .dataframe tbody tr th {\n",
       "        vertical-align: top;\n",
       "    }\n",
       "\n",
       "    .dataframe thead th {\n",
       "        text-align: right;\n",
       "    }\n",
       "</style>\n",
       "<table border=\"1\" class=\"dataframe\">\n",
       "  <thead>\n",
       "    <tr style=\"text-align: right;\">\n",
       "      <th></th>\n",
       "      <th>children</th>\n",
       "      <th>days_employed</th>\n",
       "      <th>dob_years</th>\n",
       "      <th>education</th>\n",
       "      <th>education_id</th>\n",
       "      <th>family_status</th>\n",
       "      <th>family_status_id</th>\n",
       "      <th>gender</th>\n",
       "      <th>income_type</th>\n",
       "      <th>debt</th>\n",
       "      <th>total_income</th>\n",
       "      <th>purpose</th>\n",
       "    </tr>\n",
       "  </thead>\n",
       "  <tbody>\n",
       "    <tr>\n",
       "      <th>12</th>\n",
       "      <td>0</td>\n",
       "      <td>NaN</td>\n",
       "      <td>65</td>\n",
       "      <td>secondary education</td>\n",
       "      <td>1</td>\n",
       "      <td>civil partnership</td>\n",
       "      <td>1</td>\n",
       "      <td>M</td>\n",
       "      <td>retiree</td>\n",
       "      <td>0</td>\n",
       "      <td>NaN</td>\n",
       "      <td>to have a wedding</td>\n",
       "    </tr>\n",
       "    <tr>\n",
       "      <th>26</th>\n",
       "      <td>0</td>\n",
       "      <td>NaN</td>\n",
       "      <td>41</td>\n",
       "      <td>secondary education</td>\n",
       "      <td>1</td>\n",
       "      <td>married</td>\n",
       "      <td>0</td>\n",
       "      <td>M</td>\n",
       "      <td>civil servant</td>\n",
       "      <td>0</td>\n",
       "      <td>NaN</td>\n",
       "      <td>education</td>\n",
       "    </tr>\n",
       "    <tr>\n",
       "      <th>29</th>\n",
       "      <td>0</td>\n",
       "      <td>NaN</td>\n",
       "      <td>63</td>\n",
       "      <td>secondary education</td>\n",
       "      <td>1</td>\n",
       "      <td>unmarried</td>\n",
       "      <td>4</td>\n",
       "      <td>F</td>\n",
       "      <td>retiree</td>\n",
       "      <td>0</td>\n",
       "      <td>NaN</td>\n",
       "      <td>building a real estate</td>\n",
       "    </tr>\n",
       "    <tr>\n",
       "      <th>41</th>\n",
       "      <td>0</td>\n",
       "      <td>NaN</td>\n",
       "      <td>50</td>\n",
       "      <td>secondary education</td>\n",
       "      <td>1</td>\n",
       "      <td>married</td>\n",
       "      <td>0</td>\n",
       "      <td>F</td>\n",
       "      <td>civil servant</td>\n",
       "      <td>0</td>\n",
       "      <td>NaN</td>\n",
       "      <td>second-hand car purchase</td>\n",
       "    </tr>\n",
       "    <tr>\n",
       "      <th>55</th>\n",
       "      <td>0</td>\n",
       "      <td>NaN</td>\n",
       "      <td>54</td>\n",
       "      <td>secondary education</td>\n",
       "      <td>1</td>\n",
       "      <td>civil partnership</td>\n",
       "      <td>1</td>\n",
       "      <td>F</td>\n",
       "      <td>retiree</td>\n",
       "      <td>1</td>\n",
       "      <td>NaN</td>\n",
       "      <td>to have a wedding</td>\n",
       "    </tr>\n",
       "    <tr>\n",
       "      <th>65</th>\n",
       "      <td>0</td>\n",
       "      <td>NaN</td>\n",
       "      <td>21</td>\n",
       "      <td>secondary education</td>\n",
       "      <td>1</td>\n",
       "      <td>unmarried</td>\n",
       "      <td>4</td>\n",
       "      <td>M</td>\n",
       "      <td>business</td>\n",
       "      <td>0</td>\n",
       "      <td>NaN</td>\n",
       "      <td>transactions with commercial real estate</td>\n",
       "    </tr>\n",
       "    <tr>\n",
       "      <th>67</th>\n",
       "      <td>0</td>\n",
       "      <td>NaN</td>\n",
       "      <td>52</td>\n",
       "      <td>bachelor's degree</td>\n",
       "      <td>0</td>\n",
       "      <td>married</td>\n",
       "      <td>0</td>\n",
       "      <td>F</td>\n",
       "      <td>retiree</td>\n",
       "      <td>0</td>\n",
       "      <td>NaN</td>\n",
       "      <td>purchase of the house for my family</td>\n",
       "    </tr>\n",
       "    <tr>\n",
       "      <th>72</th>\n",
       "      <td>1</td>\n",
       "      <td>NaN</td>\n",
       "      <td>32</td>\n",
       "      <td>bachelor's degree</td>\n",
       "      <td>0</td>\n",
       "      <td>married</td>\n",
       "      <td>0</td>\n",
       "      <td>M</td>\n",
       "      <td>civil servant</td>\n",
       "      <td>0</td>\n",
       "      <td>NaN</td>\n",
       "      <td>transactions with commercial real estate</td>\n",
       "    </tr>\n",
       "    <tr>\n",
       "      <th>82</th>\n",
       "      <td>2</td>\n",
       "      <td>NaN</td>\n",
       "      <td>50</td>\n",
       "      <td>bachelor's degree</td>\n",
       "      <td>0</td>\n",
       "      <td>married</td>\n",
       "      <td>0</td>\n",
       "      <td>F</td>\n",
       "      <td>employee</td>\n",
       "      <td>0</td>\n",
       "      <td>NaN</td>\n",
       "      <td>housing</td>\n",
       "    </tr>\n",
       "    <tr>\n",
       "      <th>83</th>\n",
       "      <td>0</td>\n",
       "      <td>NaN</td>\n",
       "      <td>52</td>\n",
       "      <td>secondary education</td>\n",
       "      <td>1</td>\n",
       "      <td>married</td>\n",
       "      <td>0</td>\n",
       "      <td>M</td>\n",
       "      <td>employee</td>\n",
       "      <td>0</td>\n",
       "      <td>NaN</td>\n",
       "      <td>housing</td>\n",
       "    </tr>\n",
       "  </tbody>\n",
       "</table>\n",
       "</div>"
      ],
      "text/plain": [
       "    children  days_employed  dob_years            education  education_id  \\\n",
       "12         0            NaN         65  secondary education             1   \n",
       "26         0            NaN         41  secondary education             1   \n",
       "29         0            NaN         63  secondary education             1   \n",
       "41         0            NaN         50  secondary education             1   \n",
       "55         0            NaN         54  secondary education             1   \n",
       "65         0            NaN         21  secondary education             1   \n",
       "67         0            NaN         52    bachelor's degree             0   \n",
       "72         1            NaN         32    bachelor's degree             0   \n",
       "82         2            NaN         50    bachelor's degree             0   \n",
       "83         0            NaN         52  secondary education             1   \n",
       "\n",
       "        family_status  family_status_id gender    income_type  debt  \\\n",
       "12  civil partnership                 1      M        retiree     0   \n",
       "26            married                 0      M  civil servant     0   \n",
       "29          unmarried                 4      F        retiree     0   \n",
       "41            married                 0      F  civil servant     0   \n",
       "55  civil partnership                 1      F        retiree     1   \n",
       "65          unmarried                 4      M       business     0   \n",
       "67            married                 0      F        retiree     0   \n",
       "72            married                 0      M  civil servant     0   \n",
       "82            married                 0      F       employee     0   \n",
       "83            married                 0      M       employee     0   \n",
       "\n",
       "    total_income                                   purpose  \n",
       "12           NaN                         to have a wedding  \n",
       "26           NaN                                 education  \n",
       "29           NaN                    building a real estate  \n",
       "41           NaN                  second-hand car purchase  \n",
       "55           NaN                         to have a wedding  \n",
       "65           NaN  transactions with commercial real estate  \n",
       "67           NaN       purchase of the house for my family  \n",
       "72           NaN  transactions with commercial real estate  \n",
       "82           NaN                                   housing  \n",
       "83           NaN                                   housing  "
      ]
     },
     "execution_count": 5,
     "metadata": {},
     "output_type": "execute_result"
    }
   ],
   "source": [
    "# Vejamos a tabela filtrada com valores ausentes na primeira coluna com dados ausentes\n",
    "credit_scoring_filter = credit_scoring.loc[(credit_scoring['days_employed'].isna())]\n",
    "credit_scoring_filter.head(10)"
   ]
  },
  {
   "cell_type": "markdown",
   "metadata": {},
   "source": [
    "Observa-se que todas as linhas que possuem valores ausentes em \"days_employed\" também possuem valores ausentes em \"total_income\" o que pode significar alguma relação entre as duas colunas.\n"
   ]
  },
  {
   "cell_type": "code",
   "execution_count": 6,
   "metadata": {},
   "outputs": [
    {
     "name": "stdout",
     "output_type": "stream",
     "text": [
      "<class 'pandas.core.frame.DataFrame'>\n",
      "Int64Index: 2174 entries, 12 to 21510\n",
      "Data columns (total 12 columns):\n",
      " #   Column            Non-Null Count  Dtype  \n",
      "---  ------            --------------  -----  \n",
      " 0   children          2174 non-null   int64  \n",
      " 1   days_employed     0 non-null      float64\n",
      " 2   dob_years         2174 non-null   int64  \n",
      " 3   education         2174 non-null   object \n",
      " 4   education_id      2174 non-null   int64  \n",
      " 5   family_status     2174 non-null   object \n",
      " 6   family_status_id  2174 non-null   int64  \n",
      " 7   gender            2174 non-null   object \n",
      " 8   income_type       2174 non-null   object \n",
      " 9   debt              2174 non-null   int64  \n",
      " 10  total_income      0 non-null      float64\n",
      " 11  purpose           2174 non-null   object \n",
      "dtypes: float64(2), int64(5), object(5)\n",
      "memory usage: 220.8+ KB\n"
     ]
    }
   ],
   "source": [
    "# Vamos aplicar várias condições para filtrar dados e observar o número de linhas na tabela filtrada.\n",
    "credit_scoring_filter.info()\n"
   ]
  },
  {
   "cell_type": "markdown",
   "metadata": {},
   "source": [
    "**Conclusão intermediária**\n",
    "\n",
    "Observando os dados obtidos através da filtragem de valores ausentes em \"days_employed\" percebe-se que realmente todas as linhas com valores ausentes nesta coluna, também possuem valores ausentes na coluna \"total_income\".\n",
    "\n",
    "Devido a porcentagem de valores ausentes perante a todo o dataset ser de aproximadamente 10,1%, foram feitas analises para se descobrir possiveis relações dos dados desta coluna com outras colunas do dataset."
   ]
  },
  {
   "cell_type": "markdown",
   "metadata": {},
   "source": [
    "<div class=\"alert alert-block alert-success\">\n",
    "<b> Comentário do revisor: </b> <a class=\"tocSkip\"></a>\n",
    "\n",
    "Excelente!\n",
    "    \n",
    "</div>"
   ]
  },
  {
   "cell_type": "code",
   "execution_count": 7,
   "metadata": {},
   "outputs": [
    {
     "data": {
      "text/html": [
       "<div>\n",
       "<style scoped>\n",
       "    .dataframe tbody tr th:only-of-type {\n",
       "        vertical-align: middle;\n",
       "    }\n",
       "\n",
       "    .dataframe tbody tr th {\n",
       "        vertical-align: top;\n",
       "    }\n",
       "\n",
       "    .dataframe thead th {\n",
       "        text-align: right;\n",
       "    }\n",
       "</style>\n",
       "<table border=\"1\" class=\"dataframe\">\n",
       "  <thead>\n",
       "    <tr style=\"text-align: right;\">\n",
       "      <th></th>\n",
       "      <th>children</th>\n",
       "      <th>days_employed</th>\n",
       "      <th>dob_years</th>\n",
       "      <th>education</th>\n",
       "      <th>education_id</th>\n",
       "      <th>family_status</th>\n",
       "      <th>family_status_id</th>\n",
       "      <th>gender</th>\n",
       "      <th>income_type</th>\n",
       "      <th>debt</th>\n",
       "      <th>total_income</th>\n",
       "      <th>purpose</th>\n",
       "    </tr>\n",
       "  </thead>\n",
       "  <tbody>\n",
       "    <tr>\n",
       "      <th>12</th>\n",
       "      <td>0</td>\n",
       "      <td>NaN</td>\n",
       "      <td>65</td>\n",
       "      <td>secondary education</td>\n",
       "      <td>1</td>\n",
       "      <td>civil partnership</td>\n",
       "      <td>1</td>\n",
       "      <td>M</td>\n",
       "      <td>retiree</td>\n",
       "      <td>0</td>\n",
       "      <td>NaN</td>\n",
       "      <td>to have a wedding</td>\n",
       "    </tr>\n",
       "    <tr>\n",
       "      <th>26</th>\n",
       "      <td>0</td>\n",
       "      <td>NaN</td>\n",
       "      <td>41</td>\n",
       "      <td>secondary education</td>\n",
       "      <td>1</td>\n",
       "      <td>married</td>\n",
       "      <td>0</td>\n",
       "      <td>M</td>\n",
       "      <td>civil servant</td>\n",
       "      <td>0</td>\n",
       "      <td>NaN</td>\n",
       "      <td>education</td>\n",
       "    </tr>\n",
       "    <tr>\n",
       "      <th>29</th>\n",
       "      <td>0</td>\n",
       "      <td>NaN</td>\n",
       "      <td>63</td>\n",
       "      <td>secondary education</td>\n",
       "      <td>1</td>\n",
       "      <td>unmarried</td>\n",
       "      <td>4</td>\n",
       "      <td>F</td>\n",
       "      <td>retiree</td>\n",
       "      <td>0</td>\n",
       "      <td>NaN</td>\n",
       "      <td>building a real estate</td>\n",
       "    </tr>\n",
       "    <tr>\n",
       "      <th>41</th>\n",
       "      <td>0</td>\n",
       "      <td>NaN</td>\n",
       "      <td>50</td>\n",
       "      <td>secondary education</td>\n",
       "      <td>1</td>\n",
       "      <td>married</td>\n",
       "      <td>0</td>\n",
       "      <td>F</td>\n",
       "      <td>civil servant</td>\n",
       "      <td>0</td>\n",
       "      <td>NaN</td>\n",
       "      <td>second-hand car purchase</td>\n",
       "    </tr>\n",
       "    <tr>\n",
       "      <th>55</th>\n",
       "      <td>0</td>\n",
       "      <td>NaN</td>\n",
       "      <td>54</td>\n",
       "      <td>secondary education</td>\n",
       "      <td>1</td>\n",
       "      <td>civil partnership</td>\n",
       "      <td>1</td>\n",
       "      <td>F</td>\n",
       "      <td>retiree</td>\n",
       "      <td>1</td>\n",
       "      <td>NaN</td>\n",
       "      <td>to have a wedding</td>\n",
       "    </tr>\n",
       "  </tbody>\n",
       "</table>\n",
       "</div>"
      ],
      "text/plain": [
       "    children  days_employed  dob_years            education  education_id  \\\n",
       "12         0            NaN         65  secondary education             1   \n",
       "26         0            NaN         41  secondary education             1   \n",
       "29         0            NaN         63  secondary education             1   \n",
       "41         0            NaN         50  secondary education             1   \n",
       "55         0            NaN         54  secondary education             1   \n",
       "\n",
       "        family_status  family_status_id gender    income_type  debt  \\\n",
       "12  civil partnership                 1      M        retiree     0   \n",
       "26            married                 0      M  civil servant     0   \n",
       "29          unmarried                 4      F        retiree     0   \n",
       "41            married                 0      F  civil servant     0   \n",
       "55  civil partnership                 1      F        retiree     1   \n",
       "\n",
       "    total_income                   purpose  \n",
       "12           NaN         to have a wedding  \n",
       "26           NaN                 education  \n",
       "29           NaN    building a real estate  \n",
       "41           NaN  second-hand car purchase  \n",
       "55           NaN         to have a wedding  "
      ]
     },
     "execution_count": 7,
     "metadata": {},
     "output_type": "execute_result"
    }
   ],
   "source": [
    "# Vamos investigar clientes que não possuem dados sobre as características identificadas e a coluna com os valores ausentes\n",
    "credit_scoring_nan = credit_scoring[(credit_scoring['days_employed'].isnull()) & (credit_scoring['total_income'].isnull())]\n",
    "credit_scoring_nan.head()\n"
   ]
  },
  {
   "cell_type": "markdown",
   "metadata": {},
   "source": [
    "<div class=\"alert alert-block alert-success\">\n",
    "<b> Comentário do revisor: </b> <a class=\"tocSkip\"></a>\n",
    "\n",
    "Excelente uso dos operadores lógicos para esse filtro!\n",
    "    \n",
    "</div>"
   ]
  },
  {
   "cell_type": "code",
   "execution_count": 8,
   "metadata": {},
   "outputs": [
    {
     "data": {
      "text/plain": [
       "F    0.682613\n",
       "M    0.317387\n",
       "Name: gender, dtype: float64"
      ]
     },
     "execution_count": 8,
     "metadata": {},
     "output_type": "execute_result"
    }
   ],
   "source": [
    "# Verificar a distribuição pelo sexo no conjuto de dados filtrado\n",
    "credit_scoring_nan['gender'].value_counts(normalize=True)"
   ]
  },
  {
   "cell_type": "code",
   "execution_count": 9,
   "metadata": {},
   "outputs": [
    {
     "data": {
      "text/plain": [
       "F      0.661370\n",
       "M      0.338583\n",
       "XNA    0.000046\n",
       "Name: gender, dtype: float64"
      ]
     },
     "execution_count": 9,
     "metadata": {},
     "output_type": "execute_result"
    }
   ],
   "source": [
    "# Verificar a distribuição pelo sexo em todo o conjunto de dados\n",
    "credit_scoring['gender'].value_counts(normalize=True)"
   ]
  },
  {
   "cell_type": "code",
   "execution_count": 10,
   "metadata": {},
   "outputs": [
    {
     "data": {
      "text/plain": [
       "married              0.568997\n",
       "civil partnership    0.203312\n",
       "unmarried            0.132475\n",
       "divorced             0.051518\n",
       "widow / widower      0.043698\n",
       "Name: family_status, dtype: float64"
      ]
     },
     "execution_count": 10,
     "metadata": {},
     "output_type": "execute_result"
    }
   ],
   "source": [
    "# Verificar a distribuição pelo status familiar no conjunto de dados filtrado\n",
    "credit_scoring_nan['family_status'].value_counts(normalize=True)"
   ]
  },
  {
   "cell_type": "code",
   "execution_count": 11,
   "metadata": {},
   "outputs": [
    {
     "data": {
      "text/plain": [
       "married              0.575145\n",
       "civil partnership    0.194053\n",
       "unmarried            0.130685\n",
       "divorced             0.055517\n",
       "widow / widower      0.044599\n",
       "Name: family_status, dtype: float64"
      ]
     },
     "execution_count": 11,
     "metadata": {},
     "output_type": "execute_result"
    }
   ],
   "source": [
    "# Verificar a distribuição pelo status familiar em todo o conjunto de dados\n",
    "credit_scoring['family_status'].value_counts(normalize=True)"
   ]
  },
  {
   "cell_type": "code",
   "execution_count": 12,
   "metadata": {},
   "outputs": [
    {
     "data": {
      "text/plain": [
       "employee         0.508280\n",
       "business         0.233671\n",
       "retiree          0.189972\n",
       "civil servant    0.067617\n",
       "entrepreneur     0.000460\n",
       "Name: income_type, dtype: float64"
      ]
     },
     "execution_count": 12,
     "metadata": {},
     "output_type": "execute_result"
    }
   ],
   "source": [
    "# Verificar a distribuição pelo tipo de emprego no conjunto de dados filtrado\n",
    "credit_scoring_nan['income_type'].value_counts(normalize=True)"
   ]
  },
  {
   "cell_type": "code",
   "execution_count": 13,
   "metadata": {},
   "outputs": [
    {
     "data": {
      "text/plain": [
       "employee                       0.516562\n",
       "business                       0.236237\n",
       "retiree                        0.179141\n",
       "civil servant                  0.067782\n",
       "unemployed                     0.000093\n",
       "entrepreneur                   0.000093\n",
       "student                        0.000046\n",
       "paternity / maternity leave    0.000046\n",
       "Name: income_type, dtype: float64"
      ]
     },
     "execution_count": 13,
     "metadata": {},
     "output_type": "execute_result"
    }
   ],
   "source": [
    "# Verificar a distribuição pelo tipo de emprego em todo o conjunto de dados\n",
    "credit_scoring['income_type'].value_counts(normalize=True)"
   ]
  },
  {
   "cell_type": "code",
   "execution_count": 14,
   "metadata": {},
   "outputs": [
    {
     "data": {
      "text/plain": [
       "secondary education    0.647654\n",
       "bachelor's degree      0.228151\n",
       "SECONDARY EDUCATION    0.030819\n",
       "Secondary Education    0.029899\n",
       "some college           0.025299\n",
       "Bachelor's Degree      0.011500\n",
       "BACHELOR'S DEGREE      0.010580\n",
       "primary education      0.008740\n",
       "Some College           0.003220\n",
       "SOME COLLEGE           0.003220\n",
       "Primary Education      0.000460\n",
       "PRIMARY EDUCATION      0.000460\n",
       "Name: education, dtype: float64"
      ]
     },
     "execution_count": 14,
     "metadata": {},
     "output_type": "execute_result"
    }
   ],
   "source": [
    "#Verificar a distribuição pela educação no conjunto de dados filtrado\n",
    "credit_scoring_nan['education'].value_counts(normalize=True)"
   ]
  },
  {
   "cell_type": "code",
   "execution_count": 15,
   "metadata": {},
   "outputs": [
    {
     "data": {
      "text/plain": [
       "secondary education    0.638792\n",
       "bachelor's degree      0.219187\n",
       "SECONDARY EDUCATION    0.035865\n",
       "Secondary Education    0.033031\n",
       "some college           0.031034\n",
       "BACHELOR'S DEGREE      0.012729\n",
       "Bachelor's Degree      0.012451\n",
       "primary education      0.011614\n",
       "Some College           0.002184\n",
       "SOME COLLEGE           0.001347\n",
       "PRIMARY EDUCATION      0.000790\n",
       "Primary Education      0.000697\n",
       "graduate degree        0.000186\n",
       "GRADUATE DEGREE        0.000046\n",
       "Graduate Degree        0.000046\n",
       "Name: education, dtype: float64"
      ]
     },
     "execution_count": 15,
     "metadata": {},
     "output_type": "execute_result"
    }
   ],
   "source": [
    "#Verificar a distribuição pela educação em todo conjunto de dados\n",
    "credit_scoring['education'].value_counts(normalize=True)"
   ]
  },
  {
   "cell_type": "code",
   "execution_count": 16,
   "metadata": {},
   "outputs": [
    {
     "data": {
      "text/plain": [
       " 0     0.661914\n",
       " 1     0.218491\n",
       " 2     0.093836\n",
       " 3     0.016559\n",
       " 20    0.004140\n",
       " 4     0.003220\n",
       "-1     0.001380\n",
       " 5     0.000460\n",
       "Name: children, dtype: float64"
      ]
     },
     "execution_count": 16,
     "metadata": {},
     "output_type": "execute_result"
    }
   ],
   "source": [
    "#Verificar a distribuição pelo número de filhos no conjunto de dados filtrado\n",
    "credit_scoring_nan['children'].value_counts(normalize=True)"
   ]
  },
  {
   "cell_type": "code",
   "execution_count": 17,
   "metadata": {},
   "outputs": [
    {
     "data": {
      "text/plain": [
       " 0     0.657329\n",
       " 1     0.223833\n",
       " 2     0.095470\n",
       " 3     0.015331\n",
       " 20    0.003531\n",
       "-1     0.002184\n",
       " 4     0.001905\n",
       " 5     0.000418\n",
       "Name: children, dtype: float64"
      ]
     },
     "execution_count": 17,
     "metadata": {},
     "output_type": "execute_result"
    }
   ],
   "source": [
    "#Verificar a distribuição pelo número de filhos em todo conjunto de dados\n",
    "credit_scoring['children'].value_counts(normalize=True)"
   ]
  },
  {
   "cell_type": "markdown",
   "metadata": {},
   "source": [
    "**Possíveis motivos para valores ausentes nos dados**\n",
    "\n",
    "Após analisar os dados não se observou nenhuma diferença relevante entre os dados dos dois datasets. Por este motivo os valores serão preenchidos da seguinte maneira:\n",
    "\n",
    "days_employed: A idade dos clientes serão categorizadas por décadas, a partir dela obteremos o valor médio de dias trabalhados para cada categoria de idade, esta média será a utilizada para preeencher os valores ausentes nesta coluna.  \n",
    "\n",
    "total_income: Será preenchida a partir da média obtida dos dados que se enquadrem na mesma categoria de idade e educação do cliente. "
   ]
  },
  {
   "cell_type": "markdown",
   "metadata": {},
   "source": [
    "<div class=\"alert alert-block alert-success\">\n",
    "<b> Comentário do revisor: </b> <a class=\"tocSkip\"></a>\n",
    "\n",
    "Otima analise. É bem interessante fazer analisar essa distribuição de algumas colunas tanto no df original como no df com valores nulos!\n",
    "    \n",
    "</div>"
   ]
  },
  {
   "cell_type": "markdown",
   "metadata": {},
   "source": [
    "## Transformação de dados\n"
   ]
  },
  {
   "cell_type": "code",
   "execution_count": 18,
   "metadata": {},
   "outputs": [
    {
     "data": {
      "text/plain": [
       "array([\"bachelor's degree\", 'secondary education', 'Secondary Education',\n",
       "       'SECONDARY EDUCATION', \"BACHELOR'S DEGREE\", 'some college',\n",
       "       'primary education', \"Bachelor's Degree\", 'SOME COLLEGE',\n",
       "       'Some College', 'PRIMARY EDUCATION', 'Primary Education',\n",
       "       'Graduate Degree', 'GRADUATE DEGREE', 'graduate degree'],\n",
       "      dtype=object)"
      ]
     },
     "execution_count": 18,
     "metadata": {},
     "output_type": "execute_result"
    }
   ],
   "source": [
    "# Vamos ver todos os valores na coluna de educação para verificar se e quais grafias precisarão ser corrigidas\n",
    "credit_scoring['education'].unique()"
   ]
  },
  {
   "cell_type": "code",
   "execution_count": 19,
   "metadata": {
    "scrolled": true
   },
   "outputs": [],
   "source": [
    "# Corrija os registros, se necessário\n",
    "credit_scoring['education'] = credit_scoring['education'].str.lower()\n"
   ]
  },
  {
   "cell_type": "code",
   "execution_count": 20,
   "metadata": {},
   "outputs": [
    {
     "data": {
      "text/plain": [
       "array([\"bachelor's degree\", 'secondary education', 'some college',\n",
       "       'primary education', 'graduate degree'], dtype=object)"
      ]
     },
     "execution_count": 20,
     "metadata": {},
     "output_type": "execute_result"
    }
   ],
   "source": [
    "# Verificando todos os valores na coluna para ter certeza de que os corrigimos\n",
    "credit_scoring['education'].unique()"
   ]
  },
  {
   "cell_type": "markdown",
   "metadata": {},
   "source": [
    "<div class=\"alert alert-block alert-success\">\n",
    "<b> Comentário do revisor: </b> <a class=\"tocSkip\"></a>\n",
    "\n",
    "Essa padronização ajuda muito na analise. Otimo uso do .str.lower()\n",
    "    \n",
    "</div>"
   ]
  },
  {
   "cell_type": "code",
   "execution_count": 21,
   "metadata": {},
   "outputs": [
    {
     "data": {
      "text/plain": [
       " 0     14149\n",
       " 1      4818\n",
       " 2      2055\n",
       " 3       330\n",
       " 20       76\n",
       "-1        47\n",
       " 4        41\n",
       " 5         9\n",
       "Name: children, dtype: int64"
      ]
     },
     "execution_count": 21,
     "metadata": {},
     "output_type": "execute_result"
    }
   ],
   "source": [
    "# Vamos ver a distribuição de valores na coluna `children`\n",
    "credit_scoring['children'].value_counts()"
   ]
  },
  {
   "cell_type": "markdown",
   "metadata": {},
   "source": [
    "O dataset apresenta na coluna children dois valores que fogem da normalidade. O primeiro mostra que o valor -1 esta presente em 47 linhas da base de dados, o que corresponde a aproximadamente 0,22% de todo o conjunto de dados. O segundo mostra que o valor 20 esta presente em 76 linhas da base de dados, o que corresponde a aproximadamente 0,35% de todo o conjunto de dados. Logo, juntos representam 0,57% de todos os registros do dataset.\n",
    "Devido a sua pequena relevancia comparada a base de dados, os mesmos serão removidos da analise. "
   ]
  },
  {
   "cell_type": "code",
   "execution_count": 22,
   "metadata": {},
   "outputs": [],
   "source": [
    "# [corrija os dados com base na sua decisão]\n",
    "credit_scoring = credit_scoring[((credit_scoring['children'] > -1) & (credit_scoring['children'] < 20))]"
   ]
  },
  {
   "cell_type": "code",
   "execution_count": 23,
   "metadata": {},
   "outputs": [
    {
     "data": {
      "text/plain": [
       "0    14149\n",
       "1     4818\n",
       "2     2055\n",
       "3      330\n",
       "4       41\n",
       "5        9\n",
       "Name: children, dtype: int64"
      ]
     },
     "execution_count": 23,
     "metadata": {},
     "output_type": "execute_result"
    }
   ],
   "source": [
    "# Verificar a coluna `children` novamente para ter certeza de que está tudo corrigido\n",
    "credit_scoring['children'].value_counts()"
   ]
  },
  {
   "cell_type": "markdown",
   "metadata": {},
   "source": [
    "<div class=\"alert alert-block alert-success\">\n",
    "<b> Comentário do revisor: </b> <a class=\"tocSkip\"></a>\n",
    "\n",
    "Concordo com você! Como são poucos dados é interessante deletar. Você pode usar o drop para deletar! \n",
    "    \n",
    "</div>"
   ]
  },
  {
   "cell_type": "code",
   "execution_count": 24,
   "metadata": {
    "scrolled": true
   },
   "outputs": [
    {
     "data": {
      "text/plain": [
       "count     19240.000000\n",
       "mean      63159.820777\n",
       "std      140928.943329\n",
       "min      -18388.949901\n",
       "25%       -2747.235601\n",
       "50%       -1203.934202\n",
       "75%        -289.740178\n",
       "max      401755.400475\n",
       "Name: days_employed, dtype: float64"
      ]
     },
     "execution_count": 24,
     "metadata": {},
     "output_type": "execute_result"
    }
   ],
   "source": [
    "# Encontre dados problemáticos em `days_employed`, se existirem, e calcule a porcentagem\n",
    "credit_scoring['days_employed'].describe()"
   ]
  },
  {
   "cell_type": "code",
   "execution_count": 25,
   "metadata": {},
   "outputs": [
    {
     "name": "stdout",
     "output_type": "stream",
     "text": [
      "O percentual de linhas com valores negativos em comparação ao total de linhas da tabela é de 73.866928%\n"
     ]
    }
   ],
   "source": [
    "cs_days_employed = credit_scoring[(credit_scoring['days_employed'] < 0)]\n",
    "print(\"O percentual de linhas com valores negativos em comparação ao total de linhas da tabela é de {:%}\".format(len(cs_days_employed)/len(credit_scoring)))"
   ]
  },
  {
   "cell_type": "markdown",
   "metadata": {},
   "source": [
    "Observa-se que a coluna \"days_employed\" possue uma quantidade grande de dados negativos (73,86%), além de valores extremamente altos. \n",
    "Para os valores negativos a abordagem a ser tomada será obter o valor absoluto do mesmo, os transformando em positivos. E para os valores que fujam dos padrões aceitaveis de dias trabalhados, posteriormente será adotada a mesma estrategia a ser utilizada nos valores ausentes."
   ]
  },
  {
   "cell_type": "code",
   "execution_count": 26,
   "metadata": {},
   "outputs": [
    {
     "data": {
      "text/plain": [
       "count     19240.000000\n",
       "mean      67027.691459\n",
       "std      139130.846446\n",
       "min          24.141633\n",
       "25%         927.984311\n",
       "50%        2195.251592\n",
       "75%        5556.372075\n",
       "max      401755.400475\n",
       "Name: days_employed, dtype: float64"
      ]
     },
     "execution_count": 26,
     "metadata": {},
     "output_type": "execute_result"
    }
   ],
   "source": [
    "# Obtendo os valores absolutos\n",
    "credit_scoring['days_employed'] = abs(credit_scoring['days_employed'])\n",
    "credit_scoring['days_employed'].describe()"
   ]
  },
  {
   "cell_type": "markdown",
   "metadata": {},
   "source": [
    "<div class=\"alert alert-block alert-success\">\n",
    "<b> Comentário do revisor: </b> <a class=\"tocSkip\"></a>\n",
    "\n",
    "Excelente uso do `abs()` \n",
    "</div>"
   ]
  },
  {
   "cell_type": "code",
   "execution_count": 27,
   "metadata": {
    "scrolled": true
   },
   "outputs": [
    {
     "data": {
      "text/plain": [
       "count    21402.000000\n",
       "mean        43.300206\n",
       "std         12.579055\n",
       "min          0.000000\n",
       "25%         33.000000\n",
       "50%         42.000000\n",
       "75%         53.000000\n",
       "max         75.000000\n",
       "Name: dob_years, dtype: float64"
      ]
     },
     "execution_count": 27,
     "metadata": {},
     "output_type": "execute_result"
    }
   ],
   "source": [
    "# Verifique o `dob_years` para valores suspeitos e conte a porcentagem\n",
    "credit_scoring['dob_years'].describe()"
   ]
  },
  {
   "cell_type": "code",
   "execution_count": 28,
   "metadata": {},
   "outputs": [
    {
     "name": "stdout",
     "output_type": "stream",
     "text": [
      "O percentual de linhas com valores menores do que 18 anos é de 0.467246%\n"
     ]
    }
   ],
   "source": [
    "filtred_dob_years = credit_scoring[credit_scoring['dob_years'] < 18]\n",
    "print(\"O percentual de linhas com valores menores do que 18 anos é de {:%}\".format(len(filtred_dob_years)/len(credit_scoring)))"
   ]
  },
  {
   "cell_type": "markdown",
   "metadata": {},
   "source": [
    "Levando-se em consideração que para se conseguir um empréstimo seja necessário que a pessoa seja maior de 18 anos e considerando que o percentual de linhas com valores inferiores a este é menor do 0,5%. Será realizado a exclusão destas linhas do dataframe."
   ]
  },
  {
   "cell_type": "markdown",
   "metadata": {},
   "source": [
    "<div class=\"alert alert-block alert-success\">\n",
    "<b> Comentário do revisor: </b> <a class=\"tocSkip\"></a>\n",
    "\n",
    "Otimo! Bem justificado!\n",
    "    \n",
    "</div>"
   ]
  },
  {
   "cell_type": "code",
   "execution_count": 29,
   "metadata": {},
   "outputs": [],
   "source": [
    "# Resolva os problemas na coluna `dob_years`, se existirem\n",
    "credit_scoring = credit_scoring[credit_scoring['dob_years'] >= 18]"
   ]
  },
  {
   "cell_type": "code",
   "execution_count": 30,
   "metadata": {},
   "outputs": [
    {
     "data": {
      "text/plain": [
       "count    21302.000000\n",
       "mean        43.503474\n",
       "std         12.252843\n",
       "min         19.000000\n",
       "25%         33.000000\n",
       "50%         43.000000\n",
       "75%         53.000000\n",
       "max         75.000000\n",
       "Name: dob_years, dtype: float64"
      ]
     },
     "execution_count": 30,
     "metadata": {},
     "output_type": "execute_result"
    }
   ],
   "source": [
    "# Verifique o resultado - certifique-se de que está corrigido\n",
    "credit_scoring['dob_years'].describe()"
   ]
  },
  {
   "cell_type": "code",
   "execution_count": 31,
   "metadata": {},
   "outputs": [
    {
     "data": {
      "text/plain": [
       "array(['married', 'civil partnership', 'widow / widower', 'divorced',\n",
       "       'unmarried'], dtype=object)"
      ]
     },
     "execution_count": 31,
     "metadata": {},
     "output_type": "execute_result"
    }
   ],
   "source": [
    "# Vamos ver os valores da coluna family_status\n",
    "credit_scoring['family_status'].unique()\n"
   ]
  },
  {
   "cell_type": "markdown",
   "metadata": {},
   "source": [
    "Não foram observados problemas nos dados das colunas \"credit_scoring\" e \"family_status\"."
   ]
  },
  {
   "cell_type": "markdown",
   "metadata": {},
   "source": [
    "<div class=\"alert alert-block alert-warning\">\n",
    "<b> Comentário do revisor: </b> <a class=\"tocSkip\"></a>\n",
    "\n",
    "<s>Você pode comentar que esta tudo certo com os dados da coluna e que eles não precisam de modificação! \n",
    "    \n",
    "</div>"
   ]
  },
  {
   "cell_type": "markdown",
   "metadata": {},
   "source": [
    "<div class=\"alert alert-block alert-success\">\n",
    "<b> Comentário do revisor v.2: </b> <a class=\"tocSkip\"></a>\n",
    "\n",
    "Obrigada pela modificação! \n",
    "    \n",
    "</div>"
   ]
  },
  {
   "cell_type": "code",
   "execution_count": 32,
   "metadata": {},
   "outputs": [
    {
     "data": {
      "text/plain": [
       "gender\n",
       "F      14083\n",
       "M       7218\n",
       "XNA        1\n",
       "Name: gender, dtype: int64"
      ]
     },
     "execution_count": 32,
     "metadata": {},
     "output_type": "execute_result"
    }
   ],
   "source": [
    "# Vamos ver os valores na coluna gender\n",
    "credit_scoring.groupby('gender')['gender'].count()"
   ]
  },
  {
   "cell_type": "markdown",
   "metadata": {},
   "source": [
    "Ao analisar a coluna gender observa-se que existe um valor que difere de F (Feminino) e M (Masculino) a mesma será removida do dataset."
   ]
  },
  {
   "cell_type": "code",
   "execution_count": 33,
   "metadata": {},
   "outputs": [],
   "source": [
    "# Aborde os valores problemáticos, se existirem\n",
    "credit_scoring = credit_scoring[credit_scoring['gender'] != 'XNA']"
   ]
  },
  {
   "cell_type": "code",
   "execution_count": 34,
   "metadata": {},
   "outputs": [
    {
     "data": {
      "text/plain": [
       "gender\n",
       "F    14083\n",
       "M     7218\n",
       "Name: gender, dtype: int64"
      ]
     },
     "execution_count": 34,
     "metadata": {},
     "output_type": "execute_result"
    }
   ],
   "source": [
    "# Verifique o resultado - certifique-se de que está corrigido\n",
    "credit_scoring.groupby('gender')['gender'].count()"
   ]
  },
  {
   "cell_type": "code",
   "execution_count": 35,
   "metadata": {},
   "outputs": [
    {
     "data": {
      "text/plain": [
       "array(['employee', 'retiree', 'business', 'civil servant', 'unemployed',\n",
       "       'entrepreneur', 'student', 'paternity / maternity leave'],\n",
       "      dtype=object)"
      ]
     },
     "execution_count": 35,
     "metadata": {},
     "output_type": "execute_result"
    }
   ],
   "source": [
    "# Vamos ver os valores na coluna income_type\n",
    "credit_scoring['income_type'].unique()"
   ]
  },
  {
   "cell_type": "markdown",
   "metadata": {},
   "source": [
    "**Buscando Duplicatas**"
   ]
  },
  {
   "cell_type": "code",
   "execution_count": 36,
   "metadata": {},
   "outputs": [
    {
     "data": {
      "text/plain": [
       "71"
      ]
     },
     "execution_count": 36,
     "metadata": {},
     "output_type": "execute_result"
    }
   ],
   "source": [
    "# Verificar duplicatas\n",
    "credit_scoring.duplicated().sum()\n"
   ]
  },
  {
   "cell_type": "code",
   "execution_count": 37,
   "metadata": {},
   "outputs": [],
   "source": [
    "# Aborde as duplicatas, se existirem\n",
    "credit_scoring = credit_scoring.drop_duplicates().reset_index(drop = True)"
   ]
  },
  {
   "cell_type": "code",
   "execution_count": 38,
   "metadata": {},
   "outputs": [
    {
     "data": {
      "text/plain": [
       "0"
      ]
     },
     "execution_count": 38,
     "metadata": {},
     "output_type": "execute_result"
    }
   ],
   "source": [
    "# Última verificação se temos duplicatas\n",
    "credit_scoring.duplicated().sum()"
   ]
  },
  {
   "cell_type": "markdown",
   "metadata": {},
   "source": [
    "<div class=\"alert alert-block alert-success\">\n",
    "<b> Comentário do revisor: </b> <a class=\"tocSkip\"></a>\n",
    "\n",
    "Excelente!\n",
    "    \n",
    "</div>"
   ]
  },
  {
   "cell_type": "code",
   "execution_count": 39,
   "metadata": {},
   "outputs": [
    {
     "name": "stdout",
     "output_type": "stream",
     "text": [
      "<class 'pandas.core.frame.DataFrame'>\n",
      "RangeIndex: 21230 entries, 0 to 21229\n",
      "Data columns (total 12 columns):\n",
      " #   Column            Non-Null Count  Dtype  \n",
      "---  ------            --------------  -----  \n",
      " 0   children          21230 non-null  int64  \n",
      " 1   days_employed     19149 non-null  float64\n",
      " 2   dob_years         21230 non-null  int64  \n",
      " 3   education         21230 non-null  object \n",
      " 4   education_id      21230 non-null  int64  \n",
      " 5   family_status     21230 non-null  object \n",
      " 6   family_status_id  21230 non-null  int64  \n",
      " 7   gender            21230 non-null  object \n",
      " 8   income_type       21230 non-null  object \n",
      " 9   debt              21230 non-null  int64  \n",
      " 10  total_income      19149 non-null  float64\n",
      " 11  purpose           21230 non-null  object \n",
      "dtypes: float64(2), int64(5), object(5)\n",
      "memory usage: 1.9+ MB\n"
     ]
    }
   ],
   "source": [
    "#Verifique o tamanho do conjunto de dados que você tem agora após suas primeiras manipulações com ele\n",
    "credit_scoring.info()"
   ]
  },
  {
   "cell_type": "markdown",
   "metadata": {},
   "source": [
    "Após finalizado o processo de transformação de dados e remoção das linhas duplicadas o datasets passou a ter 21.230 linhas, de um total original de 21.525 linhas. Uma diferença percentual de aproximadamente 1,37%.\n"
   ]
  },
  {
   "cell_type": "markdown",
   "metadata": {},
   "source": [
    "<div class=\"alert alert-block alert-success\">\n",
    "<b> Comentário do revisor: </b> <a class=\"tocSkip\"></a>\n",
    "\n",
    "Mesmo deletando alguns dados, vimos que não comprometeu muito a quantidade de dados. Mas ressalto que é importante a gente analisar esse valor total que esta sendo deletado! Sugiro que não passe de 1% dos dados!\n",
    "    \n",
    "</div>"
   ]
  },
  {
   "cell_type": "markdown",
   "metadata": {},
   "source": [
    "# Trabalhando com valores ausentes"
   ]
  },
  {
   "cell_type": "markdown",
   "metadata": {},
   "source": [
    "Como observado anteriormente as colunas com valores ausentes são \"total_income\" e \"days_employed\". As mesmas serão preenchidas da seguinte maneira: \n",
    "\n",
    "days_employed: A idade dos clientes serão categorizadas por décadas, a partir dela obteremos o valor médio de dias trabalhados para cada categoria de idade, esta média será a utilizada para preeencher os valores ausentes nesta coluna.  \n",
    "\n",
    "total_income: Será preenchida a partir da média da renda dos clientes com a mesma categoria de idade e o mesmo nivel de educação. "
   ]
  },
  {
   "cell_type": "markdown",
   "metadata": {},
   "source": [
    "### Restaurar valores ausentes em `total_income`"
   ]
  },
  {
   "cell_type": "code",
   "execution_count": 40,
   "metadata": {},
   "outputs": [],
   "source": [
    "# Vamos escrever uma função que calcule a categoria de idade\n",
    "def categoriza_idade(row):\n",
    "    if (row['dob_years'] < 20):\n",
    "        return '18-19'\n",
    "    elif(row['dob_years'] < 30):\n",
    "        return '20-29'\n",
    "    elif(row['dob_years'] < 40):\n",
    "        return '30-39'\n",
    "    elif(row['dob_years'] < 50):\n",
    "        return '40-49'\n",
    "    elif(row['dob_years'] < 60):\n",
    "        return '50-59'\n",
    "    elif(row['dob_years'] < 70):\n",
    "        return '60-69'\n",
    "    else:\n",
    "        return '+70'  "
   ]
  },
  {
   "cell_type": "code",
   "execution_count": 41,
   "metadata": {},
   "outputs": [],
   "source": [
    "#Criando coluna de categoria de idades\n",
    "credit_scoring['age_category'] = credit_scoring.apply(categoriza_idade, axis=1)"
   ]
  },
  {
   "cell_type": "code",
   "execution_count": 42,
   "metadata": {},
   "outputs": [
    {
     "data": {
      "text/html": [
       "<div>\n",
       "<style scoped>\n",
       "    .dataframe tbody tr th:only-of-type {\n",
       "        vertical-align: middle;\n",
       "    }\n",
       "\n",
       "    .dataframe tbody tr th {\n",
       "        vertical-align: top;\n",
       "    }\n",
       "\n",
       "    .dataframe thead th {\n",
       "        text-align: right;\n",
       "    }\n",
       "</style>\n",
       "<table border=\"1\" class=\"dataframe\">\n",
       "  <thead>\n",
       "    <tr style=\"text-align: right;\">\n",
       "      <th></th>\n",
       "      <th>children</th>\n",
       "      <th>days_employed</th>\n",
       "      <th>dob_years</th>\n",
       "      <th>education</th>\n",
       "      <th>education_id</th>\n",
       "      <th>family_status</th>\n",
       "      <th>family_status_id</th>\n",
       "      <th>gender</th>\n",
       "      <th>income_type</th>\n",
       "      <th>debt</th>\n",
       "      <th>total_income</th>\n",
       "      <th>purpose</th>\n",
       "      <th>age_category</th>\n",
       "    </tr>\n",
       "  </thead>\n",
       "  <tbody>\n",
       "    <tr>\n",
       "      <th>0</th>\n",
       "      <td>1</td>\n",
       "      <td>8437.673028</td>\n",
       "      <td>42</td>\n",
       "      <td>bachelor's degree</td>\n",
       "      <td>0</td>\n",
       "      <td>married</td>\n",
       "      <td>0</td>\n",
       "      <td>F</td>\n",
       "      <td>employee</td>\n",
       "      <td>0</td>\n",
       "      <td>40620.102</td>\n",
       "      <td>purchase of the house</td>\n",
       "      <td>40-49</td>\n",
       "    </tr>\n",
       "    <tr>\n",
       "      <th>1</th>\n",
       "      <td>1</td>\n",
       "      <td>4024.803754</td>\n",
       "      <td>36</td>\n",
       "      <td>secondary education</td>\n",
       "      <td>1</td>\n",
       "      <td>married</td>\n",
       "      <td>0</td>\n",
       "      <td>F</td>\n",
       "      <td>employee</td>\n",
       "      <td>0</td>\n",
       "      <td>17932.802</td>\n",
       "      <td>car purchase</td>\n",
       "      <td>30-39</td>\n",
       "    </tr>\n",
       "    <tr>\n",
       "      <th>2</th>\n",
       "      <td>0</td>\n",
       "      <td>5623.422610</td>\n",
       "      <td>33</td>\n",
       "      <td>secondary education</td>\n",
       "      <td>1</td>\n",
       "      <td>married</td>\n",
       "      <td>0</td>\n",
       "      <td>M</td>\n",
       "      <td>employee</td>\n",
       "      <td>0</td>\n",
       "      <td>23341.752</td>\n",
       "      <td>purchase of the house</td>\n",
       "      <td>30-39</td>\n",
       "    </tr>\n",
       "    <tr>\n",
       "      <th>3</th>\n",
       "      <td>3</td>\n",
       "      <td>4124.747207</td>\n",
       "      <td>32</td>\n",
       "      <td>secondary education</td>\n",
       "      <td>1</td>\n",
       "      <td>married</td>\n",
       "      <td>0</td>\n",
       "      <td>M</td>\n",
       "      <td>employee</td>\n",
       "      <td>0</td>\n",
       "      <td>42820.568</td>\n",
       "      <td>supplementary education</td>\n",
       "      <td>30-39</td>\n",
       "    </tr>\n",
       "    <tr>\n",
       "      <th>4</th>\n",
       "      <td>0</td>\n",
       "      <td>340266.072047</td>\n",
       "      <td>53</td>\n",
       "      <td>secondary education</td>\n",
       "      <td>1</td>\n",
       "      <td>civil partnership</td>\n",
       "      <td>1</td>\n",
       "      <td>F</td>\n",
       "      <td>retiree</td>\n",
       "      <td>0</td>\n",
       "      <td>25378.572</td>\n",
       "      <td>to have a wedding</td>\n",
       "      <td>50-59</td>\n",
       "    </tr>\n",
       "    <tr>\n",
       "      <th>5</th>\n",
       "      <td>0</td>\n",
       "      <td>926.185831</td>\n",
       "      <td>27</td>\n",
       "      <td>bachelor's degree</td>\n",
       "      <td>0</td>\n",
       "      <td>civil partnership</td>\n",
       "      <td>1</td>\n",
       "      <td>M</td>\n",
       "      <td>business</td>\n",
       "      <td>0</td>\n",
       "      <td>40922.170</td>\n",
       "      <td>purchase of the house</td>\n",
       "      <td>20-29</td>\n",
       "    </tr>\n",
       "    <tr>\n",
       "      <th>6</th>\n",
       "      <td>0</td>\n",
       "      <td>2879.202052</td>\n",
       "      <td>43</td>\n",
       "      <td>bachelor's degree</td>\n",
       "      <td>0</td>\n",
       "      <td>married</td>\n",
       "      <td>0</td>\n",
       "      <td>F</td>\n",
       "      <td>business</td>\n",
       "      <td>0</td>\n",
       "      <td>38484.156</td>\n",
       "      <td>housing transactions</td>\n",
       "      <td>40-49</td>\n",
       "    </tr>\n",
       "    <tr>\n",
       "      <th>7</th>\n",
       "      <td>0</td>\n",
       "      <td>152.779569</td>\n",
       "      <td>50</td>\n",
       "      <td>secondary education</td>\n",
       "      <td>1</td>\n",
       "      <td>married</td>\n",
       "      <td>0</td>\n",
       "      <td>M</td>\n",
       "      <td>employee</td>\n",
       "      <td>0</td>\n",
       "      <td>21731.829</td>\n",
       "      <td>education</td>\n",
       "      <td>50-59</td>\n",
       "    </tr>\n",
       "    <tr>\n",
       "      <th>8</th>\n",
       "      <td>2</td>\n",
       "      <td>6929.865299</td>\n",
       "      <td>35</td>\n",
       "      <td>bachelor's degree</td>\n",
       "      <td>0</td>\n",
       "      <td>civil partnership</td>\n",
       "      <td>1</td>\n",
       "      <td>F</td>\n",
       "      <td>employee</td>\n",
       "      <td>0</td>\n",
       "      <td>15337.093</td>\n",
       "      <td>having a wedding</td>\n",
       "      <td>30-39</td>\n",
       "    </tr>\n",
       "    <tr>\n",
       "      <th>9</th>\n",
       "      <td>0</td>\n",
       "      <td>2188.756445</td>\n",
       "      <td>41</td>\n",
       "      <td>secondary education</td>\n",
       "      <td>1</td>\n",
       "      <td>married</td>\n",
       "      <td>0</td>\n",
       "      <td>M</td>\n",
       "      <td>employee</td>\n",
       "      <td>0</td>\n",
       "      <td>23108.150</td>\n",
       "      <td>purchase of the house for my family</td>\n",
       "      <td>40-49</td>\n",
       "    </tr>\n",
       "  </tbody>\n",
       "</table>\n",
       "</div>"
      ],
      "text/plain": [
       "   children  days_employed  dob_years            education  education_id  \\\n",
       "0         1    8437.673028         42    bachelor's degree             0   \n",
       "1         1    4024.803754         36  secondary education             1   \n",
       "2         0    5623.422610         33  secondary education             1   \n",
       "3         3    4124.747207         32  secondary education             1   \n",
       "4         0  340266.072047         53  secondary education             1   \n",
       "5         0     926.185831         27    bachelor's degree             0   \n",
       "6         0    2879.202052         43    bachelor's degree             0   \n",
       "7         0     152.779569         50  secondary education             1   \n",
       "8         2    6929.865299         35    bachelor's degree             0   \n",
       "9         0    2188.756445         41  secondary education             1   \n",
       "\n",
       "       family_status  family_status_id gender income_type  debt  total_income  \\\n",
       "0            married                 0      F    employee     0     40620.102   \n",
       "1            married                 0      F    employee     0     17932.802   \n",
       "2            married                 0      M    employee     0     23341.752   \n",
       "3            married                 0      M    employee     0     42820.568   \n",
       "4  civil partnership                 1      F     retiree     0     25378.572   \n",
       "5  civil partnership                 1      M    business     0     40922.170   \n",
       "6            married                 0      F    business     0     38484.156   \n",
       "7            married                 0      M    employee     0     21731.829   \n",
       "8  civil partnership                 1      F    employee     0     15337.093   \n",
       "9            married                 0      M    employee     0     23108.150   \n",
       "\n",
       "                               purpose age_category  \n",
       "0                purchase of the house        40-49  \n",
       "1                         car purchase        30-39  \n",
       "2                purchase of the house        30-39  \n",
       "3              supplementary education        30-39  \n",
       "4                    to have a wedding        50-59  \n",
       "5                purchase of the house        20-29  \n",
       "6                 housing transactions        40-49  \n",
       "7                            education        50-59  \n",
       "8                     having a wedding        30-39  \n",
       "9  purchase of the house for my family        40-49  "
      ]
     },
     "execution_count": 42,
     "metadata": {},
     "output_type": "execute_result"
    }
   ],
   "source": [
    "# Verificar como os valores na nova coluna\n",
    "credit_scoring.head(10)"
   ]
  },
  {
   "cell_type": "markdown",
   "metadata": {},
   "source": [
    "<div class=\"alert alert-block alert-success\">\n",
    "<b> Comentário do revisor: </b> <a class=\"tocSkip\"></a>\n",
    "\n",
    "Otima função! Ficou bem interessante essa categorização por decada!\n",
    "    \n",
    "</div>"
   ]
  },
  {
   "cell_type": "code",
   "execution_count": 43,
   "metadata": {},
   "outputs": [
    {
     "name": "stdout",
     "output_type": "stream",
     "text": [
      "<class 'pandas.core.frame.DataFrame'>\n",
      "Int64Index: 19149 entries, 0 to 21229\n",
      "Data columns (total 13 columns):\n",
      " #   Column            Non-Null Count  Dtype  \n",
      "---  ------            --------------  -----  \n",
      " 0   children          19149 non-null  int64  \n",
      " 1   days_employed     19149 non-null  float64\n",
      " 2   dob_years         19149 non-null  int64  \n",
      " 3   education         19149 non-null  object \n",
      " 4   education_id      19149 non-null  int64  \n",
      " 5   family_status     19149 non-null  object \n",
      " 6   family_status_id  19149 non-null  int64  \n",
      " 7   gender            19149 non-null  object \n",
      " 8   income_type       19149 non-null  object \n",
      " 9   debt              19149 non-null  int64  \n",
      " 10  total_income      19149 non-null  float64\n",
      " 11  purpose           19149 non-null  object \n",
      " 12  age_category      19149 non-null  object \n",
      "dtypes: float64(2), int64(5), object(6)\n",
      "memory usage: 2.0+ MB\n"
     ]
    }
   ],
   "source": [
    "# Crie uma tabela sem valores ausentes e exiba algumas de suas linhas para garantir que ela fique boa\n",
    "credit_scoring_filter = credit_scoring[pd.notnull(credit_scoring['total_income'])]\n",
    "credit_scoring_filter.info()"
   ]
  },
  {
   "cell_type": "markdown",
   "metadata": {},
   "source": [
    "<div class=\"alert alert-block alert-success\">\n",
    "<b> Comentário do revisor: </b> <a class=\"tocSkip\"></a>\n",
    "\n",
    "Gostei do uso do notnull para essa analise\n",
    "</div>"
   ]
  },
  {
   "cell_type": "code",
   "execution_count": 44,
   "metadata": {},
   "outputs": [],
   "source": [
    "# Veja os valores médios de renda com base em seus fatores identificados\n",
    "cs_filter_pivot = credit_scoring_filter.pivot_table(index = ['education','age_category'], values='total_income', aggfunc = 'mean')"
   ]
  },
  {
   "cell_type": "code",
   "execution_count": 45,
   "metadata": {
    "scrolled": true
   },
   "outputs": [
    {
     "data": {
      "text/html": [
       "<div>\n",
       "<style scoped>\n",
       "    .dataframe tbody tr th:only-of-type {\n",
       "        vertical-align: middle;\n",
       "    }\n",
       "\n",
       "    .dataframe tbody tr th {\n",
       "        vertical-align: top;\n",
       "    }\n",
       "\n",
       "    .dataframe thead th {\n",
       "        text-align: right;\n",
       "    }\n",
       "</style>\n",
       "<table border=\"1\" class=\"dataframe\">\n",
       "  <thead>\n",
       "    <tr style=\"text-align: right;\">\n",
       "      <th></th>\n",
       "      <th></th>\n",
       "      <th>total_income</th>\n",
       "    </tr>\n",
       "    <tr>\n",
       "      <th>education</th>\n",
       "      <th>age_category</th>\n",
       "      <th></th>\n",
       "    </tr>\n",
       "  </thead>\n",
       "  <tbody>\n",
       "    <tr>\n",
       "      <th rowspan=\"6\" valign=\"top\">bachelor's degree</th>\n",
       "      <th>+70</th>\n",
       "      <td>26173.068696</td>\n",
       "    </tr>\n",
       "    <tr>\n",
       "      <th>20-29</th>\n",
       "      <td>29382.496556</td>\n",
       "    </tr>\n",
       "    <tr>\n",
       "      <th>30-39</th>\n",
       "      <td>34263.111162</td>\n",
       "    </tr>\n",
       "    <tr>\n",
       "      <th>40-49</th>\n",
       "      <td>35762.892649</td>\n",
       "    </tr>\n",
       "    <tr>\n",
       "      <th>50-59</th>\n",
       "      <td>33626.170902</td>\n",
       "    </tr>\n",
       "    <tr>\n",
       "      <th>60-69</th>\n",
       "      <td>30338.012779</td>\n",
       "    </tr>\n",
       "    <tr>\n",
       "      <th rowspan=\"4\" valign=\"top\">graduate degree</th>\n",
       "      <th>30-39</th>\n",
       "      <td>18187.301500</td>\n",
       "    </tr>\n",
       "    <tr>\n",
       "      <th>40-49</th>\n",
       "      <td>31771.321000</td>\n",
       "    </tr>\n",
       "    <tr>\n",
       "      <th>50-59</th>\n",
       "      <td>42945.794000</td>\n",
       "    </tr>\n",
       "    <tr>\n",
       "      <th>60-69</th>\n",
       "      <td>28334.215000</td>\n",
       "    </tr>\n",
       "    <tr>\n",
       "      <th rowspan=\"6\" valign=\"top\">primary education</th>\n",
       "      <th>+70</th>\n",
       "      <td>18892.886000</td>\n",
       "    </tr>\n",
       "    <tr>\n",
       "      <th>20-29</th>\n",
       "      <td>27695.271520</td>\n",
       "    </tr>\n",
       "    <tr>\n",
       "      <th>30-39</th>\n",
       "      <td>21979.584515</td>\n",
       "    </tr>\n",
       "    <tr>\n",
       "      <th>40-49</th>\n",
       "      <td>23618.267667</td>\n",
       "    </tr>\n",
       "    <tr>\n",
       "      <th>50-59</th>\n",
       "      <td>17797.322623</td>\n",
       "    </tr>\n",
       "    <tr>\n",
       "      <th>60-69</th>\n",
       "      <td>18710.592883</td>\n",
       "    </tr>\n",
       "    <tr>\n",
       "      <th rowspan=\"7\" valign=\"top\">secondary education</th>\n",
       "      <th>+70</th>\n",
       "      <td>19245.043953</td>\n",
       "    </tr>\n",
       "    <tr>\n",
       "      <th>18-19</th>\n",
       "      <td>16011.592250</td>\n",
       "    </tr>\n",
       "    <tr>\n",
       "      <th>20-29</th>\n",
       "      <td>23432.406626</td>\n",
       "    </tr>\n",
       "    <tr>\n",
       "      <th>30-39</th>\n",
       "      <td>25644.051001</td>\n",
       "    </tr>\n",
       "    <tr>\n",
       "      <th>40-49</th>\n",
       "      <td>26200.754161</td>\n",
       "    </tr>\n",
       "    <tr>\n",
       "      <th>50-59</th>\n",
       "      <td>24045.961273</td>\n",
       "    </tr>\n",
       "    <tr>\n",
       "      <th>60-69</th>\n",
       "      <td>21697.500807</td>\n",
       "    </tr>\n",
       "    <tr>\n",
       "      <th rowspan=\"7\" valign=\"top\">some college</th>\n",
       "      <th>+70</th>\n",
       "      <td>13917.989667</td>\n",
       "    </tr>\n",
       "    <tr>\n",
       "      <th>18-19</th>\n",
       "      <td>18565.702800</td>\n",
       "    </tr>\n",
       "    <tr>\n",
       "      <th>20-29</th>\n",
       "      <td>25411.042785</td>\n",
       "    </tr>\n",
       "    <tr>\n",
       "      <th>30-39</th>\n",
       "      <td>32041.530075</td>\n",
       "    </tr>\n",
       "    <tr>\n",
       "      <th>40-49</th>\n",
       "      <td>33703.486528</td>\n",
       "    </tr>\n",
       "    <tr>\n",
       "      <th>50-59</th>\n",
       "      <td>27623.492353</td>\n",
       "    </tr>\n",
       "    <tr>\n",
       "      <th>60-69</th>\n",
       "      <td>29570.940682</td>\n",
       "    </tr>\n",
       "  </tbody>\n",
       "</table>\n",
       "</div>"
      ],
      "text/plain": [
       "                                  total_income\n",
       "education           age_category              \n",
       "bachelor's degree   +70           26173.068696\n",
       "                    20-29         29382.496556\n",
       "                    30-39         34263.111162\n",
       "                    40-49         35762.892649\n",
       "                    50-59         33626.170902\n",
       "                    60-69         30338.012779\n",
       "graduate degree     30-39         18187.301500\n",
       "                    40-49         31771.321000\n",
       "                    50-59         42945.794000\n",
       "                    60-69         28334.215000\n",
       "primary education   +70           18892.886000\n",
       "                    20-29         27695.271520\n",
       "                    30-39         21979.584515\n",
       "                    40-49         23618.267667\n",
       "                    50-59         17797.322623\n",
       "                    60-69         18710.592883\n",
       "secondary education +70           19245.043953\n",
       "                    18-19         16011.592250\n",
       "                    20-29         23432.406626\n",
       "                    30-39         25644.051001\n",
       "                    40-49         26200.754161\n",
       "                    50-59         24045.961273\n",
       "                    60-69         21697.500807\n",
       "some college        +70           13917.989667\n",
       "                    18-19         18565.702800\n",
       "                    20-29         25411.042785\n",
       "                    30-39         32041.530075\n",
       "                    40-49         33703.486528\n",
       "                    50-59         27623.492353\n",
       "                    60-69         29570.940682"
      ]
     },
     "execution_count": 45,
     "metadata": {},
     "output_type": "execute_result"
    }
   ],
   "source": [
    "# Veja os valores medianos de renda com base em seus fatores identificados\n",
    "cs_filter_pivot"
   ]
  },
  {
   "cell_type": "markdown",
   "metadata": {},
   "source": [
    "A renda muitas vezes é definida pelo nivel de formação e pela experiencia da pessoa. Por este motivo sera utilizado as colunas \"education\" e \"age_category\" para definir um valor médio para \"total_income\"."
   ]
  },
  {
   "cell_type": "code",
   "execution_count": 46,
   "metadata": {},
   "outputs": [],
   "source": [
    "#  Escreva uma função que usaremos para preencher os valores ausentes\n",
    "def fill_total_income(row):\n",
    "    if pd.isna(row['total_income']):\n",
    "        return cs_filter_pivot['total_income'][row['education']][row['age_category']]\n",
    "    return row['total_income']"
   ]
  },
  {
   "cell_type": "code",
   "execution_count": 47,
   "metadata": {},
   "outputs": [],
   "source": [
    "# Aplique em todas as linhas\n",
    "credit_scoring['total_income'] = credit_scoring.apply(fill_total_income, axis=1)"
   ]
  },
  {
   "cell_type": "code",
   "execution_count": 48,
   "metadata": {},
   "outputs": [
    {
     "name": "stdout",
     "output_type": "stream",
     "text": [
      "<class 'pandas.core.frame.DataFrame'>\n",
      "RangeIndex: 21230 entries, 0 to 21229\n",
      "Data columns (total 13 columns):\n",
      " #   Column            Non-Null Count  Dtype  \n",
      "---  ------            --------------  -----  \n",
      " 0   children          21230 non-null  int64  \n",
      " 1   days_employed     19149 non-null  float64\n",
      " 2   dob_years         21230 non-null  int64  \n",
      " 3   education         21230 non-null  object \n",
      " 4   education_id      21230 non-null  int64  \n",
      " 5   family_status     21230 non-null  object \n",
      " 6   family_status_id  21230 non-null  int64  \n",
      " 7   gender            21230 non-null  object \n",
      " 8   income_type       21230 non-null  object \n",
      " 9   debt              21230 non-null  int64  \n",
      " 10  total_income      21230 non-null  float64\n",
      " 11  purpose           21230 non-null  object \n",
      " 12  age_category      21230 non-null  object \n",
      "dtypes: float64(2), int64(5), object(6)\n",
      "memory usage: 2.1+ MB\n"
     ]
    }
   ],
   "source": [
    "# Verifique se temos algum erro\n",
    "credit_scoring.info()"
   ]
  },
  {
   "cell_type": "markdown",
   "metadata": {},
   "source": [
    "<div class=\"alert alert-block alert-success\">\n",
    "<b> Comentário do revisor: </b> <a class=\"tocSkip\"></a>\n",
    "\n",
    "Muito bom. A analise da pivot_table, e a criaçao da função para substituir esses valores nulos ficou otima\n",
    "</div>"
   ]
  },
  {
   "cell_type": "markdown",
   "metadata": {},
   "source": [
    "###  Restaurar valores em `days_employed`"
   ]
  },
  {
   "cell_type": "markdown",
   "metadata": {},
   "source": [
    "[Pense nos parâmetros que podem ajudá-lo a restaurar os valores ausentes nesta coluna. Eventualmente, você desejará descobrir se deve usar valores médios ou medianos para substituir valores ausentes. Você provavelmente fará uma pesquisa semelhante à que fez ao restaurar dados em uma coluna anterior.]"
   ]
  },
  {
   "cell_type": "code",
   "execution_count": 49,
   "metadata": {
    "pycharm": {
     "name": "#%%\n"
    }
   },
   "outputs": [
    {
     "data": {
      "text/plain": [
       "age_category\n",
       "+70      361336.993449\n",
       "18-19       724.492610\n",
       "20-29      1005.629955\n",
       "30-39      1601.919871\n",
       "40-49      2112.694563\n",
       "50-59      4823.464469\n",
       "60-69    354932.869424\n",
       "Name: days_employed, dtype: float64"
      ]
     },
     "execution_count": 49,
     "metadata": {},
     "output_type": "execute_result"
    }
   ],
   "source": [
    "# Distribuição de `days_employed` medianos com base em seus parâmetros identificados\n",
    "credit_scoring.groupby('age_category')['days_employed'].median()"
   ]
  },
  {
   "cell_type": "code",
   "execution_count": 50,
   "metadata": {},
   "outputs": [
    {
     "data": {
      "text/plain": [
       "age_category\n",
       "+70      320819.151927\n",
       "18-19       633.678086\n",
       "20-29      1969.963146\n",
       "30-39      4168.767451\n",
       "40-49     12308.569630\n",
       "50-59    133225.884547\n",
       "60-69    283789.958296\n",
       "Name: days_employed, dtype: float64"
      ]
     },
     "execution_count": 50,
     "metadata": {},
     "output_type": "execute_result"
    }
   ],
   "source": [
    "# Distribuição de `days_employed` médios com base em seus parâmetros identificados\n",
    "credit_scoring.groupby('age_category')['days_employed'].mean()"
   ]
  },
  {
   "cell_type": "markdown",
   "metadata": {},
   "source": [
    "Os valores que estão fora do padrão aceitável serão alterados pelo valor médio de dias trabalhados para cada categoria de idade correspondente. \n",
    "Adotou-se como valor máximo aceitavel a idade do cliente menos 18, que é o valor em anos que uma pessoa atinge a maiorida legal.\n",
    "Exemplo:\n",
    "Se o cliente possui 63 anos, o valor máximo de dias trabalhados deve ser a quantidade de dias que correspondam a 45 anos (60 - 18)"
   ]
  },
  {
   "cell_type": "markdown",
   "metadata": {},
   "source": [
    "<div class=\"alert alert-block alert-success\">\n",
    "<b> Comentário do revisor: </b> <a class=\"tocSkip\"></a>\n",
    "\n",
    "É importante analisar a media e mediana!\n",
    "    \n",
    "</div>"
   ]
  },
  {
   "cell_type": "code",
   "execution_count": 51,
   "metadata": {},
   "outputs": [
    {
     "name": "stdout",
     "output_type": "stream",
     "text": [
      "<class 'pandas.core.frame.DataFrame'>\n",
      "RangeIndex: 21230 entries, 0 to 21229\n",
      "Data columns (total 13 columns):\n",
      " #   Column            Non-Null Count  Dtype  \n",
      "---  ------            --------------  -----  \n",
      " 0   children          21230 non-null  int64  \n",
      " 1   days_employed     19149 non-null  float64\n",
      " 2   dob_years         21230 non-null  int64  \n",
      " 3   education         21230 non-null  object \n",
      " 4   education_id      21230 non-null  int64  \n",
      " 5   family_status     21230 non-null  object \n",
      " 6   family_status_id  21230 non-null  int64  \n",
      " 7   gender            21230 non-null  object \n",
      " 8   income_type       21230 non-null  object \n",
      " 9   debt              21230 non-null  int64  \n",
      " 10  total_income      21230 non-null  float64\n",
      " 11  purpose           21230 non-null  object \n",
      " 12  age_category      21230 non-null  object \n",
      "dtypes: float64(2), int64(5), object(6)\n",
      "memory usage: 2.1+ MB\n"
     ]
    }
   ],
   "source": [
    "# Verifique se a função funcionou\n",
    "credit_scoring.info()"
   ]
  },
  {
   "cell_type": "code",
   "execution_count": 52,
   "metadata": {},
   "outputs": [],
   "source": [
    "#Remover outliers da coluna \"days_employed\"\n",
    "credit_scoring.loc[(credit_scoring['days_employed']/365) > (credit_scoring['dob_years']-18), 'days_employed'] = float('NaN')"
   ]
  },
  {
   "cell_type": "markdown",
   "metadata": {},
   "source": [
    "<div class=\"alert alert-block alert-warning\">\n",
    "<b> Comentário do revisor: </b> <a class=\"tocSkip\"></a>\n",
    "\n",
    "Excelente analise, faz sentido essa substituição desses valores discrepantes. É interessante analisar também a porcentagem de dados que estao sendo alterados! \n",
    "</div>"
   ]
  },
  {
   "cell_type": "code",
   "execution_count": 53,
   "metadata": {},
   "outputs": [],
   "source": [
    "# Preencher valores ausentes\n",
    "credit_scoring['days_employed'] = credit_scoring['days_employed'].fillna(credit_scoring.groupby('age_category')['days_employed'].transform('mean'))"
   ]
  },
  {
   "cell_type": "code",
   "execution_count": 54,
   "metadata": {},
   "outputs": [
    {
     "name": "stdout",
     "output_type": "stream",
     "text": [
      "<class 'pandas.core.frame.DataFrame'>\n",
      "RangeIndex: 21230 entries, 0 to 21229\n",
      "Data columns (total 13 columns):\n",
      " #   Column            Non-Null Count  Dtype  \n",
      "---  ------            --------------  -----  \n",
      " 0   children          21230 non-null  int64  \n",
      " 1   days_employed     21230 non-null  float64\n",
      " 2   dob_years         21230 non-null  int64  \n",
      " 3   education         21230 non-null  object \n",
      " 4   education_id      21230 non-null  int64  \n",
      " 5   family_status     21230 non-null  object \n",
      " 6   family_status_id  21230 non-null  int64  \n",
      " 7   gender            21230 non-null  object \n",
      " 8   income_type       21230 non-null  object \n",
      " 9   debt              21230 non-null  int64  \n",
      " 10  total_income      21230 non-null  float64\n",
      " 11  purpose           21230 non-null  object \n",
      " 12  age_category      21230 non-null  object \n",
      "dtypes: float64(2), int64(5), object(6)\n",
      "memory usage: 2.1+ MB\n"
     ]
    }
   ],
   "source": [
    "# Verifique as entradas em todas as colunas - certifique-se de corrigir todos os valores ausentes\n",
    "credit_scoring.info()"
   ]
  },
  {
   "cell_type": "markdown",
   "metadata": {},
   "source": [
    "<div class=\"alert alert-block alert-success\">\n",
    "<b> Comentário do revisor: </b> <a class=\"tocSkip\"></a>\n",
    "\n",
    "Excelent uso do transform\n",
    "</div>"
   ]
  },
  {
   "cell_type": "markdown",
   "metadata": {},
   "source": [
    "## Categorização de dados\n"
   ]
  },
  {
   "cell_type": "markdown",
   "metadata": {},
   "source": [
    "A coluna \"total_income\" será categorizada da seguinte maneira:\n",
    "   - total_income < 10.000: Nivel 1\n",
    "   - 10.000 < total_income < 20.000: Nivel 2  \n",
    "   - 20.000 < total_income < 30.000: Nivel 3\n",
    "   - 30.000 < total_income < 40.000: Nivel 4\n",
    "   - 40.000 < total_income: Nivel 5     "
   ]
  },
  {
   "cell_type": "markdown",
   "metadata": {},
   "source": [
    "<div class=\"alert alert-block alert-success\">\n",
    "<b> Comentário do revisor: </b> <a class=\"tocSkip\"></a>\n",
    "\n",
    "Excelente!\n",
    "</div>"
   ]
  },
  {
   "cell_type": "code",
   "execution_count": 55,
   "metadata": {
    "scrolled": true
   },
   "outputs": [
    {
     "data": {
      "text/plain": [
       "0        40620.102\n",
       "1        17932.802\n",
       "2        23341.752\n",
       "3        42820.568\n",
       "4        25378.572\n",
       "           ...    \n",
       "21225    35966.698\n",
       "21226    24959.969\n",
       "21227    14347.610\n",
       "21228    39054.888\n",
       "21229    13127.587\n",
       "Name: total_income, Length: 21230, dtype: float64"
      ]
     },
     "execution_count": 55,
     "metadata": {},
     "output_type": "execute_result"
    }
   ],
   "source": [
    "# Exiba os valores dos dados selecionados para categorização\n",
    "credit_scoring['total_income']\n"
   ]
  },
  {
   "cell_type": "code",
   "execution_count": 56,
   "metadata": {},
   "outputs": [
    {
     "data": {
      "text/plain": [
       "0.0      3306.762000\n",
       "0.1     12597.063900\n",
       "0.2     15764.349000\n",
       "0.3     18555.749500\n",
       "0.4     21638.419000\n",
       "0.5     24045.961273\n",
       "0.6     26200.754161\n",
       "0.7     29900.771300\n",
       "0.8     34689.700800\n",
       "0.9     43174.780800\n",
       "1.0    362496.645000\n",
       "Name: total_income, dtype: float64"
      ]
     },
     "execution_count": 56,
     "metadata": {},
     "output_type": "execute_result"
    }
   ],
   "source": [
    "credit_scoring['total_income'].quantile(np.linspace(0, 1, 11))"
   ]
  },
  {
   "cell_type": "markdown",
   "metadata": {},
   "source": [
    "<div class=\"alert alert-block alert-success\">\n",
    "<b> Comentário do revisor: </b> <a class=\"tocSkip\"></a>\n",
    "\n",
    "Bom uso do linspace, fica melhor para a gente analisar essa distribuição da renda\n",
    "</div>"
   ]
  },
  {
   "cell_type": "code",
   "execution_count": 57,
   "metadata": {},
   "outputs": [],
   "source": [
    "# Vamos escrever uma função para categorizar os dados com base em tópicos comunss\n",
    "def categoriza_renda(row):\n",
    "    if (row['total_income'] < 10000):\n",
    "        return 'Nivel 1'\n",
    "    elif (row['total_income'] < 20000):\n",
    "        return 'Nivel 2'\n",
    "    elif (row['total_income'] < 30000):\n",
    "        return 'Nivel 3'\n",
    "    elif (row['total_income'] < 40000):\n",
    "        return 'Nivel 4'\n",
    "    else:\n",
    "        return 'Nivel 5'"
   ]
  },
  {
   "cell_type": "code",
   "execution_count": 58,
   "metadata": {},
   "outputs": [
    {
     "data": {
      "text/html": [
       "<div>\n",
       "<style scoped>\n",
       "    .dataframe tbody tr th:only-of-type {\n",
       "        vertical-align: middle;\n",
       "    }\n",
       "\n",
       "    .dataframe tbody tr th {\n",
       "        vertical-align: top;\n",
       "    }\n",
       "\n",
       "    .dataframe thead th {\n",
       "        text-align: right;\n",
       "    }\n",
       "</style>\n",
       "<table border=\"1\" class=\"dataframe\">\n",
       "  <thead>\n",
       "    <tr style=\"text-align: right;\">\n",
       "      <th></th>\n",
       "      <th>children</th>\n",
       "      <th>days_employed</th>\n",
       "      <th>dob_years</th>\n",
       "      <th>education</th>\n",
       "      <th>education_id</th>\n",
       "      <th>family_status</th>\n",
       "      <th>family_status_id</th>\n",
       "      <th>gender</th>\n",
       "      <th>income_type</th>\n",
       "      <th>debt</th>\n",
       "      <th>total_income</th>\n",
       "      <th>purpose</th>\n",
       "      <th>age_category</th>\n",
       "      <th>nivel_renda</th>\n",
       "    </tr>\n",
       "  </thead>\n",
       "  <tbody>\n",
       "    <tr>\n",
       "      <th>0</th>\n",
       "      <td>1</td>\n",
       "      <td>8437.673028</td>\n",
       "      <td>42</td>\n",
       "      <td>bachelor's degree</td>\n",
       "      <td>0</td>\n",
       "      <td>married</td>\n",
       "      <td>0</td>\n",
       "      <td>F</td>\n",
       "      <td>employee</td>\n",
       "      <td>0</td>\n",
       "      <td>40620.102</td>\n",
       "      <td>purchase of the house</td>\n",
       "      <td>40-49</td>\n",
       "      <td>Nivel 5</td>\n",
       "    </tr>\n",
       "    <tr>\n",
       "      <th>1</th>\n",
       "      <td>1</td>\n",
       "      <td>4024.803754</td>\n",
       "      <td>36</td>\n",
       "      <td>secondary education</td>\n",
       "      <td>1</td>\n",
       "      <td>married</td>\n",
       "      <td>0</td>\n",
       "      <td>F</td>\n",
       "      <td>employee</td>\n",
       "      <td>0</td>\n",
       "      <td>17932.802</td>\n",
       "      <td>car purchase</td>\n",
       "      <td>30-39</td>\n",
       "      <td>Nivel 2</td>\n",
       "    </tr>\n",
       "    <tr>\n",
       "      <th>2</th>\n",
       "      <td>0</td>\n",
       "      <td>1924.323637</td>\n",
       "      <td>33</td>\n",
       "      <td>secondary education</td>\n",
       "      <td>1</td>\n",
       "      <td>married</td>\n",
       "      <td>0</td>\n",
       "      <td>M</td>\n",
       "      <td>employee</td>\n",
       "      <td>0</td>\n",
       "      <td>23341.752</td>\n",
       "      <td>purchase of the house</td>\n",
       "      <td>30-39</td>\n",
       "      <td>Nivel 3</td>\n",
       "    </tr>\n",
       "    <tr>\n",
       "      <th>3</th>\n",
       "      <td>3</td>\n",
       "      <td>4124.747207</td>\n",
       "      <td>32</td>\n",
       "      <td>secondary education</td>\n",
       "      <td>1</td>\n",
       "      <td>married</td>\n",
       "      <td>0</td>\n",
       "      <td>M</td>\n",
       "      <td>employee</td>\n",
       "      <td>0</td>\n",
       "      <td>42820.568</td>\n",
       "      <td>supplementary education</td>\n",
       "      <td>30-39</td>\n",
       "      <td>Nivel 5</td>\n",
       "    </tr>\n",
       "    <tr>\n",
       "      <th>4</th>\n",
       "      <td>0</td>\n",
       "      <td>3166.064885</td>\n",
       "      <td>53</td>\n",
       "      <td>secondary education</td>\n",
       "      <td>1</td>\n",
       "      <td>civil partnership</td>\n",
       "      <td>1</td>\n",
       "      <td>F</td>\n",
       "      <td>retiree</td>\n",
       "      <td>0</td>\n",
       "      <td>25378.572</td>\n",
       "      <td>to have a wedding</td>\n",
       "      <td>50-59</td>\n",
       "      <td>Nivel 3</td>\n",
       "    </tr>\n",
       "  </tbody>\n",
       "</table>\n",
       "</div>"
      ],
      "text/plain": [
       "   children  days_employed  dob_years            education  education_id  \\\n",
       "0         1    8437.673028         42    bachelor's degree             0   \n",
       "1         1    4024.803754         36  secondary education             1   \n",
       "2         0    1924.323637         33  secondary education             1   \n",
       "3         3    4124.747207         32  secondary education             1   \n",
       "4         0    3166.064885         53  secondary education             1   \n",
       "\n",
       "       family_status  family_status_id gender income_type  debt  total_income  \\\n",
       "0            married                 0      F    employee     0     40620.102   \n",
       "1            married                 0      F    employee     0     17932.802   \n",
       "2            married                 0      M    employee     0     23341.752   \n",
       "3            married                 0      M    employee     0     42820.568   \n",
       "4  civil partnership                 1      F     retiree     0     25378.572   \n",
       "\n",
       "                   purpose age_category nivel_renda  \n",
       "0    purchase of the house        40-49     Nivel 5  \n",
       "1             car purchase        30-39     Nivel 2  \n",
       "2    purchase of the house        30-39     Nivel 3  \n",
       "3  supplementary education        30-39     Nivel 5  \n",
       "4        to have a wedding        50-59     Nivel 3  "
      ]
     },
     "execution_count": 58,
     "metadata": {},
     "output_type": "execute_result"
    }
   ],
   "source": [
    "# Crie uma coluna com as categorias e conte os valores para elas\n",
    "credit_scoring['nivel_renda'] = credit_scoring.apply(categoriza_renda, axis = 1)\n",
    "credit_scoring.head()"
   ]
  },
  {
   "cell_type": "markdown",
   "metadata": {},
   "source": [
    "<div class=\"alert alert-block alert-success\">\n",
    "<b> Comentário do revisor: </b> <a class=\"tocSkip\"></a>\n",
    "\n",
    "Categorização foi feita corretamente!\n",
    "</div>"
   ]
  },
  {
   "cell_type": "markdown",
   "metadata": {},
   "source": [
    "[Se você decidir categorizar os dados numéricos, também precisará criar as categorias para isso.]"
   ]
  },
  {
   "cell_type": "code",
   "execution_count": 59,
   "metadata": {},
   "outputs": [
    {
     "data": {
      "text/plain": [
       "array(['purchase of the house', 'car purchase', 'supplementary education',\n",
       "       'to have a wedding', 'housing transactions', 'education',\n",
       "       'having a wedding', 'purchase of the house for my family',\n",
       "       'buy real estate', 'buy commercial real estate',\n",
       "       'buy residential real estate', 'construction of own property',\n",
       "       'property', 'building a property', 'buying a second-hand car',\n",
       "       'buying my own car', 'transactions with commercial real estate',\n",
       "       'building a real estate', 'housing',\n",
       "       'transactions with my real estate', 'cars', 'to become educated',\n",
       "       'second-hand car purchase', 'getting an education', 'car',\n",
       "       'wedding ceremony', 'to get a supplementary education',\n",
       "       'purchase of my own house', 'real estate transactions',\n",
       "       'getting higher education', 'to own a car', 'purchase of a car',\n",
       "       'profile education', 'university education',\n",
       "       'buying property for renting out', 'to buy a car',\n",
       "       'housing renovation', 'going to university'], dtype=object)"
      ]
     },
     "execution_count": 59,
     "metadata": {},
     "output_type": "execute_result"
    }
   ],
   "source": [
    "# Examinar todos os dados numéricos em sua coluna selecionada para categorização\n",
    "credit_scoring['purpose'].unique()"
   ]
  },
  {
   "cell_type": "code",
   "execution_count": 60,
   "metadata": {},
   "outputs": [
    {
     "data": {
      "text/plain": [
       "count                21230\n",
       "unique                  38\n",
       "top       wedding ceremony\n",
       "freq                   785\n",
       "Name: purpose, dtype: object"
      ]
     },
     "execution_count": 60,
     "metadata": {},
     "output_type": "execute_result"
    }
   ],
   "source": [
    "# Obter estatísticas resumidas para a coluna\n",
    "credit_scoring['purpose'].describe()\n"
   ]
  },
  {
   "cell_type": "markdown",
   "metadata": {},
   "source": [
    "[Decida quais intervalos você usará para agrupar e explique por quê.]"
   ]
  },
  {
   "cell_type": "code",
   "execution_count": 61,
   "metadata": {},
   "outputs": [],
   "source": [
    "# Criar função para categorização em diferentes grupos numéricos com base em intervalos\n",
    "def categoriza_puporse(row):\n",
    "    if ((row['purpose'].find('educat') != -1) or (row['purpose'].find('university') != -1)):\n",
    "        return 'Education'\n",
    "    if (row['purpose'].find('car') != -1):\n",
    "        return 'Car'\n",
    "    elif ((row['purpose'].find('house') != -1) or (row['purpose'].find('real estate') != -1) or\n",
    "          (row['purpose'].find('property') != -1) or (row['purpose'].find('housing') != -1) or\n",
    "          (row['purpose'].find('construction') != -1)) :\n",
    "        return 'Real Estate'\n",
    "    elif (row['purpose'].find('wedding') != -1):\n",
    "        return 'Wedding'\n",
    "    else:\n",
    "        return 'Other'\n"
   ]
  },
  {
   "cell_type": "markdown",
   "metadata": {},
   "source": [
    "<div class=\"alert alert-block alert-success\">\n",
    "<b> Comentário do revisor: </b> <a class=\"tocSkip\"></a>\n",
    "\n",
    "Excelente! A categorizção ficou muita boa. Gostei do uso no find\n",
    "</div>"
   ]
  },
  {
   "cell_type": "code",
   "execution_count": 62,
   "metadata": {},
   "outputs": [
    {
     "data": {
      "text/html": [
       "<div>\n",
       "<style scoped>\n",
       "    .dataframe tbody tr th:only-of-type {\n",
       "        vertical-align: middle;\n",
       "    }\n",
       "\n",
       "    .dataframe tbody tr th {\n",
       "        vertical-align: top;\n",
       "    }\n",
       "\n",
       "    .dataframe thead th {\n",
       "        text-align: right;\n",
       "    }\n",
       "</style>\n",
       "<table border=\"1\" class=\"dataframe\">\n",
       "  <thead>\n",
       "    <tr style=\"text-align: right;\">\n",
       "      <th></th>\n",
       "      <th>children</th>\n",
       "      <th>days_employed</th>\n",
       "      <th>dob_years</th>\n",
       "      <th>education</th>\n",
       "      <th>education_id</th>\n",
       "      <th>family_status</th>\n",
       "      <th>family_status_id</th>\n",
       "      <th>gender</th>\n",
       "      <th>income_type</th>\n",
       "      <th>debt</th>\n",
       "      <th>total_income</th>\n",
       "      <th>purpose</th>\n",
       "      <th>age_category</th>\n",
       "      <th>nivel_renda</th>\n",
       "      <th>cat_purpose</th>\n",
       "    </tr>\n",
       "  </thead>\n",
       "  <tbody>\n",
       "    <tr>\n",
       "      <th>0</th>\n",
       "      <td>1</td>\n",
       "      <td>8437.673028</td>\n",
       "      <td>42</td>\n",
       "      <td>bachelor's degree</td>\n",
       "      <td>0</td>\n",
       "      <td>married</td>\n",
       "      <td>0</td>\n",
       "      <td>F</td>\n",
       "      <td>employee</td>\n",
       "      <td>0</td>\n",
       "      <td>40620.102</td>\n",
       "      <td>purchase of the house</td>\n",
       "      <td>40-49</td>\n",
       "      <td>Nivel 5</td>\n",
       "      <td>Real Estate</td>\n",
       "    </tr>\n",
       "    <tr>\n",
       "      <th>1</th>\n",
       "      <td>1</td>\n",
       "      <td>4024.803754</td>\n",
       "      <td>36</td>\n",
       "      <td>secondary education</td>\n",
       "      <td>1</td>\n",
       "      <td>married</td>\n",
       "      <td>0</td>\n",
       "      <td>F</td>\n",
       "      <td>employee</td>\n",
       "      <td>0</td>\n",
       "      <td>17932.802</td>\n",
       "      <td>car purchase</td>\n",
       "      <td>30-39</td>\n",
       "      <td>Nivel 2</td>\n",
       "      <td>Car</td>\n",
       "    </tr>\n",
       "    <tr>\n",
       "      <th>2</th>\n",
       "      <td>0</td>\n",
       "      <td>1924.323637</td>\n",
       "      <td>33</td>\n",
       "      <td>secondary education</td>\n",
       "      <td>1</td>\n",
       "      <td>married</td>\n",
       "      <td>0</td>\n",
       "      <td>M</td>\n",
       "      <td>employee</td>\n",
       "      <td>0</td>\n",
       "      <td>23341.752</td>\n",
       "      <td>purchase of the house</td>\n",
       "      <td>30-39</td>\n",
       "      <td>Nivel 3</td>\n",
       "      <td>Real Estate</td>\n",
       "    </tr>\n",
       "    <tr>\n",
       "      <th>3</th>\n",
       "      <td>3</td>\n",
       "      <td>4124.747207</td>\n",
       "      <td>32</td>\n",
       "      <td>secondary education</td>\n",
       "      <td>1</td>\n",
       "      <td>married</td>\n",
       "      <td>0</td>\n",
       "      <td>M</td>\n",
       "      <td>employee</td>\n",
       "      <td>0</td>\n",
       "      <td>42820.568</td>\n",
       "      <td>supplementary education</td>\n",
       "      <td>30-39</td>\n",
       "      <td>Nivel 5</td>\n",
       "      <td>Education</td>\n",
       "    </tr>\n",
       "    <tr>\n",
       "      <th>4</th>\n",
       "      <td>0</td>\n",
       "      <td>3166.064885</td>\n",
       "      <td>53</td>\n",
       "      <td>secondary education</td>\n",
       "      <td>1</td>\n",
       "      <td>civil partnership</td>\n",
       "      <td>1</td>\n",
       "      <td>F</td>\n",
       "      <td>retiree</td>\n",
       "      <td>0</td>\n",
       "      <td>25378.572</td>\n",
       "      <td>to have a wedding</td>\n",
       "      <td>50-59</td>\n",
       "      <td>Nivel 3</td>\n",
       "      <td>Wedding</td>\n",
       "    </tr>\n",
       "    <tr>\n",
       "      <th>5</th>\n",
       "      <td>0</td>\n",
       "      <td>926.185831</td>\n",
       "      <td>27</td>\n",
       "      <td>bachelor's degree</td>\n",
       "      <td>0</td>\n",
       "      <td>civil partnership</td>\n",
       "      <td>1</td>\n",
       "      <td>M</td>\n",
       "      <td>business</td>\n",
       "      <td>0</td>\n",
       "      <td>40922.170</td>\n",
       "      <td>purchase of the house</td>\n",
       "      <td>20-29</td>\n",
       "      <td>Nivel 5</td>\n",
       "      <td>Real Estate</td>\n",
       "    </tr>\n",
       "    <tr>\n",
       "      <th>6</th>\n",
       "      <td>0</td>\n",
       "      <td>2879.202052</td>\n",
       "      <td>43</td>\n",
       "      <td>bachelor's degree</td>\n",
       "      <td>0</td>\n",
       "      <td>married</td>\n",
       "      <td>0</td>\n",
       "      <td>F</td>\n",
       "      <td>business</td>\n",
       "      <td>0</td>\n",
       "      <td>38484.156</td>\n",
       "      <td>housing transactions</td>\n",
       "      <td>40-49</td>\n",
       "      <td>Nivel 4</td>\n",
       "      <td>Real Estate</td>\n",
       "    </tr>\n",
       "    <tr>\n",
       "      <th>7</th>\n",
       "      <td>0</td>\n",
       "      <td>152.779569</td>\n",
       "      <td>50</td>\n",
       "      <td>secondary education</td>\n",
       "      <td>1</td>\n",
       "      <td>married</td>\n",
       "      <td>0</td>\n",
       "      <td>M</td>\n",
       "      <td>employee</td>\n",
       "      <td>0</td>\n",
       "      <td>21731.829</td>\n",
       "      <td>education</td>\n",
       "      <td>50-59</td>\n",
       "      <td>Nivel 3</td>\n",
       "      <td>Education</td>\n",
       "    </tr>\n",
       "    <tr>\n",
       "      <th>8</th>\n",
       "      <td>2</td>\n",
       "      <td>1924.323637</td>\n",
       "      <td>35</td>\n",
       "      <td>bachelor's degree</td>\n",
       "      <td>0</td>\n",
       "      <td>civil partnership</td>\n",
       "      <td>1</td>\n",
       "      <td>F</td>\n",
       "      <td>employee</td>\n",
       "      <td>0</td>\n",
       "      <td>15337.093</td>\n",
       "      <td>having a wedding</td>\n",
       "      <td>30-39</td>\n",
       "      <td>Nivel 2</td>\n",
       "      <td>Wedding</td>\n",
       "    </tr>\n",
       "    <tr>\n",
       "      <th>9</th>\n",
       "      <td>0</td>\n",
       "      <td>2188.756445</td>\n",
       "      <td>41</td>\n",
       "      <td>secondary education</td>\n",
       "      <td>1</td>\n",
       "      <td>married</td>\n",
       "      <td>0</td>\n",
       "      <td>M</td>\n",
       "      <td>employee</td>\n",
       "      <td>0</td>\n",
       "      <td>23108.150</td>\n",
       "      <td>purchase of the house for my family</td>\n",
       "      <td>40-49</td>\n",
       "      <td>Nivel 3</td>\n",
       "      <td>Real Estate</td>\n",
       "    </tr>\n",
       "  </tbody>\n",
       "</table>\n",
       "</div>"
      ],
      "text/plain": [
       "   children  days_employed  dob_years            education  education_id  \\\n",
       "0         1    8437.673028         42    bachelor's degree             0   \n",
       "1         1    4024.803754         36  secondary education             1   \n",
       "2         0    1924.323637         33  secondary education             1   \n",
       "3         3    4124.747207         32  secondary education             1   \n",
       "4         0    3166.064885         53  secondary education             1   \n",
       "5         0     926.185831         27    bachelor's degree             0   \n",
       "6         0    2879.202052         43    bachelor's degree             0   \n",
       "7         0     152.779569         50  secondary education             1   \n",
       "8         2    1924.323637         35    bachelor's degree             0   \n",
       "9         0    2188.756445         41  secondary education             1   \n",
       "\n",
       "       family_status  family_status_id gender income_type  debt  total_income  \\\n",
       "0            married                 0      F    employee     0     40620.102   \n",
       "1            married                 0      F    employee     0     17932.802   \n",
       "2            married                 0      M    employee     0     23341.752   \n",
       "3            married                 0      M    employee     0     42820.568   \n",
       "4  civil partnership                 1      F     retiree     0     25378.572   \n",
       "5  civil partnership                 1      M    business     0     40922.170   \n",
       "6            married                 0      F    business     0     38484.156   \n",
       "7            married                 0      M    employee     0     21731.829   \n",
       "8  civil partnership                 1      F    employee     0     15337.093   \n",
       "9            married                 0      M    employee     0     23108.150   \n",
       "\n",
       "                               purpose age_category nivel_renda  cat_purpose  \n",
       "0                purchase of the house        40-49     Nivel 5  Real Estate  \n",
       "1                         car purchase        30-39     Nivel 2          Car  \n",
       "2                purchase of the house        30-39     Nivel 3  Real Estate  \n",
       "3              supplementary education        30-39     Nivel 5    Education  \n",
       "4                    to have a wedding        50-59     Nivel 3      Wedding  \n",
       "5                purchase of the house        20-29     Nivel 5  Real Estate  \n",
       "6                 housing transactions        40-49     Nivel 4  Real Estate  \n",
       "7                            education        50-59     Nivel 3    Education  \n",
       "8                     having a wedding        30-39     Nivel 2      Wedding  \n",
       "9  purchase of the house for my family        40-49     Nivel 3  Real Estate  "
      ]
     },
     "execution_count": 62,
     "metadata": {},
     "output_type": "execute_result"
    }
   ],
   "source": [
    "# Criar coluna com categorias\n",
    "credit_scoring['cat_purpose'] = credit_scoring.apply(categoriza_puporse, axis = 1)\n",
    "credit_scoring.head(10)"
   ]
  },
  {
   "cell_type": "code",
   "execution_count": 63,
   "metadata": {
    "scrolled": true
   },
   "outputs": [
    {
     "data": {
      "text/plain": [
       "cat_purpose\n",
       "Car             4258\n",
       "Education       3970\n",
       "Real Estate    10703\n",
       "Wedding         2299\n",
       "Name: debt, dtype: int64"
      ]
     },
     "execution_count": 63,
     "metadata": {},
     "output_type": "execute_result"
    }
   ],
   "source": [
    "# Conte os valores de cada categoria para ver a distribuição\n",
    "credit_scoring.groupby('cat_purpose')['debt'].count()"
   ]
  },
  {
   "cell_type": "markdown",
   "metadata": {},
   "source": [
    "## Verificar as Hipóteses\n"
   ]
  },
  {
   "cell_type": "markdown",
   "metadata": {},
   "source": [
    "**Existe uma correlação entre o número de filhos e do pagamento em dia?**"
   ]
  },
  {
   "cell_type": "code",
   "execution_count": 65,
   "metadata": {},
   "outputs": [
    {
     "data": {
      "text/html": [
       "<div>\n",
       "<style scoped>\n",
       "    .dataframe tbody tr th:only-of-type {\n",
       "        vertical-align: middle;\n",
       "    }\n",
       "\n",
       "    .dataframe tbody tr th {\n",
       "        vertical-align: top;\n",
       "    }\n",
       "\n",
       "    .dataframe thead th {\n",
       "        text-align: right;\n",
       "    }\n",
       "</style>\n",
       "<table border=\"1\" class=\"dataframe\">\n",
       "  <thead>\n",
       "    <tr style=\"text-align: right;\">\n",
       "      <th>debt</th>\n",
       "      <th>0</th>\n",
       "      <th>1</th>\n",
       "      <th>taxa_inad</th>\n",
       "    </tr>\n",
       "    <tr>\n",
       "      <th>children</th>\n",
       "      <th></th>\n",
       "      <th></th>\n",
       "      <th></th>\n",
       "    </tr>\n",
       "  </thead>\n",
       "  <tbody>\n",
       "    <tr>\n",
       "      <th>0</th>\n",
       "      <td>12963.0</td>\n",
       "      <td>1058.0</td>\n",
       "      <td>7.545824</td>\n",
       "    </tr>\n",
       "    <tr>\n",
       "      <th>1</th>\n",
       "      <td>4351.0</td>\n",
       "      <td>441.0</td>\n",
       "      <td>9.202838</td>\n",
       "    </tr>\n",
       "    <tr>\n",
       "      <th>2</th>\n",
       "      <td>1845.0</td>\n",
       "      <td>194.0</td>\n",
       "      <td>9.514468</td>\n",
       "    </tr>\n",
       "    <tr>\n",
       "      <th>3</th>\n",
       "      <td>301.0</td>\n",
       "      <td>27.0</td>\n",
       "      <td>8.231707</td>\n",
       "    </tr>\n",
       "    <tr>\n",
       "      <th>4</th>\n",
       "      <td>37.0</td>\n",
       "      <td>4.0</td>\n",
       "      <td>9.756098</td>\n",
       "    </tr>\n",
       "    <tr>\n",
       "      <th>5</th>\n",
       "      <td>9.0</td>\n",
       "      <td>NaN</td>\n",
       "      <td>NaN</td>\n",
       "    </tr>\n",
       "  </tbody>\n",
       "</table>\n",
       "</div>"
      ],
      "text/plain": [
       "debt            0       1  taxa_inad\n",
       "children                            \n",
       "0         12963.0  1058.0   7.545824\n",
       "1          4351.0   441.0   9.202838\n",
       "2          1845.0   194.0   9.514468\n",
       "3           301.0    27.0   8.231707\n",
       "4            37.0     4.0   9.756098\n",
       "5             9.0     NaN        NaN"
      ]
     },
     "execution_count": 65,
     "metadata": {},
     "output_type": "execute_result"
    }
   ],
   "source": [
    "tab_children = credit_scoring.pivot_table(index='children', values='days_employed', columns='debt', aggfunc='count')\n",
    "# Calcular a taxa de inadimplência com base no número de filhos\n",
    "tab_children['taxa_inad'] = (tab_children[1])*100/(tab_children[0] + tab_children[1])\n",
    "tab_children"
   ]
  },
  {
   "cell_type": "markdown",
   "metadata": {},
   "source": [
    "**Conclusão**\n",
    "\n",
    "Observa-se que os cliente com 1, 2 e 4 filhos possuem a maior taxa de inadiplência, com 9,2%, 9,51% e 9,75% respectivamente. Clientes com nenhum filho possuem a menor taxa de inadiplência com 7,54% e cliente com 3 filhos possuem uma taxa de 8,23%.\n"
   ]
  },
  {
   "cell_type": "markdown",
   "metadata": {},
   "source": [
    "<div class=\"alert alert-block alert-danger\">\n",
    "<b> Comentário do revisor: </b> <a class=\"tocSkip\"></a>\n",
    "\n",
    "<s>A taxa de inadimplência com base no numero de filhos não foi calculada corretamente! Perceba que quando você divide por `len(credit_scoring)` você esta dividindo pelo tamanho do dataframe e não pelo valor de pessoas que tem 0, 1 ... filhos. Você pode fazer essa divisão usando uma pivot table, que vai ter colunas indicando o numero de pessoas que tem debitos ou nao de acordo com o numero de filhos. Em seguida você pode criar uma nova coluna que faça essa divisão, que seja especifica para quantidade de filhos. \n",
    "    Sugiro que essa alteração seja feita nas analises das outras hipoteses também\n",
    "</div>"
   ]
  },
  {
   "cell_type": "markdown",
   "metadata": {},
   "source": [
    "<div class=\"alert alert-block alert-success\">\n",
    "<b> Comentário do revisor v.2: </b> <a class=\"tocSkip\"></a>\n",
    "\n",
    "Excelente! A taxa de inadimplência relacionada com o numero de filhos foi calculada corretamente\n",
    "    \n",
    "</div>"
   ]
  },
  {
   "cell_type": "markdown",
   "metadata": {},
   "source": [
    "**Existe uma correlação entre o status familiar e o pagamento em dia?**"
   ]
  },
  {
   "cell_type": "code",
   "execution_count": 66,
   "metadata": {},
   "outputs": [
    {
     "data": {
      "text/html": [
       "<div>\n",
       "<style scoped>\n",
       "    .dataframe tbody tr th:only-of-type {\n",
       "        vertical-align: middle;\n",
       "    }\n",
       "\n",
       "    .dataframe tbody tr th {\n",
       "        vertical-align: top;\n",
       "    }\n",
       "\n",
       "    .dataframe thead th {\n",
       "        text-align: right;\n",
       "    }\n",
       "</style>\n",
       "<table border=\"1\" class=\"dataframe\">\n",
       "  <thead>\n",
       "    <tr style=\"text-align: right;\">\n",
       "      <th>debt</th>\n",
       "      <th>0</th>\n",
       "      <th>1</th>\n",
       "      <th>taxa_inad</th>\n",
       "    </tr>\n",
       "    <tr>\n",
       "      <th>family_status</th>\n",
       "      <th></th>\n",
       "      <th></th>\n",
       "      <th></th>\n",
       "    </tr>\n",
       "  </thead>\n",
       "  <tbody>\n",
       "    <tr>\n",
       "      <th>civil partnership</th>\n",
       "      <td>3729</td>\n",
       "      <td>383</td>\n",
       "      <td>9.314202</td>\n",
       "    </tr>\n",
       "    <tr>\n",
       "      <th>divorced</th>\n",
       "      <td>1095</td>\n",
       "      <td>84</td>\n",
       "      <td>7.124682</td>\n",
       "    </tr>\n",
       "    <tr>\n",
       "      <th>married</th>\n",
       "      <td>11290</td>\n",
       "      <td>923</td>\n",
       "      <td>7.557521</td>\n",
       "    </tr>\n",
       "    <tr>\n",
       "      <th>unmarried</th>\n",
       "      <td>2508</td>\n",
       "      <td>272</td>\n",
       "      <td>9.784173</td>\n",
       "    </tr>\n",
       "    <tr>\n",
       "      <th>widow / widower</th>\n",
       "      <td>884</td>\n",
       "      <td>62</td>\n",
       "      <td>6.553911</td>\n",
       "    </tr>\n",
       "  </tbody>\n",
       "</table>\n",
       "</div>"
      ],
      "text/plain": [
       "debt                   0    1  taxa_inad\n",
       "family_status                           \n",
       "civil partnership   3729  383   9.314202\n",
       "divorced            1095   84   7.124682\n",
       "married            11290  923   7.557521\n",
       "unmarried           2508  272   9.784173\n",
       "widow / widower      884   62   6.553911"
      ]
     },
     "execution_count": 66,
     "metadata": {},
     "output_type": "execute_result"
    }
   ],
   "source": [
    "# Verifique os dados de status da família e do pagamento em dia\n",
    "tab_family_status = credit_scoring.pivot_table(index='family_status', values='days_employed', columns='debt', aggfunc='count')\n",
    "# Calcular a taxa padrão com base no status da família\n",
    "tab_family_status['taxa_inad'] = (tab_family_status[1])*100/(tab_family_status[0] + tab_family_status[1])\n",
    "tab_family_status"
   ]
  },
  {
   "cell_type": "markdown",
   "metadata": {},
   "source": [
    "**Conclusão**\n",
    " Observa-se que, com relação ao status familiar, os clientes unmarried possuem a maior taxa de inadiplência com 9,78%%, seguido pelos clientes com status \"civil partnership\" com 9,31%. Os clientes em relacionamentos abertos possuem a menor taxa com 6,55%."
   ]
  },
  {
   "cell_type": "markdown",
   "metadata": {},
   "source": [
    "<div class=\"alert alert-block alert-success\">\n",
    "<b> Comentário do revisor v.2: </b> <a class=\"tocSkip\"></a>\n",
    "\n",
    "Excelente! A taxa de inadimplência relacionada com o status familiar foi calculada corretamente\n",
    "    \n",
    "</div>"
   ]
  },
  {
   "cell_type": "markdown",
   "metadata": {},
   "source": [
    "**Existe uma correlação entre o nível de renda e o pagamento em dia?**"
   ]
  },
  {
   "cell_type": "code",
   "execution_count": 67,
   "metadata": {},
   "outputs": [
    {
     "data": {
      "text/html": [
       "<div>\n",
       "<style scoped>\n",
       "    .dataframe tbody tr th:only-of-type {\n",
       "        vertical-align: middle;\n",
       "    }\n",
       "\n",
       "    .dataframe tbody tr th {\n",
       "        vertical-align: top;\n",
       "    }\n",
       "\n",
       "    .dataframe thead th {\n",
       "        text-align: right;\n",
       "    }\n",
       "</style>\n",
       "<table border=\"1\" class=\"dataframe\">\n",
       "  <thead>\n",
       "    <tr style=\"text-align: right;\">\n",
       "      <th>debt</th>\n",
       "      <th>0</th>\n",
       "      <th>1</th>\n",
       "      <th>taxa_inad</th>\n",
       "    </tr>\n",
       "    <tr>\n",
       "      <th>nivel_renda</th>\n",
       "      <th></th>\n",
       "      <th></th>\n",
       "      <th></th>\n",
       "    </tr>\n",
       "  </thead>\n",
       "  <tbody>\n",
       "    <tr>\n",
       "      <th>Nivel 1</th>\n",
       "      <td>858</td>\n",
       "      <td>58</td>\n",
       "      <td>6.331878</td>\n",
       "    </tr>\n",
       "    <tr>\n",
       "      <th>Nivel 2</th>\n",
       "      <td>5852</td>\n",
       "      <td>548</td>\n",
       "      <td>8.562500</td>\n",
       "    </tr>\n",
       "    <tr>\n",
       "      <th>Nivel 3</th>\n",
       "      <td>6925</td>\n",
       "      <td>664</td>\n",
       "      <td>8.749506</td>\n",
       "    </tr>\n",
       "    <tr>\n",
       "      <th>Nivel 4</th>\n",
       "      <td>3281</td>\n",
       "      <td>261</td>\n",
       "      <td>7.368718</td>\n",
       "    </tr>\n",
       "    <tr>\n",
       "      <th>Nivel 5</th>\n",
       "      <td>2590</td>\n",
       "      <td>193</td>\n",
       "      <td>6.934962</td>\n",
       "    </tr>\n",
       "  </tbody>\n",
       "</table>\n",
       "</div>"
      ],
      "text/plain": [
       "debt            0    1  taxa_inad\n",
       "nivel_renda                      \n",
       "Nivel 1       858   58   6.331878\n",
       "Nivel 2      5852  548   8.562500\n",
       "Nivel 3      6925  664   8.749506\n",
       "Nivel 4      3281  261   7.368718\n",
       "Nivel 5      2590  193   6.934962"
      ]
     },
     "execution_count": 67,
     "metadata": {},
     "output_type": "execute_result"
    }
   ],
   "source": [
    "# Verifique os dados do nível de renda e do pagamento em dia\n",
    "tab_nivel_renda = credit_scoring.pivot_table(index='nivel_renda', values='days_employed', columns='debt', aggfunc='count')\n",
    "# Calcular a taxa de inadimplência com base no nível de renda\n",
    "tab_nivel_renda['taxa_inad'] = (tab_nivel_renda[1])*100/(tab_nivel_renda[0] + tab_nivel_renda[1])\n",
    "tab_nivel_renda"
   ]
  },
  {
   "cell_type": "markdown",
   "metadata": {},
   "source": [
    "**Conclusão**\n",
    "\n",
    "Pessoas enquadradas no nivel de renda 2 e 3 possuem a maior taxa de inadiplência com aproximadamente 8,56% e 8,74%, respectivamente, enquanto pessoas do nivel 1 possuem a menor taxa com 6.33%."
   ]
  },
  {
   "cell_type": "markdown",
   "metadata": {},
   "source": [
    "<div class=\"alert alert-block alert-success\">\n",
    "<b> Comentário do revisor v.2: </b> <a class=\"tocSkip\"></a>\n",
    "\n",
    "Excelente! A taxa de inadimplência relacionada com o nivel de renda foi calculada corretamente\n",
    "    \n",
    "</div>"
   ]
  },
  {
   "cell_type": "markdown",
   "metadata": {},
   "source": [
    "**Como a finalidade do crédito afeta a taxa de inadimplência?**"
   ]
  },
  {
   "cell_type": "code",
   "execution_count": 68,
   "metadata": {},
   "outputs": [
    {
     "data": {
      "text/html": [
       "<div>\n",
       "<style scoped>\n",
       "    .dataframe tbody tr th:only-of-type {\n",
       "        vertical-align: middle;\n",
       "    }\n",
       "\n",
       "    .dataframe tbody tr th {\n",
       "        vertical-align: top;\n",
       "    }\n",
       "\n",
       "    .dataframe thead th {\n",
       "        text-align: right;\n",
       "    }\n",
       "</style>\n",
       "<table border=\"1\" class=\"dataframe\">\n",
       "  <thead>\n",
       "    <tr style=\"text-align: right;\">\n",
       "      <th>debt</th>\n",
       "      <th>0</th>\n",
       "      <th>1</th>\n",
       "      <th>taxa_inad</th>\n",
       "    </tr>\n",
       "    <tr>\n",
       "      <th>cat_purpose</th>\n",
       "      <th></th>\n",
       "      <th></th>\n",
       "      <th></th>\n",
       "    </tr>\n",
       "  </thead>\n",
       "  <tbody>\n",
       "    <tr>\n",
       "      <th>Car</th>\n",
       "      <td>3861</td>\n",
       "      <td>397</td>\n",
       "      <td>9.323626</td>\n",
       "    </tr>\n",
       "    <tr>\n",
       "      <th>Education</th>\n",
       "      <td>3601</td>\n",
       "      <td>369</td>\n",
       "      <td>9.294710</td>\n",
       "    </tr>\n",
       "    <tr>\n",
       "      <th>Real Estate</th>\n",
       "      <td>9926</td>\n",
       "      <td>777</td>\n",
       "      <td>7.259647</td>\n",
       "    </tr>\n",
       "    <tr>\n",
       "      <th>Wedding</th>\n",
       "      <td>2118</td>\n",
       "      <td>181</td>\n",
       "      <td>7.872988</td>\n",
       "    </tr>\n",
       "  </tbody>\n",
       "</table>\n",
       "</div>"
      ],
      "text/plain": [
       "debt            0    1  taxa_inad\n",
       "cat_purpose                      \n",
       "Car          3861  397   9.323626\n",
       "Education    3601  369   9.294710\n",
       "Real Estate  9926  777   7.259647\n",
       "Wedding      2118  181   7.872988"
      ]
     },
     "execution_count": 68,
     "metadata": {},
     "output_type": "execute_result"
    }
   ],
   "source": [
    "# Confira os percentuais de inadimplência para cada finalidade de crédito e analise-os\n",
    "tab_cat_purpose = credit_scoring.pivot_table(index='cat_purpose', values='days_employed', columns='debt', aggfunc='count')\n",
    "# Calcular a taxa de inadimplência com base na finalidade de crédito\n",
    "tab_cat_purpose['taxa_inad'] = (tab_cat_purpose[1])*100/(tab_cat_purpose[0] + tab_cat_purpose[1])\n",
    "tab_cat_purpose"
   ]
  },
  {
   "cell_type": "markdown",
   "metadata": {},
   "source": [
    "**Conclusão**\n",
    "\n",
    "Quanto a finalidade de crédito, pessoas que utilizam o crédito para realizar a compra de carros ou para educação possuem uma taxa de inadiplência de aproximadamente 9,3%. Com a finalidade de realizar um casamente a taxa é de 7,87% e para comprar algum tipo de imóvel a finalidade é de aproximandamente 7,26%.\n"
   ]
  },
  {
   "cell_type": "markdown",
   "metadata": {},
   "source": [
    "<div class=\"alert alert-block alert-success\">\n",
    "<b> Comentário do revisor v.2: </b> <a class=\"tocSkip\"></a>\n",
    "\n",
    "Excelente! A taxa de inadimplência relacionada com a finalidade foi calculada corretamente\n",
    "    \n",
    "</div>"
   ]
  },
  {
   "cell_type": "markdown",
   "metadata": {},
   "source": [
    "# Conclusão Geral \n",
    "\n",
    "Foram realizados os estudos para responder as seguintes questões:\n",
    "\n",
    "1: Existe alguma relação entre ter filhos e pagar o empréstimo em dia?\n",
    "\n",
    "2: Existe alguma relação entre o estado civil e o pagamento do empréstimo?\n",
    "\n",
    "3: Existe relação entre o nível de renda e o pagemento no prazo?\n",
    "\n",
    "4: Como as diferentes finalidades do empréstimo afetam o pagamento pontual do mesmo?\n",
    "\n",
    "Após as analises dos dados chegou-se as seguintes respostas:\n",
    "\n",
    "1: Observou-se que clientes sem filhos possuem a menor taxa de inadiplência, seguidos por clientes com 3, 1, 2 e 4 filhos.\n",
    "\n",
    "2: Observou-se que com relação ao status familiar, os clientes solteiros possuem a maior taxa de inadiplência com aproximadamente 9,78%, seguidos pelos clientes em um relacionamento estavel com aproximandamente 9,31%. Os clientes em relacionamentos abertos possuem a menor taxa com 6,559%, os divorciados possuem uma taxa de 7,12%, os casados de 7,55%.\n",
    "\n",
    "3: Clientes com as rendas de nivel 1 e nivel 5 possuem menores taxas de inadiplência, aproximadamente 6,33% e 6,93% respectivamente. enquanto clientes com renda entre 10.000 e 30.000 possuem as maiores taxas de inadiplência.\n",
    "\n",
    "4: Clientes que utilizam o emprestimo para compra ou reforma de algum tipo de imóvel possuem as menores taxas de inadiplência, 7,26% aproximadamente. Seguidas de compra de casamaento com 7,87%. Enquanto as taxas mais altas são para empréstimos utilizados para educação, 9,29%, e aquisição de carros com aproximadamente 9,32%.\n",
    "\n",
    "\n"
   ]
  },
  {
   "cell_type": "markdown",
   "metadata": {},
   "source": [
    "<div class=\"alert alert-block alert-success\">\n",
    "<b> Comentário do revisor v.2: </b> <a class=\"tocSkip\"></a>\n",
    "\n",
    "Excelente!\n",
    "    \n",
    "</div>"
   ]
  },
  {
   "cell_type": "code",
   "execution_count": null,
   "metadata": {},
   "outputs": [],
   "source": []
  }
 ],
 "metadata": {
  "ExecuteTimeLog": [
   {
    "duration": 2741,
    "start_time": "2021-10-21T01:08:49.480Z"
   },
   {
    "duration": 52,
    "start_time": "2021-10-21T01:08:53.315Z"
   },
   {
    "duration": 49,
    "start_time": "2021-10-21T01:08:57.432Z"
   },
   {
    "duration": 70,
    "start_time": "2021-10-21T01:09:07.706Z"
   },
   {
    "duration": 677,
    "start_time": "2022-08-29T14:11:23.454Z"
   },
   {
    "duration": 14,
    "start_time": "2022-08-29T14:12:50.938Z"
   },
   {
    "duration": 11,
    "start_time": "2022-08-29T14:13:22.682Z"
   },
   {
    "duration": 558,
    "start_time": "2022-08-29T18:07:12.444Z"
   },
   {
    "duration": 14,
    "start_time": "2022-08-29T18:08:32.184Z"
   },
   {
    "duration": 12,
    "start_time": "2022-08-29T18:08:38.370Z"
   },
   {
    "duration": 66,
    "start_time": "2022-08-29T18:09:00.660Z"
   },
   {
    "duration": 62,
    "start_time": "2022-08-29T18:10:26.918Z"
   },
   {
    "duration": 13,
    "start_time": "2022-08-29T18:10:27.174Z"
   },
   {
    "duration": 12,
    "start_time": "2022-08-29T18:10:28.407Z"
   },
   {
    "duration": 29,
    "start_time": "2022-08-29T18:10:37.213Z"
   },
   {
    "duration": 28,
    "start_time": "2022-08-29T18:12:04.050Z"
   },
   {
    "duration": 12,
    "start_time": "2022-08-29T18:12:08.771Z"
   },
   {
    "duration": 12,
    "start_time": "2022-08-29T18:12:17.477Z"
   },
   {
    "duration": 46,
    "start_time": "2022-08-30T12:46:38.249Z"
   },
   {
    "duration": 576,
    "start_time": "2022-08-30T12:46:47.407Z"
   },
   {
    "duration": 33,
    "start_time": "2022-08-30T12:46:50.468Z"
   },
   {
    "duration": 13,
    "start_time": "2022-08-30T12:46:52.181Z"
   },
   {
    "duration": 15,
    "start_time": "2022-08-30T12:46:54.870Z"
   },
   {
    "duration": 38,
    "start_time": "2022-08-30T12:50:25.471Z"
   },
   {
    "duration": 5,
    "start_time": "2022-08-30T12:51:06.795Z"
   },
   {
    "duration": 15,
    "start_time": "2022-08-30T12:54:07.016Z"
   },
   {
    "duration": 17,
    "start_time": "2022-08-30T12:54:19.797Z"
   },
   {
    "duration": 12,
    "start_time": "2022-08-30T12:54:30.354Z"
   },
   {
    "duration": 21,
    "start_time": "2022-08-30T12:54:41.764Z"
   },
   {
    "duration": 8,
    "start_time": "2022-08-30T12:55:18.324Z"
   },
   {
    "duration": 6,
    "start_time": "2022-08-30T13:14:18.237Z"
   },
   {
    "duration": 7,
    "start_time": "2022-08-30T13:15:17.253Z"
   },
   {
    "duration": 62,
    "start_time": "2022-08-30T13:15:36.546Z"
   },
   {
    "duration": 28,
    "start_time": "2022-08-30T13:15:37.894Z"
   },
   {
    "duration": 12,
    "start_time": "2022-08-30T13:15:38.369Z"
   },
   {
    "duration": 15,
    "start_time": "2022-08-30T13:15:39.607Z"
   },
   {
    "duration": 7,
    "start_time": "2022-08-30T13:15:41.306Z"
   },
   {
    "duration": 13,
    "start_time": "2022-08-30T13:16:41.651Z"
   },
   {
    "duration": 9,
    "start_time": "2022-08-30T13:23:39.609Z"
   },
   {
    "duration": 15,
    "start_time": "2022-08-30T13:23:50.921Z"
   },
   {
    "duration": 17,
    "start_time": "2022-08-30T13:24:15.832Z"
   },
   {
    "duration": 12,
    "start_time": "2022-08-30T13:24:22.921Z"
   },
   {
    "duration": 9,
    "start_time": "2022-08-30T13:24:44.553Z"
   },
   {
    "duration": 3,
    "start_time": "2022-08-30T13:32:08.360Z"
   },
   {
    "duration": 9,
    "start_time": "2022-08-30T13:32:26.344Z"
   },
   {
    "duration": 9,
    "start_time": "2022-08-30T13:33:32.713Z"
   },
   {
    "duration": 3,
    "start_time": "2022-08-30T13:34:41.164Z"
   },
   {
    "duration": 13,
    "start_time": "2022-08-30T13:35:06.062Z"
   },
   {
    "duration": 14,
    "start_time": "2022-08-30T13:35:39.361Z"
   },
   {
    "duration": 13,
    "start_time": "2022-08-30T13:35:48.932Z"
   },
   {
    "duration": 10,
    "start_time": "2022-08-30T13:36:01.455Z"
   },
   {
    "duration": 63,
    "start_time": "2022-08-30T14:36:34.875Z"
   },
   {
    "duration": 32,
    "start_time": "2022-08-30T14:36:39.501Z"
   },
   {
    "duration": 14,
    "start_time": "2022-08-30T14:36:41.133Z"
   },
   {
    "duration": 14,
    "start_time": "2022-08-30T14:36:49.451Z"
   },
   {
    "duration": 6,
    "start_time": "2022-08-30T14:38:17.408Z"
   },
   {
    "duration": 516,
    "start_time": "2022-08-30T16:48:04.349Z"
   },
   {
    "duration": 32,
    "start_time": "2022-08-30T16:48:05.345Z"
   },
   {
    "duration": 14,
    "start_time": "2022-08-30T16:48:06.450Z"
   },
   {
    "duration": 15,
    "start_time": "2022-08-30T16:52:13.270Z"
   },
   {
    "duration": 15,
    "start_time": "2022-08-30T16:54:16.786Z"
   },
   {
    "duration": 15,
    "start_time": "2022-08-30T16:55:19.846Z"
   },
   {
    "duration": 74,
    "start_time": "2022-08-30T16:56:20.047Z"
   },
   {
    "duration": 14,
    "start_time": "2022-08-30T16:56:40.028Z"
   },
   {
    "duration": 7,
    "start_time": "2022-08-30T17:06:52.987Z"
   },
   {
    "duration": 84,
    "start_time": "2022-08-30T17:06:58.971Z"
   },
   {
    "duration": 31,
    "start_time": "2022-08-30T17:07:00.748Z"
   },
   {
    "duration": 16,
    "start_time": "2022-08-30T17:07:01.578Z"
   },
   {
    "duration": 13,
    "start_time": "2022-08-30T17:07:03.202Z"
   },
   {
    "duration": 17,
    "start_time": "2022-08-30T17:07:04.853Z"
   },
   {
    "duration": 14,
    "start_time": "2022-08-30T17:07:08.318Z"
   },
   {
    "duration": 8,
    "start_time": "2022-08-30T17:07:13.461Z"
   },
   {
    "duration": 8,
    "start_time": "2022-08-30T17:07:55.426Z"
   },
   {
    "duration": 9,
    "start_time": "2022-08-30T17:09:09.810Z"
   },
   {
    "duration": 8,
    "start_time": "2022-08-30T17:10:57.144Z"
   },
   {
    "duration": 4,
    "start_time": "2022-08-30T17:11:25.942Z"
   },
   {
    "duration": 4,
    "start_time": "2022-08-30T17:12:10.566Z"
   },
   {
    "duration": 4,
    "start_time": "2022-08-30T17:13:28.249Z"
   },
   {
    "duration": 4,
    "start_time": "2022-08-30T17:13:50.817Z"
   },
   {
    "duration": 6,
    "start_time": "2022-08-30T17:36:25.086Z"
   },
   {
    "duration": 11,
    "start_time": "2022-08-30T17:38:31.643Z"
   },
   {
    "duration": 9,
    "start_time": "2022-08-30T17:38:53.233Z"
   },
   {
    "duration": 1582,
    "start_time": "2022-08-30T17:39:12.531Z"
   },
   {
    "duration": 14,
    "start_time": "2022-08-30T17:39:20.020Z"
   },
   {
    "duration": 13,
    "start_time": "2022-08-30T17:39:38.897Z"
   },
   {
    "duration": 6,
    "start_time": "2022-08-30T17:39:39.529Z"
   },
   {
    "duration": 7,
    "start_time": "2022-08-30T17:39:46.262Z"
   },
   {
    "duration": 5,
    "start_time": "2022-08-30T17:40:23.717Z"
   },
   {
    "duration": 3,
    "start_time": "2022-08-30T17:40:50.625Z"
   },
   {
    "duration": 14,
    "start_time": "2022-08-30T17:40:59.131Z"
   },
   {
    "duration": 6,
    "start_time": "2022-08-30T17:51:22.586Z"
   },
   {
    "duration": 5,
    "start_time": "2022-08-30T17:51:47.924Z"
   },
   {
    "duration": 8,
    "start_time": "2022-08-30T17:55:06.068Z"
   },
   {
    "duration": 9,
    "start_time": "2022-08-30T17:55:17.451Z"
   },
   {
    "duration": 12,
    "start_time": "2022-08-30T17:55:32.126Z"
   },
   {
    "duration": 1598,
    "start_time": "2022-08-30T17:58:54.773Z"
   },
   {
    "duration": 15,
    "start_time": "2022-08-30T17:59:25.798Z"
   },
   {
    "duration": 637,
    "start_time": "2022-08-31T17:29:32.963Z"
   },
   {
    "duration": 38,
    "start_time": "2022-08-31T17:29:35.353Z"
   },
   {
    "duration": 13,
    "start_time": "2022-08-31T17:29:35.945Z"
   },
   {
    "duration": 16,
    "start_time": "2022-08-31T17:29:38.029Z"
   },
   {
    "duration": 20,
    "start_time": "2022-08-31T17:29:40.017Z"
   },
   {
    "duration": 14,
    "start_time": "2022-08-31T17:29:42.129Z"
   },
   {
    "duration": 4,
    "start_time": "2022-08-31T17:29:43.594Z"
   },
   {
    "duration": 7,
    "start_time": "2022-08-31T17:31:35.301Z"
   },
   {
    "duration": 10,
    "start_time": "2022-08-31T17:32:21.488Z"
   },
   {
    "duration": 8,
    "start_time": "2022-08-31T17:33:35.705Z"
   },
   {
    "duration": 8,
    "start_time": "2022-08-31T17:33:57.212Z"
   },
   {
    "duration": 7,
    "start_time": "2022-08-31T17:34:37.163Z"
   },
   {
    "duration": 0,
    "start_time": "2022-08-31T17:35:20.118Z"
   },
   {
    "duration": 7,
    "start_time": "2022-08-31T17:35:21.760Z"
   },
   {
    "duration": 8,
    "start_time": "2022-08-31T17:36:55.237Z"
   },
   {
    "duration": 6,
    "start_time": "2022-08-31T17:37:56.292Z"
   },
   {
    "duration": 6936,
    "start_time": "2022-08-31T17:40:19.461Z"
   },
   {
    "duration": 0,
    "start_time": "2022-08-31T17:40:26.398Z"
   },
   {
    "duration": 2543,
    "start_time": "2022-08-31T17:40:39.076Z"
   },
   {
    "duration": 7,
    "start_time": "2022-08-31T17:41:57.084Z"
   },
   {
    "duration": 7,
    "start_time": "2022-08-31T17:42:27.091Z"
   },
   {
    "duration": 13,
    "start_time": "2022-08-31T17:43:09.698Z"
   },
   {
    "duration": 5,
    "start_time": "2022-08-31T17:43:20.851Z"
   },
   {
    "duration": 6,
    "start_time": "2022-08-31T17:43:48.217Z"
   },
   {
    "duration": 7,
    "start_time": "2022-08-31T17:43:58.336Z"
   },
   {
    "duration": 7,
    "start_time": "2022-08-31T17:44:06.737Z"
   },
   {
    "duration": 7,
    "start_time": "2022-08-31T17:45:08.548Z"
   },
   {
    "duration": 7,
    "start_time": "2022-08-31T17:45:30.779Z"
   },
   {
    "duration": 10,
    "start_time": "2022-08-31T17:46:06.804Z"
   },
   {
    "duration": 15,
    "start_time": "2022-08-31T17:52:15.677Z"
   },
   {
    "duration": 6,
    "start_time": "2022-08-31T17:53:33.765Z"
   },
   {
    "duration": 13,
    "start_time": "2022-08-31T17:53:38.040Z"
   },
   {
    "duration": 5,
    "start_time": "2022-08-31T17:59:23.645Z"
   },
   {
    "duration": 13,
    "start_time": "2022-08-31T17:59:24.413Z"
   },
   {
    "duration": 16,
    "start_time": "2022-08-31T18:00:14.985Z"
   },
   {
    "duration": 15,
    "start_time": "2022-08-31T18:00:28.199Z"
   },
   {
    "duration": 64,
    "start_time": "2022-08-31T18:01:33.054Z"
   },
   {
    "duration": 33,
    "start_time": "2022-08-31T18:01:34.791Z"
   },
   {
    "duration": 13,
    "start_time": "2022-08-31T18:01:44.177Z"
   },
   {
    "duration": 13,
    "start_time": "2022-08-31T18:01:47.161Z"
   },
   {
    "duration": 20,
    "start_time": "2022-08-31T18:01:49.210Z"
   },
   {
    "duration": 11,
    "start_time": "2022-08-31T18:01:52.159Z"
   },
   {
    "duration": 4,
    "start_time": "2022-08-31T18:01:54.602Z"
   },
   {
    "duration": 6,
    "start_time": "2022-08-31T18:01:55.517Z"
   },
   {
    "duration": 6,
    "start_time": "2022-08-31T18:01:56.444Z"
   },
   {
    "duration": 5,
    "start_time": "2022-08-31T18:01:57.197Z"
   },
   {
    "duration": 6,
    "start_time": "2022-08-31T18:01:58.413Z"
   },
   {
    "duration": 3,
    "start_time": "2022-08-31T18:02:01.491Z"
   },
   {
    "duration": 2,
    "start_time": "2022-08-31T18:02:02.355Z"
   },
   {
    "duration": 5,
    "start_time": "2022-08-31T18:02:04.703Z"
   },
   {
    "duration": 9,
    "start_time": "2022-08-31T18:02:05.694Z"
   },
   {
    "duration": 5,
    "start_time": "2022-08-31T18:02:06.257Z"
   },
   {
    "duration": 16,
    "start_time": "2022-08-31T18:02:08.669Z"
   },
   {
    "duration": 4,
    "start_time": "2022-08-31T18:11:52.660Z"
   },
   {
    "duration": 6,
    "start_time": "2022-08-31T18:12:10.669Z"
   },
   {
    "duration": 17,
    "start_time": "2022-08-31T18:12:13.477Z"
   },
   {
    "duration": 7,
    "start_time": "2022-08-31T18:15:03.365Z"
   },
   {
    "duration": 6,
    "start_time": "2022-08-31T18:15:14.468Z"
   },
   {
    "duration": 6,
    "start_time": "2022-08-31T18:15:48.357Z"
   },
   {
    "duration": 7,
    "start_time": "2022-08-31T18:18:39.248Z"
   },
   {
    "duration": 6,
    "start_time": "2022-08-31T18:18:56.666Z"
   },
   {
    "duration": 6,
    "start_time": "2022-08-31T18:19:26.763Z"
   },
   {
    "duration": 5,
    "start_time": "2022-08-31T18:21:37.447Z"
   },
   {
    "duration": 66,
    "start_time": "2022-08-31T18:22:50.511Z"
   },
   {
    "duration": 8,
    "start_time": "2022-08-31T18:22:59.258Z"
   },
   {
    "duration": 11,
    "start_time": "2022-08-31T18:24:38.405Z"
   },
   {
    "duration": 11,
    "start_time": "2022-08-31T18:24:54.345Z"
   },
   {
    "duration": 20,
    "start_time": "2022-08-31T18:25:01.458Z"
   },
   {
    "duration": 5,
    "start_time": "2022-08-31T18:25:46.377Z"
   },
   {
    "duration": 3,
    "start_time": "2022-08-31T18:29:23.135Z"
   },
   {
    "duration": 4,
    "start_time": "2022-08-31T18:30:12.154Z"
   },
   {
    "duration": 6,
    "start_time": "2022-08-31T18:31:03.331Z"
   },
   {
    "duration": 4,
    "start_time": "2022-08-31T18:32:13.029Z"
   },
   {
    "duration": 3,
    "start_time": "2022-08-31T18:34:03.809Z"
   },
   {
    "duration": 8,
    "start_time": "2022-08-31T18:34:30.479Z"
   },
   {
    "duration": 5,
    "start_time": "2022-08-31T18:34:45.721Z"
   },
   {
    "duration": 61,
    "start_time": "2022-08-31T19:54:44.509Z"
   },
   {
    "duration": 33,
    "start_time": "2022-08-31T19:54:45.711Z"
   },
   {
    "duration": 13,
    "start_time": "2022-08-31T19:54:46.346Z"
   },
   {
    "duration": 14,
    "start_time": "2022-08-31T19:54:47.731Z"
   },
   {
    "duration": 18,
    "start_time": "2022-08-31T19:54:49.151Z"
   },
   {
    "duration": 14,
    "start_time": "2022-08-31T19:54:50.050Z"
   },
   {
    "duration": 3,
    "start_time": "2022-08-31T19:54:50.910Z"
   },
   {
    "duration": 5,
    "start_time": "2022-08-31T19:54:51.324Z"
   },
   {
    "duration": 5,
    "start_time": "2022-08-31T19:54:51.755Z"
   },
   {
    "duration": 5,
    "start_time": "2022-08-31T19:54:52.121Z"
   },
   {
    "duration": 6,
    "start_time": "2022-08-31T19:54:52.718Z"
   },
   {
    "duration": 2,
    "start_time": "2022-08-31T19:54:53.237Z"
   },
   {
    "duration": 2,
    "start_time": "2022-08-31T19:54:53.693Z"
   },
   {
    "duration": 5,
    "start_time": "2022-08-31T19:54:54.438Z"
   },
   {
    "duration": 10,
    "start_time": "2022-08-31T19:54:54.650Z"
   },
   {
    "duration": 5,
    "start_time": "2022-08-31T19:54:54.850Z"
   },
   {
    "duration": 17,
    "start_time": "2022-08-31T19:54:55.319Z"
   },
   {
    "duration": 6,
    "start_time": "2022-08-31T19:54:55.887Z"
   },
   {
    "duration": 17,
    "start_time": "2022-08-31T19:54:56.103Z"
   },
   {
    "duration": 7,
    "start_time": "2022-08-31T19:54:56.561Z"
   },
   {
    "duration": 2,
    "start_time": "2022-08-31T19:54:57.029Z"
   },
   {
    "duration": 3,
    "start_time": "2022-08-31T19:54:57.265Z"
   },
   {
    "duration": 4,
    "start_time": "2022-08-31T19:54:57.818Z"
   },
   {
    "duration": 5,
    "start_time": "2022-08-31T19:54:58.673Z"
   },
   {
    "duration": 2,
    "start_time": "2022-08-31T19:54:59.136Z"
   },
   {
    "duration": 3,
    "start_time": "2022-08-31T19:55:02.261Z"
   },
   {
    "duration": 6,
    "start_time": "2022-08-31T19:55:03.480Z"
   },
   {
    "duration": 5,
    "start_time": "2022-08-31T19:55:22.231Z"
   },
   {
    "duration": 8,
    "start_time": "2022-08-31T19:55:42.141Z"
   },
   {
    "duration": 5,
    "start_time": "2022-08-31T19:56:34.523Z"
   },
   {
    "duration": 2,
    "start_time": "2022-08-31T19:56:35.329Z"
   },
   {
    "duration": 2,
    "start_time": "2022-08-31T19:56:35.553Z"
   },
   {
    "duration": 5,
    "start_time": "2022-08-31T19:56:35.954Z"
   },
   {
    "duration": 2,
    "start_time": "2022-08-31T19:56:36.169Z"
   },
   {
    "duration": 2,
    "start_time": "2022-08-31T19:56:36.414Z"
   },
   {
    "duration": 5,
    "start_time": "2022-08-31T19:56:37.481Z"
   },
   {
    "duration": 15,
    "start_time": "2022-08-31T19:56:56.169Z"
   },
   {
    "duration": 19,
    "start_time": "2022-08-31T19:57:13.167Z"
   },
   {
    "duration": 14,
    "start_time": "2022-08-31T19:57:27.228Z"
   },
   {
    "duration": 13,
    "start_time": "2022-08-31T19:58:15.819Z"
   },
   {
    "duration": 7,
    "start_time": "2022-08-31T20:00:23.276Z"
   },
   {
    "duration": 16,
    "start_time": "2022-08-31T20:00:24.169Z"
   },
   {
    "duration": 6,
    "start_time": "2022-08-31T20:01:39.094Z"
   },
   {
    "duration": 17,
    "start_time": "2022-08-31T20:02:16.885Z"
   },
   {
    "duration": 4,
    "start_time": "2022-08-31T20:03:18.132Z"
   },
   {
    "duration": 16,
    "start_time": "2022-08-31T20:05:13.239Z"
   },
   {
    "duration": 27,
    "start_time": "2022-08-31T20:07:22.808Z"
   },
   {
    "duration": 16,
    "start_time": "2022-08-31T20:07:28.674Z"
   },
   {
    "duration": 15,
    "start_time": "2022-08-31T20:07:43.663Z"
   },
   {
    "duration": 641,
    "start_time": "2022-08-31T23:13:08.840Z"
   },
   {
    "duration": 36,
    "start_time": "2022-08-31T23:13:11.468Z"
   },
   {
    "duration": 13,
    "start_time": "2022-08-31T23:13:13.031Z"
   },
   {
    "duration": 13,
    "start_time": "2022-08-31T23:13:18.206Z"
   },
   {
    "duration": 16,
    "start_time": "2022-08-31T23:13:19.814Z"
   },
   {
    "duration": 13,
    "start_time": "2022-08-31T23:13:21.966Z"
   },
   {
    "duration": 3,
    "start_time": "2022-08-31T23:13:24.383Z"
   },
   {
    "duration": 6,
    "start_time": "2022-08-31T23:13:27.236Z"
   },
   {
    "duration": 6,
    "start_time": "2022-08-31T23:13:28.301Z"
   },
   {
    "duration": 5,
    "start_time": "2022-08-31T23:13:29.037Z"
   },
   {
    "duration": 8,
    "start_time": "2022-08-31T23:14:08.053Z"
   },
   {
    "duration": 7,
    "start_time": "2022-08-31T23:15:26.888Z"
   },
   {
    "duration": 17,
    "start_time": "2022-08-31T23:15:30.091Z"
   },
   {
    "duration": 6,
    "start_time": "2022-08-31T23:15:31.586Z"
   },
   {
    "duration": 16,
    "start_time": "2022-08-31T23:15:36.912Z"
   },
   {
    "duration": 29,
    "start_time": "2022-09-01T21:59:36.204Z"
   },
   {
    "duration": 18,
    "start_time": "2022-09-01T21:59:46.626Z"
   },
   {
    "duration": 12,
    "start_time": "2022-09-01T22:06:31.271Z"
   },
   {
    "duration": 81,
    "start_time": "2022-09-01T22:09:22.273Z"
   },
   {
    "duration": 34,
    "start_time": "2022-09-01T22:09:23.588Z"
   },
   {
    "duration": 16,
    "start_time": "2022-09-01T22:09:24.248Z"
   },
   {
    "duration": 15,
    "start_time": "2022-09-01T22:09:27.350Z"
   },
   {
    "duration": 14,
    "start_time": "2022-09-01T22:09:29.262Z"
   },
   {
    "duration": 516,
    "start_time": "2022-09-01T22:10:12.203Z"
   },
   {
    "duration": 32,
    "start_time": "2022-09-01T22:10:15.107Z"
   },
   {
    "duration": 19,
    "start_time": "2022-09-01T22:10:16.017Z"
   },
   {
    "duration": 16,
    "start_time": "2022-09-01T22:10:20.706Z"
   },
   {
    "duration": 16,
    "start_time": "2022-09-01T22:10:25.868Z"
   },
   {
    "duration": 13,
    "start_time": "2022-09-01T22:10:27.807Z"
   },
   {
    "duration": 3,
    "start_time": "2022-09-01T22:10:31.373Z"
   },
   {
    "duration": 5,
    "start_time": "2022-09-01T22:10:33.315Z"
   },
   {
    "duration": 6,
    "start_time": "2022-09-01T22:10:34.507Z"
   },
   {
    "duration": 7,
    "start_time": "2022-09-01T22:10:36.255Z"
   },
   {
    "duration": 96,
    "start_time": "2022-09-01T22:15:26.672Z"
   },
   {
    "duration": 5,
    "start_time": "2022-09-01T22:15:38.164Z"
   },
   {
    "duration": 15,
    "start_time": "2022-09-01T22:16:11.902Z"
   },
   {
    "duration": 9,
    "start_time": "2022-09-01T22:17:55.137Z"
   },
   {
    "duration": 6,
    "start_time": "2022-09-01T22:18:05.339Z"
   },
   {
    "duration": 11,
    "start_time": "2022-09-01T22:19:06.634Z"
   },
   {
    "duration": 5,
    "start_time": "2022-09-01T22:20:21.522Z"
   },
   {
    "duration": 6,
    "start_time": "2022-09-01T22:20:22.266Z"
   },
   {
    "duration": 9,
    "start_time": "2022-09-01T22:20:23.307Z"
   },
   {
    "duration": 5,
    "start_time": "2022-09-01T22:43:43.516Z"
   },
   {
    "duration": 8,
    "start_time": "2022-09-01T22:44:18.036Z"
   },
   {
    "duration": 7,
    "start_time": "2022-09-01T22:44:41.434Z"
   },
   {
    "duration": 10,
    "start_time": "2022-09-01T22:44:47.630Z"
   },
   {
    "duration": 9,
    "start_time": "2022-09-01T22:44:48.010Z"
   },
   {
    "duration": 534,
    "start_time": "2022-09-03T17:26:34.635Z"
   },
   {
    "duration": 31,
    "start_time": "2022-09-03T17:26:35.519Z"
   },
   {
    "duration": 15,
    "start_time": "2022-09-03T17:26:36.045Z"
   },
   {
    "duration": 14,
    "start_time": "2022-09-03T17:26:37.649Z"
   },
   {
    "duration": 13,
    "start_time": "2022-09-03T17:26:39.737Z"
   },
   {
    "duration": 11,
    "start_time": "2022-09-03T17:26:42.090Z"
   },
   {
    "duration": 15,
    "start_time": "2022-09-03T17:27:06.647Z"
   },
   {
    "duration": 13,
    "start_time": "2022-09-03T17:41:08.659Z"
   },
   {
    "duration": 13,
    "start_time": "2022-09-03T17:43:57.834Z"
   },
   {
    "duration": 8,
    "start_time": "2022-09-03T17:43:58.530Z"
   },
   {
    "duration": 6,
    "start_time": "2022-09-03T17:43:59.262Z"
   },
   {
    "duration": 6,
    "start_time": "2022-09-03T17:44:00.136Z"
   },
   {
    "duration": 6,
    "start_time": "2022-09-03T17:44:01.050Z"
   },
   {
    "duration": 8,
    "start_time": "2022-09-03T17:44:04.264Z"
   },
   {
    "duration": 910,
    "start_time": "2022-09-03T17:44:27.218Z"
   },
   {
    "duration": 7,
    "start_time": "2022-09-03T17:44:38.454Z"
   },
   {
    "duration": 6,
    "start_time": "2022-09-03T17:45:43.589Z"
   },
   {
    "duration": 7,
    "start_time": "2022-09-03T17:46:34.218Z"
   },
   {
    "duration": 7,
    "start_time": "2022-09-03T17:47:12.037Z"
   },
   {
    "duration": 7,
    "start_time": "2022-09-03T17:47:15.276Z"
   },
   {
    "duration": 9,
    "start_time": "2022-09-03T17:50:56.360Z"
   },
   {
    "duration": 6,
    "start_time": "2022-09-03T17:51:46.718Z"
   },
   {
    "duration": 7,
    "start_time": "2022-09-03T17:52:14.972Z"
   },
   {
    "duration": 6,
    "start_time": "2022-09-03T18:05:54.150Z"
   },
   {
    "duration": 5,
    "start_time": "2022-09-03T18:05:56.145Z"
   },
   {
    "duration": 10,
    "start_time": "2022-09-03T18:05:57.142Z"
   },
   {
    "duration": 5,
    "start_time": "2022-09-03T18:05:57.814Z"
   },
   {
    "duration": 16,
    "start_time": "2022-09-03T18:05:59.094Z"
   },
   {
    "duration": 6,
    "start_time": "2022-09-03T18:06:01.089Z"
   },
   {
    "duration": 5,
    "start_time": "2022-09-03T18:06:04.114Z"
   },
   {
    "duration": 5,
    "start_time": "2022-09-03T18:06:41.007Z"
   },
   {
    "duration": 5,
    "start_time": "2022-09-03T18:06:51.390Z"
   },
   {
    "duration": 7,
    "start_time": "2022-09-03T18:06:55.122Z"
   },
   {
    "duration": 5,
    "start_time": "2022-09-03T18:06:55.757Z"
   },
   {
    "duration": 5,
    "start_time": "2022-09-03T18:07:07.907Z"
   },
   {
    "duration": 7,
    "start_time": "2022-09-03T18:07:09.673Z"
   },
   {
    "duration": 5,
    "start_time": "2022-09-03T18:07:10.787Z"
   },
   {
    "duration": 69,
    "start_time": "2022-09-03T18:07:46.047Z"
   },
   {
    "duration": 30,
    "start_time": "2022-09-03T18:07:46.769Z"
   },
   {
    "duration": 13,
    "start_time": "2022-09-03T18:07:46.956Z"
   },
   {
    "duration": 15,
    "start_time": "2022-09-03T18:07:48.181Z"
   },
   {
    "duration": 13,
    "start_time": "2022-09-03T18:07:49.431Z"
   },
   {
    "duration": 11,
    "start_time": "2022-09-03T18:07:50.635Z"
   },
   {
    "duration": 14,
    "start_time": "2022-09-03T18:07:51.865Z"
   },
   {
    "duration": 7,
    "start_time": "2022-09-03T18:07:52.567Z"
   },
   {
    "duration": 7,
    "start_time": "2022-09-03T18:07:53.226Z"
   },
   {
    "duration": 6,
    "start_time": "2022-09-03T18:07:54.143Z"
   },
   {
    "duration": 8,
    "start_time": "2022-09-03T18:07:55.331Z"
   },
   {
    "duration": 8,
    "start_time": "2022-09-03T18:07:56.213Z"
   },
   {
    "duration": 7,
    "start_time": "2022-09-03T18:07:58.045Z"
   },
   {
    "duration": 6,
    "start_time": "2022-09-03T18:07:58.819Z"
   },
   {
    "duration": 8,
    "start_time": "2022-09-03T18:07:59.830Z"
   },
   {
    "duration": 6,
    "start_time": "2022-09-03T18:08:01.423Z"
   },
   {
    "duration": 8,
    "start_time": "2022-09-03T18:08:06.183Z"
   },
   {
    "duration": 5,
    "start_time": "2022-09-03T18:08:09.305Z"
   },
   {
    "duration": 10,
    "start_time": "2022-09-03T18:08:10.135Z"
   },
   {
    "duration": 5,
    "start_time": "2022-09-03T18:08:11.099Z"
   },
   {
    "duration": 5,
    "start_time": "2022-09-03T18:08:11.945Z"
   },
   {
    "duration": 6,
    "start_time": "2022-09-03T18:08:16.092Z"
   },
   {
    "duration": 6,
    "start_time": "2022-09-03T18:08:17.160Z"
   },
   {
    "duration": 6,
    "start_time": "2022-09-03T18:09:20.625Z"
   },
   {
    "duration": 5,
    "start_time": "2022-09-03T18:09:30.753Z"
   },
   {
    "duration": 66,
    "start_time": "2022-09-03T18:09:35.747Z"
   },
   {
    "duration": 37,
    "start_time": "2022-09-03T18:09:36.244Z"
   },
   {
    "duration": 13,
    "start_time": "2022-09-03T18:09:36.667Z"
   },
   {
    "duration": 14,
    "start_time": "2022-09-03T18:09:38.315Z"
   },
   {
    "duration": 13,
    "start_time": "2022-09-03T18:09:41.570Z"
   },
   {
    "duration": 14,
    "start_time": "2022-09-03T18:09:42.864Z"
   },
   {
    "duration": 11,
    "start_time": "2022-09-03T18:09:44.407Z"
   },
   {
    "duration": 13,
    "start_time": "2022-09-03T18:09:45.882Z"
   },
   {
    "duration": 8,
    "start_time": "2022-09-03T18:09:47.523Z"
   },
   {
    "duration": 8,
    "start_time": "2022-09-03T18:09:48.151Z"
   },
   {
    "duration": 6,
    "start_time": "2022-09-03T18:09:48.741Z"
   },
   {
    "duration": 8,
    "start_time": "2022-09-03T18:09:49.341Z"
   },
   {
    "duration": 6,
    "start_time": "2022-09-03T18:09:49.989Z"
   },
   {
    "duration": 7,
    "start_time": "2022-09-03T18:09:50.626Z"
   },
   {
    "duration": 6,
    "start_time": "2022-09-03T18:09:51.247Z"
   },
   {
    "duration": 7,
    "start_time": "2022-09-03T18:09:51.966Z"
   },
   {
    "duration": 6,
    "start_time": "2022-09-03T18:09:52.733Z"
   },
   {
    "duration": 5,
    "start_time": "2022-09-03T18:09:53.787Z"
   },
   {
    "duration": 6,
    "start_time": "2022-09-03T18:09:56.394Z"
   },
   {
    "duration": 10,
    "start_time": "2022-09-03T18:10:00.033Z"
   },
   {
    "duration": 5,
    "start_time": "2022-09-03T18:10:01.064Z"
   },
   {
    "duration": 5,
    "start_time": "2022-09-03T18:10:05.353Z"
   },
   {
    "duration": 6,
    "start_time": "2022-09-03T18:10:14.627Z"
   },
   {
    "duration": 5,
    "start_time": "2022-09-03T18:10:15.714Z"
   },
   {
    "duration": 9,
    "start_time": "2022-09-03T18:11:39.319Z"
   },
   {
    "duration": 6,
    "start_time": "2022-09-03T18:11:57.194Z"
   },
   {
    "duration": 10,
    "start_time": "2022-09-03T18:26:40.933Z"
   },
   {
    "duration": 3,
    "start_time": "2022-09-03T18:44:48.905Z"
   },
   {
    "duration": 4,
    "start_time": "2022-09-03T18:45:00.756Z"
   },
   {
    "duration": 8,
    "start_time": "2022-09-03T18:47:14.544Z"
   },
   {
    "duration": 3,
    "start_time": "2022-09-03T18:47:25.026Z"
   },
   {
    "duration": 331,
    "start_time": "2022-09-03T18:47:25.145Z"
   },
   {
    "duration": 373,
    "start_time": "2022-09-03T18:47:47.333Z"
   },
   {
    "duration": 417,
    "start_time": "2022-09-03T18:47:56.456Z"
   },
   {
    "duration": 68,
    "start_time": "2022-09-03T21:52:41.705Z"
   },
   {
    "duration": 29,
    "start_time": "2022-09-03T21:52:43.775Z"
   },
   {
    "duration": 11,
    "start_time": "2022-09-03T21:52:44.672Z"
   },
   {
    "duration": 14,
    "start_time": "2022-09-03T21:52:46.722Z"
   },
   {
    "duration": 13,
    "start_time": "2022-09-03T21:52:48.252Z"
   },
   {
    "duration": 11,
    "start_time": "2022-09-03T21:52:49.680Z"
   },
   {
    "duration": 15,
    "start_time": "2022-09-03T21:52:51.794Z"
   },
   {
    "duration": 6,
    "start_time": "2022-09-03T21:52:52.993Z"
   },
   {
    "duration": 7,
    "start_time": "2022-09-03T21:52:54.051Z"
   },
   {
    "duration": 7,
    "start_time": "2022-09-03T21:52:54.965Z"
   },
   {
    "duration": 7,
    "start_time": "2022-09-03T21:52:55.557Z"
   },
   {
    "duration": 6,
    "start_time": "2022-09-03T21:52:56.464Z"
   },
   {
    "duration": 8,
    "start_time": "2022-09-03T21:52:57.386Z"
   },
   {
    "duration": 7,
    "start_time": "2022-09-03T21:52:58.622Z"
   },
   {
    "duration": 7,
    "start_time": "2022-09-03T21:52:59.388Z"
   },
   {
    "duration": 6,
    "start_time": "2022-09-03T21:53:00.200Z"
   },
   {
    "duration": 8,
    "start_time": "2022-09-03T21:53:01.223Z"
   },
   {
    "duration": 5,
    "start_time": "2022-09-03T21:53:04.665Z"
   },
   {
    "duration": 10,
    "start_time": "2022-09-03T21:53:05.423Z"
   },
   {
    "duration": 5,
    "start_time": "2022-09-03T21:53:06.110Z"
   },
   {
    "duration": 6,
    "start_time": "2022-09-03T21:53:06.980Z"
   },
   {
    "duration": 6,
    "start_time": "2022-09-03T21:53:08.633Z"
   },
   {
    "duration": 6,
    "start_time": "2022-09-03T21:53:09.435Z"
   },
   {
    "duration": 11,
    "start_time": "2022-09-03T21:53:10.336Z"
   },
   {
    "duration": 7,
    "start_time": "2022-09-03T21:53:11.131Z"
   },
   {
    "duration": 9,
    "start_time": "2022-09-03T21:53:13.491Z"
   },
   {
    "duration": 59,
    "start_time": "2022-09-03T21:53:15.067Z"
   },
   {
    "duration": 8,
    "start_time": "2022-09-03T21:59:58.837Z"
   },
   {
    "duration": 5,
    "start_time": "2022-09-03T21:59:59.755Z"
   },
   {
    "duration": 226,
    "start_time": "2022-09-03T22:00:02.245Z"
   },
   {
    "duration": 7,
    "start_time": "2022-09-03T22:00:13.102Z"
   },
   {
    "duration": 8,
    "start_time": "2022-09-03T22:00:14.179Z"
   },
   {
    "duration": 4,
    "start_time": "2022-09-03T22:00:37.182Z"
   },
   {
    "duration": 8,
    "start_time": "2022-09-03T22:01:02.655Z"
   },
   {
    "duration": 6,
    "start_time": "2022-09-03T22:01:04.945Z"
   },
   {
    "duration": 7,
    "start_time": "2022-09-03T22:01:07.449Z"
   },
   {
    "duration": 7,
    "start_time": "2022-09-03T22:02:03.717Z"
   },
   {
    "duration": 8,
    "start_time": "2022-09-03T22:02:09.340Z"
   },
   {
    "duration": 5,
    "start_time": "2022-09-03T22:02:22.686Z"
   },
   {
    "duration": 16,
    "start_time": "2022-09-03T22:02:35.298Z"
   },
   {
    "duration": 18,
    "start_time": "2022-09-03T22:02:37.374Z"
   },
   {
    "duration": 16,
    "start_time": "2022-09-03T22:02:38.226Z"
   },
   {
    "duration": 14,
    "start_time": "2022-09-03T22:02:39.995Z"
   },
   {
    "duration": 5,
    "start_time": "2022-09-03T22:07:25.766Z"
   },
   {
    "duration": 361,
    "start_time": "2022-09-03T22:07:26.220Z"
   },
   {
    "duration": 12,
    "start_time": "2022-09-03T22:07:27.426Z"
   },
   {
    "duration": 13,
    "start_time": "2022-09-03T22:07:35.769Z"
   },
   {
    "duration": 15,
    "start_time": "2022-09-03T22:09:14.180Z"
   },
   {
    "duration": 3,
    "start_time": "2022-09-03T22:09:37.083Z"
   },
   {
    "duration": 8,
    "start_time": "2022-09-03T22:09:58.770Z"
   },
   {
    "duration": 18,
    "start_time": "2022-09-03T22:11:21.141Z"
   },
   {
    "duration": 82,
    "start_time": "2022-09-03T22:38:44.994Z"
   },
   {
    "duration": 32,
    "start_time": "2022-09-03T22:38:46.086Z"
   },
   {
    "duration": 12,
    "start_time": "2022-09-03T22:38:46.782Z"
   },
   {
    "duration": 15,
    "start_time": "2022-09-03T22:38:48.432Z"
   },
   {
    "duration": 15,
    "start_time": "2022-09-03T22:38:49.862Z"
   },
   {
    "duration": 12,
    "start_time": "2022-09-03T22:38:51.391Z"
   },
   {
    "duration": 13,
    "start_time": "2022-09-03T22:38:52.934Z"
   },
   {
    "duration": 6,
    "start_time": "2022-09-03T22:38:53.780Z"
   },
   {
    "duration": 8,
    "start_time": "2022-09-03T22:38:54.564Z"
   },
   {
    "duration": 6,
    "start_time": "2022-09-03T22:38:55.289Z"
   },
   {
    "duration": 10,
    "start_time": "2022-09-03T22:38:56.030Z"
   },
   {
    "duration": 6,
    "start_time": "2022-09-03T22:38:56.759Z"
   },
   {
    "duration": 7,
    "start_time": "2022-09-03T22:38:57.436Z"
   },
   {
    "duration": 6,
    "start_time": "2022-09-03T22:38:58.164Z"
   },
   {
    "duration": 7,
    "start_time": "2022-09-03T22:38:58.883Z"
   },
   {
    "duration": 6,
    "start_time": "2022-09-03T22:38:59.588Z"
   },
   {
    "duration": 6,
    "start_time": "2022-09-03T22:39:00.373Z"
   },
   {
    "duration": 7,
    "start_time": "2022-09-03T22:39:02.445Z"
   },
   {
    "duration": 9,
    "start_time": "2022-09-03T22:39:03.196Z"
   },
   {
    "duration": 5,
    "start_time": "2022-09-03T22:39:03.878Z"
   },
   {
    "duration": 7,
    "start_time": "2022-09-03T22:39:04.582Z"
   },
   {
    "duration": 6,
    "start_time": "2022-09-03T22:39:06.060Z"
   },
   {
    "duration": 5,
    "start_time": "2022-09-03T22:39:06.718Z"
   },
   {
    "duration": 9,
    "start_time": "2022-09-03T22:39:07.327Z"
   },
   {
    "duration": 7,
    "start_time": "2022-09-03T22:39:07.955Z"
   },
   {
    "duration": 9,
    "start_time": "2022-09-03T22:39:09.244Z"
   },
   {
    "duration": 68,
    "start_time": "2022-09-03T22:39:09.900Z"
   },
   {
    "duration": 9,
    "start_time": "2022-09-03T22:39:10.621Z"
   },
   {
    "duration": 4,
    "start_time": "2022-09-03T22:39:11.272Z"
   },
   {
    "duration": 6,
    "start_time": "2022-09-03T22:39:12.762Z"
   },
   {
    "duration": 11,
    "start_time": "2022-09-03T22:39:13.630Z"
   },
   {
    "duration": 8,
    "start_time": "2022-09-03T22:39:14.394Z"
   },
   {
    "duration": 9,
    "start_time": "2022-09-03T22:39:15.114Z"
   },
   {
    "duration": 6,
    "start_time": "2022-09-03T22:39:16.830Z"
   },
   {
    "duration": 9,
    "start_time": "2022-09-03T22:39:17.562Z"
   },
   {
    "duration": 5,
    "start_time": "2022-09-03T22:39:18.343Z"
   },
   {
    "duration": 18,
    "start_time": "2022-09-03T22:39:19.740Z"
   },
   {
    "duration": 26,
    "start_time": "2022-09-03T22:39:20.461Z"
   },
   {
    "duration": 17,
    "start_time": "2022-09-03T22:39:21.192Z"
   },
   {
    "duration": 15,
    "start_time": "2022-09-03T22:39:21.843Z"
   },
   {
    "duration": 3,
    "start_time": "2022-09-03T22:41:57.798Z"
   },
   {
    "duration": 3,
    "start_time": "2022-09-03T22:41:58.974Z"
   },
   {
    "duration": 5,
    "start_time": "2022-09-03T22:42:18.493Z"
   },
   {
    "duration": 323,
    "start_time": "2022-09-03T22:42:19.060Z"
   },
   {
    "duration": 13,
    "start_time": "2022-09-03T22:42:20.283Z"
   },
   {
    "duration": 17,
    "start_time": "2022-09-03T22:42:21.277Z"
   },
   {
    "duration": 9,
    "start_time": "2022-09-03T22:42:22.446Z"
   },
   {
    "duration": 8,
    "start_time": "2022-09-03T22:47:39.542Z"
   },
   {
    "duration": 8,
    "start_time": "2022-09-03T22:48:31.187Z"
   },
   {
    "duration": 15,
    "start_time": "2022-09-03T22:48:43.015Z"
   },
   {
    "duration": 16,
    "start_time": "2022-09-03T22:49:22.608Z"
   },
   {
    "duration": 40,
    "start_time": "2022-09-03T22:50:33.490Z"
   },
   {
    "duration": 18,
    "start_time": "2022-09-03T22:51:07.422Z"
   },
   {
    "duration": 3,
    "start_time": "2022-09-03T22:51:37.971Z"
   },
   {
    "duration": 264,
    "start_time": "2022-09-03T22:51:39.734Z"
   },
   {
    "duration": 16,
    "start_time": "2022-09-03T22:51:40.391Z"
   },
   {
    "duration": 17,
    "start_time": "2022-09-03T22:51:41.335Z"
   },
   {
    "duration": 18,
    "start_time": "2022-09-03T22:51:42.388Z"
   },
   {
    "duration": 14,
    "start_time": "2022-09-03T22:52:19.517Z"
   },
   {
    "duration": 8,
    "start_time": "2022-09-03T22:52:35.013Z"
   },
   {
    "duration": 3,
    "start_time": "2022-09-03T23:03:42.190Z"
   },
   {
    "duration": 7,
    "start_time": "2022-09-03T23:04:49.030Z"
   },
   {
    "duration": 3,
    "start_time": "2022-09-03T23:06:41.622Z"
   },
   {
    "duration": 3,
    "start_time": "2022-09-03T23:07:14.712Z"
   },
   {
    "duration": 1482,
    "start_time": "2022-09-03T23:07:14.717Z"
   },
   {
    "duration": 5,
    "start_time": "2022-09-03T23:07:30.227Z"
   },
   {
    "duration": 1009,
    "start_time": "2022-09-03T23:07:31.395Z"
   },
   {
    "duration": 59,
    "start_time": "2022-09-03T23:11:08.838Z"
   },
   {
    "duration": 955,
    "start_time": "2022-09-03T23:11:09.959Z"
   },
   {
    "duration": 589,
    "start_time": "2022-09-04T03:14:57.487Z"
   },
   {
    "duration": 31,
    "start_time": "2022-09-04T03:15:00.025Z"
   },
   {
    "duration": 12,
    "start_time": "2022-09-04T03:15:01.087Z"
   },
   {
    "duration": 16,
    "start_time": "2022-09-04T03:15:02.869Z"
   },
   {
    "duration": 15,
    "start_time": "2022-09-04T03:15:04.551Z"
   },
   {
    "duration": 13,
    "start_time": "2022-09-04T03:15:06.074Z"
   },
   {
    "duration": 20,
    "start_time": "2022-09-04T03:15:07.614Z"
   },
   {
    "duration": 8,
    "start_time": "2022-09-04T03:15:08.535Z"
   },
   {
    "duration": 9,
    "start_time": "2022-09-04T03:15:09.499Z"
   },
   {
    "duration": 6,
    "start_time": "2022-09-04T03:15:10.332Z"
   },
   {
    "duration": 7,
    "start_time": "2022-09-04T03:15:11.181Z"
   },
   {
    "duration": 6,
    "start_time": "2022-09-04T03:15:12.020Z"
   },
   {
    "duration": 7,
    "start_time": "2022-09-04T03:15:12.917Z"
   },
   {
    "duration": 6,
    "start_time": "2022-09-04T03:15:13.623Z"
   },
   {
    "duration": 8,
    "start_time": "2022-09-04T03:15:14.425Z"
   },
   {
    "duration": 6,
    "start_time": "2022-09-04T03:15:15.328Z"
   },
   {
    "duration": 8,
    "start_time": "2022-09-04T03:15:16.265Z"
   },
   {
    "duration": 4,
    "start_time": "2022-09-04T03:15:18.527Z"
   },
   {
    "duration": 10,
    "start_time": "2022-09-04T03:15:19.253Z"
   },
   {
    "duration": 5,
    "start_time": "2022-09-04T03:15:20.260Z"
   },
   {
    "duration": 5,
    "start_time": "2022-09-04T03:15:21.078Z"
   },
   {
    "duration": 7,
    "start_time": "2022-09-04T03:15:22.717Z"
   },
   {
    "duration": 6,
    "start_time": "2022-09-04T03:15:23.495Z"
   },
   {
    "duration": 8,
    "start_time": "2022-09-04T03:15:24.530Z"
   },
   {
    "duration": 6,
    "start_time": "2022-09-04T03:15:25.504Z"
   },
   {
    "duration": 9,
    "start_time": "2022-09-04T03:15:27.415Z"
   },
   {
    "duration": 47,
    "start_time": "2022-09-04T03:15:29.271Z"
   },
   {
    "duration": 8,
    "start_time": "2022-09-04T03:15:41.232Z"
   },
   {
    "duration": 4,
    "start_time": "2022-09-04T03:15:42.385Z"
   },
   {
    "duration": 6,
    "start_time": "2022-09-04T03:15:43.827Z"
   },
   {
    "duration": 8,
    "start_time": "2022-09-04T03:15:44.623Z"
   },
   {
    "duration": 5,
    "start_time": "2022-09-04T03:15:48.451Z"
   },
   {
    "duration": 7,
    "start_time": "2022-09-04T03:15:49.497Z"
   },
   {
    "duration": 6,
    "start_time": "2022-09-04T03:15:51.296Z"
   },
   {
    "duration": 8,
    "start_time": "2022-09-04T03:15:52.140Z"
   },
   {
    "duration": 5,
    "start_time": "2022-09-04T03:15:53.504Z"
   },
   {
    "duration": 17,
    "start_time": "2022-09-04T03:15:56.058Z"
   },
   {
    "duration": 17,
    "start_time": "2022-09-04T03:15:56.773Z"
   },
   {
    "duration": 18,
    "start_time": "2022-09-04T03:15:57.553Z"
   },
   {
    "duration": 14,
    "start_time": "2022-09-04T03:15:58.327Z"
   },
   {
    "duration": 3,
    "start_time": "2022-09-04T03:16:03.343Z"
   },
   {
    "duration": 4,
    "start_time": "2022-09-04T03:16:04.716Z"
   },
   {
    "duration": 267,
    "start_time": "2022-09-04T03:16:07.858Z"
   },
   {
    "duration": 13,
    "start_time": "2022-09-04T03:16:08.635Z"
   },
   {
    "duration": 18,
    "start_time": "2022-09-04T03:16:11.386Z"
   },
   {
    "duration": 16,
    "start_time": "2022-09-04T03:17:57.307Z"
   },
   {
    "duration": 10,
    "start_time": "2022-09-04T03:17:57.617Z"
   },
   {
    "duration": 12,
    "start_time": "2022-09-04T03:19:15.613Z"
   },
   {
    "duration": 8,
    "start_time": "2022-09-04T03:19:16.867Z"
   },
   {
    "duration": 5,
    "start_time": "2022-09-04T03:20:29.009Z"
   },
   {
    "duration": 9,
    "start_time": "2022-09-04T03:20:40.113Z"
   },
   {
    "duration": 92,
    "start_time": "2022-09-04T03:22:49.460Z"
   },
   {
    "duration": 48,
    "start_time": "2022-09-04T03:22:53.052Z"
   },
   {
    "duration": 3,
    "start_time": "2022-09-04T03:23:13.688Z"
   },
   {
    "duration": 4,
    "start_time": "2022-09-04T03:23:32.044Z"
   },
   {
    "duration": 3,
    "start_time": "2022-09-04T03:23:50.282Z"
   },
   {
    "duration": 877,
    "start_time": "2022-09-04T03:23:52.006Z"
   },
   {
    "duration": 10,
    "start_time": "2022-09-04T03:29:12.542Z"
   },
   {
    "duration": 7,
    "start_time": "2022-09-04T03:29:38.497Z"
   },
   {
    "duration": 8,
    "start_time": "2022-09-04T03:30:49.391Z"
   },
   {
    "duration": 7,
    "start_time": "2022-09-04T03:31:05.052Z"
   },
   {
    "duration": 5,
    "start_time": "2022-09-04T03:36:21.860Z"
   },
   {
    "duration": 4,
    "start_time": "2022-09-04T03:47:40.275Z"
   },
   {
    "duration": 7,
    "start_time": "2022-09-04T03:48:45.088Z"
   },
   {
    "duration": 8,
    "start_time": "2022-09-04T03:48:46.179Z"
   },
   {
    "duration": 3,
    "start_time": "2022-09-04T03:55:45.790Z"
   },
   {
    "duration": 205,
    "start_time": "2022-09-04T03:55:46.947Z"
   },
   {
    "duration": 6,
    "start_time": "2022-09-04T03:59:05.220Z"
   },
   {
    "duration": 9,
    "start_time": "2022-09-04T03:59:24.921Z"
   },
   {
    "duration": 15,
    "start_time": "2022-09-04T03:59:40.939Z"
   },
   {
    "duration": 3,
    "start_time": "2022-09-04T04:01:33.754Z"
   },
   {
    "duration": 232,
    "start_time": "2022-09-04T04:01:39.865Z"
   },
   {
    "duration": 455,
    "start_time": "2022-09-04T04:02:55.721Z"
   },
   {
    "duration": 30,
    "start_time": "2022-09-04T04:02:59.455Z"
   },
   {
    "duration": 13,
    "start_time": "2022-09-04T04:03:00.897Z"
   },
   {
    "duration": 14,
    "start_time": "2022-09-04T04:03:02.966Z"
   },
   {
    "duration": 15,
    "start_time": "2022-09-04T04:03:04.911Z"
   },
   {
    "duration": 14,
    "start_time": "2022-09-04T04:03:06.627Z"
   },
   {
    "duration": 14,
    "start_time": "2022-09-04T04:03:08.137Z"
   },
   {
    "duration": 7,
    "start_time": "2022-09-04T04:03:08.911Z"
   },
   {
    "duration": 7,
    "start_time": "2022-09-04T04:03:09.802Z"
   },
   {
    "duration": 6,
    "start_time": "2022-09-04T04:03:10.545Z"
   },
   {
    "duration": 6,
    "start_time": "2022-09-04T04:03:11.301Z"
   },
   {
    "duration": 7,
    "start_time": "2022-09-04T04:03:12.017Z"
   },
   {
    "duration": 8,
    "start_time": "2022-09-04T04:03:12.732Z"
   },
   {
    "duration": 6,
    "start_time": "2022-09-04T04:03:13.445Z"
   },
   {
    "duration": 7,
    "start_time": "2022-09-04T04:03:14.211Z"
   },
   {
    "duration": 6,
    "start_time": "2022-09-04T04:03:14.905Z"
   },
   {
    "duration": 6,
    "start_time": "2022-09-04T04:03:15.721Z"
   },
   {
    "duration": 5,
    "start_time": "2022-09-04T04:03:18.126Z"
   },
   {
    "duration": 9,
    "start_time": "2022-09-04T04:03:18.980Z"
   },
   {
    "duration": 6,
    "start_time": "2022-09-04T04:03:21.354Z"
   },
   {
    "duration": 6,
    "start_time": "2022-09-04T04:03:22.099Z"
   },
   {
    "duration": 7,
    "start_time": "2022-09-04T04:03:23.586Z"
   },
   {
    "duration": 6,
    "start_time": "2022-09-04T04:03:25.142Z"
   },
   {
    "duration": 9,
    "start_time": "2022-09-04T04:03:26.066Z"
   },
   {
    "duration": 6,
    "start_time": "2022-09-04T04:03:27.109Z"
   },
   {
    "duration": 9,
    "start_time": "2022-09-04T04:03:31.107Z"
   },
   {
    "duration": 8,
    "start_time": "2022-09-04T04:03:31.943Z"
   },
   {
    "duration": 4,
    "start_time": "2022-09-04T04:03:34.959Z"
   },
   {
    "duration": 6,
    "start_time": "2022-09-04T04:03:36.661Z"
   },
   {
    "duration": 7,
    "start_time": "2022-09-04T04:03:37.459Z"
   },
   {
    "duration": 5,
    "start_time": "2022-09-04T04:03:38.205Z"
   },
   {
    "duration": 7,
    "start_time": "2022-09-04T04:03:38.983Z"
   },
   {
    "duration": 5,
    "start_time": "2022-09-04T04:03:40.697Z"
   },
   {
    "duration": 7,
    "start_time": "2022-09-04T04:03:41.562Z"
   },
   {
    "duration": 4,
    "start_time": "2022-09-04T04:03:42.705Z"
   },
   {
    "duration": 15,
    "start_time": "2022-09-04T04:03:45.283Z"
   },
   {
    "duration": 19,
    "start_time": "2022-09-04T04:03:46.061Z"
   },
   {
    "duration": 16,
    "start_time": "2022-09-04T04:03:46.937Z"
   },
   {
    "duration": 13,
    "start_time": "2022-09-04T04:03:48.113Z"
   },
   {
    "duration": 3,
    "start_time": "2022-09-04T04:03:51.291Z"
   },
   {
    "duration": 4,
    "start_time": "2022-09-04T04:03:52.792Z"
   },
   {
    "duration": 256,
    "start_time": "2022-09-04T04:03:53.597Z"
   },
   {
    "duration": 13,
    "start_time": "2022-09-04T04:03:54.458Z"
   },
   {
    "duration": 17,
    "start_time": "2022-09-04T04:03:55.733Z"
   },
   {
    "duration": 13,
    "start_time": "2022-09-04T04:03:56.648Z"
   },
   {
    "duration": 8,
    "start_time": "2022-09-04T04:03:57.853Z"
   },
   {
    "duration": 3,
    "start_time": "2022-09-04T04:04:00.679Z"
   },
   {
    "duration": 1437,
    "start_time": "2022-09-04T04:04:01.434Z"
   },
   {
    "duration": 8,
    "start_time": "2022-09-04T04:04:09.553Z"
   },
   {
    "duration": 7,
    "start_time": "2022-09-04T04:04:10.748Z"
   },
   {
    "duration": 3,
    "start_time": "2022-09-04T04:04:14.295Z"
   },
   {
    "duration": 217,
    "start_time": "2022-09-04T04:04:15.343Z"
   },
   {
    "duration": 16,
    "start_time": "2022-09-04T04:04:16.539Z"
   },
   {
    "duration": 3,
    "start_time": "2022-09-04T04:06:03.103Z"
   },
   {
    "duration": 483,
    "start_time": "2022-09-04T04:07:55.278Z"
   },
   {
    "duration": 31,
    "start_time": "2022-09-04T04:07:57.355Z"
   },
   {
    "duration": 12,
    "start_time": "2022-09-04T04:07:57.756Z"
   },
   {
    "duration": 14,
    "start_time": "2022-09-04T04:07:58.155Z"
   },
   {
    "duration": 14,
    "start_time": "2022-09-04T04:07:58.989Z"
   },
   {
    "duration": 12,
    "start_time": "2022-09-04T04:07:59.790Z"
   },
   {
    "duration": 12,
    "start_time": "2022-09-04T04:08:00.730Z"
   },
   {
    "duration": 7,
    "start_time": "2022-09-04T04:08:01.150Z"
   },
   {
    "duration": 8,
    "start_time": "2022-09-04T04:08:01.667Z"
   },
   {
    "duration": 6,
    "start_time": "2022-09-04T04:08:02.051Z"
   },
   {
    "duration": 7,
    "start_time": "2022-09-04T04:08:02.582Z"
   },
   {
    "duration": 6,
    "start_time": "2022-09-04T04:08:02.991Z"
   },
   {
    "duration": 7,
    "start_time": "2022-09-04T04:08:03.391Z"
   },
   {
    "duration": 6,
    "start_time": "2022-09-04T04:08:03.782Z"
   },
   {
    "duration": 7,
    "start_time": "2022-09-04T04:08:04.197Z"
   },
   {
    "duration": 5,
    "start_time": "2022-09-04T04:08:04.585Z"
   },
   {
    "duration": 6,
    "start_time": "2022-09-04T04:08:05.003Z"
   },
   {
    "duration": 7,
    "start_time": "2022-09-04T04:08:06.336Z"
   },
   {
    "duration": 9,
    "start_time": "2022-09-04T04:08:06.872Z"
   },
   {
    "duration": 5,
    "start_time": "2022-09-04T04:08:07.412Z"
   },
   {
    "duration": 5,
    "start_time": "2022-09-04T04:08:07.892Z"
   },
   {
    "duration": 6,
    "start_time": "2022-09-04T04:08:08.939Z"
   },
   {
    "duration": 6,
    "start_time": "2022-09-04T04:08:09.415Z"
   },
   {
    "duration": 9,
    "start_time": "2022-09-04T04:08:09.851Z"
   },
   {
    "duration": 7,
    "start_time": "2022-09-04T04:08:10.351Z"
   },
   {
    "duration": 9,
    "start_time": "2022-09-04T04:08:11.304Z"
   },
   {
    "duration": 9,
    "start_time": "2022-09-04T04:08:11.793Z"
   },
   {
    "duration": 5,
    "start_time": "2022-09-04T04:08:12.415Z"
   },
   {
    "duration": 14,
    "start_time": "2022-09-04T04:08:13.392Z"
   },
   {
    "duration": 8,
    "start_time": "2022-09-04T04:08:13.914Z"
   },
   {
    "duration": 5,
    "start_time": "2022-09-04T04:08:14.347Z"
   },
   {
    "duration": 7,
    "start_time": "2022-09-04T04:08:14.781Z"
   },
   {
    "duration": 6,
    "start_time": "2022-09-04T04:08:15.667Z"
   },
   {
    "duration": 8,
    "start_time": "2022-09-04T04:08:16.067Z"
   },
   {
    "duration": 5,
    "start_time": "2022-09-04T04:08:17.005Z"
   },
   {
    "duration": 17,
    "start_time": "2022-09-04T04:08:18.375Z"
   },
   {
    "duration": 19,
    "start_time": "2022-09-04T04:08:18.758Z"
   },
   {
    "duration": 17,
    "start_time": "2022-09-04T04:08:19.301Z"
   },
   {
    "duration": 14,
    "start_time": "2022-09-04T04:08:19.753Z"
   },
   {
    "duration": 3,
    "start_time": "2022-09-04T04:08:21.619Z"
   },
   {
    "duration": 4,
    "start_time": "2022-09-04T04:08:22.905Z"
   },
   {
    "duration": 257,
    "start_time": "2022-09-04T04:08:23.429Z"
   },
   {
    "duration": 14,
    "start_time": "2022-09-04T04:08:23.991Z"
   },
   {
    "duration": 18,
    "start_time": "2022-09-04T04:08:24.452Z"
   },
   {
    "duration": 13,
    "start_time": "2022-09-04T04:08:25.550Z"
   },
   {
    "duration": 10,
    "start_time": "2022-09-04T04:08:26.221Z"
   },
   {
    "duration": 3,
    "start_time": "2022-09-04T04:08:29.147Z"
   },
   {
    "duration": 855,
    "start_time": "2022-09-04T04:08:30.394Z"
   },
   {
    "duration": 0,
    "start_time": "2022-09-04T04:08:31.251Z"
   },
   {
    "duration": 3,
    "start_time": "2022-09-04T04:08:31.508Z"
   },
   {
    "duration": 2,
    "start_time": "2022-09-04T04:08:35.912Z"
   },
   {
    "duration": 3,
    "start_time": "2022-09-04T04:08:36.655Z"
   },
   {
    "duration": 7,
    "start_time": "2022-09-04T04:08:39.914Z"
   },
   {
    "duration": 7,
    "start_time": "2022-09-04T04:08:40.937Z"
   },
   {
    "duration": 2,
    "start_time": "2022-09-04T04:08:45.556Z"
   },
   {
    "duration": 4,
    "start_time": "2022-09-04T04:08:46.155Z"
   },
   {
    "duration": 22,
    "start_time": "2022-09-04T04:08:48.394Z"
   },
   {
    "duration": 3,
    "start_time": "2022-09-04T04:10:43.644Z"
   },
   {
    "duration": 21,
    "start_time": "2022-09-04T04:10:46.899Z"
   },
   {
    "duration": 3,
    "start_time": "2022-09-04T04:11:13.245Z"
   },
   {
    "duration": 3118,
    "start_time": "2022-09-04T04:11:18.025Z"
   },
   {
    "duration": 19,
    "start_time": "2022-09-04T04:11:52.668Z"
   },
   {
    "duration": 505,
    "start_time": "2022-09-04T04:14:04.698Z"
   },
   {
    "duration": 30,
    "start_time": "2022-09-04T04:14:08.881Z"
   },
   {
    "duration": 13,
    "start_time": "2022-09-04T04:14:08.913Z"
   },
   {
    "duration": 18,
    "start_time": "2022-09-04T04:14:10.238Z"
   },
   {
    "duration": 16,
    "start_time": "2022-09-04T04:14:11.455Z"
   },
   {
    "duration": 18,
    "start_time": "2022-09-04T04:14:12.624Z"
   },
   {
    "duration": 14,
    "start_time": "2022-09-04T04:14:15.222Z"
   },
   {
    "duration": 8,
    "start_time": "2022-09-04T04:14:16.073Z"
   },
   {
    "duration": 7,
    "start_time": "2022-09-04T04:14:16.666Z"
   },
   {
    "duration": 7,
    "start_time": "2022-09-04T04:14:17.385Z"
   },
   {
    "duration": 7,
    "start_time": "2022-09-04T04:14:18.172Z"
   },
   {
    "duration": 9,
    "start_time": "2022-09-04T04:14:18.956Z"
   },
   {
    "duration": 7,
    "start_time": "2022-09-04T04:14:19.632Z"
   },
   {
    "duration": 6,
    "start_time": "2022-09-04T04:14:20.313Z"
   },
   {
    "duration": 7,
    "start_time": "2022-09-04T04:14:21.090Z"
   },
   {
    "duration": 6,
    "start_time": "2022-09-04T04:14:21.768Z"
   },
   {
    "duration": 6,
    "start_time": "2022-09-04T04:14:22.744Z"
   },
   {
    "duration": 7,
    "start_time": "2022-09-04T04:14:26.230Z"
   },
   {
    "duration": 11,
    "start_time": "2022-09-04T04:14:27.291Z"
   },
   {
    "duration": 5,
    "start_time": "2022-09-04T04:14:28.429Z"
   },
   {
    "duration": 6,
    "start_time": "2022-09-04T04:14:30.817Z"
   },
   {
    "duration": 7,
    "start_time": "2022-09-04T04:14:33.370Z"
   },
   {
    "duration": 6,
    "start_time": "2022-09-04T04:14:34.488Z"
   },
   {
    "duration": 9,
    "start_time": "2022-09-04T04:14:35.386Z"
   },
   {
    "duration": 6,
    "start_time": "2022-09-04T04:14:36.159Z"
   },
   {
    "duration": 10,
    "start_time": "2022-09-04T04:14:38.724Z"
   },
   {
    "duration": 8,
    "start_time": "2022-09-04T04:14:39.634Z"
   },
   {
    "duration": 5,
    "start_time": "2022-09-04T04:14:41.054Z"
   },
   {
    "duration": 7,
    "start_time": "2022-09-04T04:14:42.366Z"
   },
   {
    "duration": 8,
    "start_time": "2022-09-04T04:14:43.213Z"
   },
   {
    "duration": 8,
    "start_time": "2022-09-04T04:14:44.029Z"
   },
   {
    "duration": 8,
    "start_time": "2022-09-04T04:14:44.782Z"
   },
   {
    "duration": 6,
    "start_time": "2022-09-04T04:14:46.535Z"
   },
   {
    "duration": 8,
    "start_time": "2022-09-04T04:14:47.670Z"
   },
   {
    "duration": 6,
    "start_time": "2022-09-04T04:14:48.465Z"
   },
   {
    "duration": 16,
    "start_time": "2022-09-04T04:14:50.302Z"
   },
   {
    "duration": 18,
    "start_time": "2022-09-04T04:14:51.163Z"
   },
   {
    "duration": 17,
    "start_time": "2022-09-04T04:14:51.949Z"
   },
   {
    "duration": 14,
    "start_time": "2022-09-04T04:14:54.554Z"
   },
   {
    "duration": 3,
    "start_time": "2022-09-04T04:14:58.623Z"
   },
   {
    "duration": 4,
    "start_time": "2022-09-04T04:14:59.865Z"
   },
   {
    "duration": 274,
    "start_time": "2022-09-04T04:15:00.617Z"
   },
   {
    "duration": 13,
    "start_time": "2022-09-04T04:15:01.383Z"
   },
   {
    "duration": 19,
    "start_time": "2022-09-04T04:15:05.700Z"
   },
   {
    "duration": 13,
    "start_time": "2022-09-04T04:15:09.790Z"
   },
   {
    "duration": 9,
    "start_time": "2022-09-04T04:15:10.546Z"
   },
   {
    "duration": 4,
    "start_time": "2022-09-04T04:15:13.608Z"
   },
   {
    "duration": 1431,
    "start_time": "2022-09-04T04:15:14.719Z"
   },
   {
    "duration": 8,
    "start_time": "2022-09-04T04:15:21.530Z"
   },
   {
    "duration": 8,
    "start_time": "2022-09-04T04:15:22.893Z"
   },
   {
    "duration": 2,
    "start_time": "2022-09-04T04:15:26.051Z"
   },
   {
    "duration": 4,
    "start_time": "2022-09-04T04:15:26.472Z"
   },
   {
    "duration": 17,
    "start_time": "2022-09-04T04:15:27.659Z"
   },
   {
    "duration": 14,
    "start_time": "2022-09-04T04:16:11.410Z"
   },
   {
    "duration": 24,
    "start_time": "2022-09-04T04:18:05.556Z"
   },
   {
    "duration": 4,
    "start_time": "2022-09-04T04:18:10.028Z"
   },
   {
    "duration": 13,
    "start_time": "2022-09-04T04:18:11.088Z"
   },
   {
    "duration": 14,
    "start_time": "2022-09-04T04:18:12.955Z"
   },
   {
    "duration": 8,
    "start_time": "2022-09-04T04:19:14.686Z"
   },
   {
    "duration": 7,
    "start_time": "2022-09-04T04:19:22.144Z"
   },
   {
    "duration": 10,
    "start_time": "2022-09-04T04:21:55.797Z"
   },
   {
    "duration": 18,
    "start_time": "2022-09-04T04:21:57.827Z"
   },
   {
    "duration": 479,
    "start_time": "2022-09-04T04:22:14.585Z"
   },
   {
    "duration": 31,
    "start_time": "2022-09-04T04:22:16.864Z"
   },
   {
    "duration": 13,
    "start_time": "2022-09-04T04:22:17.346Z"
   },
   {
    "duration": 17,
    "start_time": "2022-09-04T04:22:18.504Z"
   },
   {
    "duration": 15,
    "start_time": "2022-09-04T04:22:19.500Z"
   },
   {
    "duration": 11,
    "start_time": "2022-09-04T04:22:20.531Z"
   },
   {
    "duration": 14,
    "start_time": "2022-09-04T04:22:21.591Z"
   },
   {
    "duration": 7,
    "start_time": "2022-09-04T04:22:22.081Z"
   },
   {
    "duration": 8,
    "start_time": "2022-09-04T04:22:22.645Z"
   },
   {
    "duration": 6,
    "start_time": "2022-09-04T04:22:23.068Z"
   },
   {
    "duration": 8,
    "start_time": "2022-09-04T04:22:23.519Z"
   },
   {
    "duration": 6,
    "start_time": "2022-09-04T04:22:23.973Z"
   },
   {
    "duration": 7,
    "start_time": "2022-09-04T04:22:24.366Z"
   },
   {
    "duration": 6,
    "start_time": "2022-09-04T04:22:24.787Z"
   },
   {
    "duration": 7,
    "start_time": "2022-09-04T04:22:25.248Z"
   },
   {
    "duration": 6,
    "start_time": "2022-09-04T04:22:25.694Z"
   },
   {
    "duration": 5,
    "start_time": "2022-09-04T04:22:26.125Z"
   },
   {
    "duration": 5,
    "start_time": "2022-09-04T04:22:27.638Z"
   },
   {
    "duration": 9,
    "start_time": "2022-09-04T04:22:28.189Z"
   },
   {
    "duration": 5,
    "start_time": "2022-09-04T04:22:28.730Z"
   },
   {
    "duration": 5,
    "start_time": "2022-09-04T04:22:29.253Z"
   },
   {
    "duration": 7,
    "start_time": "2022-09-04T04:22:30.458Z"
   },
   {
    "duration": 5,
    "start_time": "2022-09-04T04:22:31.001Z"
   },
   {
    "duration": 9,
    "start_time": "2022-09-04T04:22:31.789Z"
   },
   {
    "duration": 6,
    "start_time": "2022-09-04T04:22:32.655Z"
   },
   {
    "duration": 10,
    "start_time": "2022-09-04T04:22:34.407Z"
   },
   {
    "duration": 9,
    "start_time": "2022-09-04T04:22:35.142Z"
   },
   {
    "duration": 5,
    "start_time": "2022-09-04T04:22:35.759Z"
   },
   {
    "duration": 7,
    "start_time": "2022-09-04T04:22:37.013Z"
   },
   {
    "duration": 10,
    "start_time": "2022-09-04T04:22:37.542Z"
   },
   {
    "duration": 6,
    "start_time": "2022-09-04T04:22:38.321Z"
   },
   {
    "duration": 8,
    "start_time": "2022-09-04T04:22:39.087Z"
   },
   {
    "duration": 6,
    "start_time": "2022-09-04T04:22:40.389Z"
   },
   {
    "duration": 8,
    "start_time": "2022-09-04T04:22:41.245Z"
   },
   {
    "duration": 7,
    "start_time": "2022-09-04T04:22:41.983Z"
   },
   {
    "duration": 16,
    "start_time": "2022-09-04T04:22:43.356Z"
   },
   {
    "duration": 18,
    "start_time": "2022-09-04T04:22:44.038Z"
   },
   {
    "duration": 17,
    "start_time": "2022-09-04T04:22:44.749Z"
   },
   {
    "duration": 16,
    "start_time": "2022-09-04T04:22:45.498Z"
   },
   {
    "duration": 3,
    "start_time": "2022-09-04T04:22:47.978Z"
   },
   {
    "duration": 4,
    "start_time": "2022-09-04T04:22:49.290Z"
   },
   {
    "duration": 271,
    "start_time": "2022-09-04T04:22:50.004Z"
   },
   {
    "duration": 14,
    "start_time": "2022-09-04T04:22:51.156Z"
   },
   {
    "duration": 19,
    "start_time": "2022-09-04T04:22:52.348Z"
   },
   {
    "duration": 13,
    "start_time": "2022-09-04T04:22:53.367Z"
   },
   {
    "duration": 8,
    "start_time": "2022-09-04T04:22:55.355Z"
   },
   {
    "duration": 3,
    "start_time": "2022-09-04T04:22:57.104Z"
   },
   {
    "duration": 815,
    "start_time": "2022-09-04T04:22:57.636Z"
   },
   {
    "duration": 8,
    "start_time": "2022-09-04T04:23:07.168Z"
   },
   {
    "duration": 7,
    "start_time": "2022-09-04T04:23:08.947Z"
   },
   {
    "duration": 16,
    "start_time": "2022-09-04T04:23:12.951Z"
   },
   {
    "duration": 4,
    "start_time": "2022-09-04T04:23:14.076Z"
   },
   {
    "duration": 10,
    "start_time": "2022-09-04T04:23:18.667Z"
   },
   {
    "duration": 15,
    "start_time": "2022-09-04T04:23:20.396Z"
   },
   {
    "duration": 70,
    "start_time": "2022-09-04T04:23:58.611Z"
   },
   {
    "duration": 32,
    "start_time": "2022-09-04T04:24:00.243Z"
   },
   {
    "duration": 14,
    "start_time": "2022-09-04T04:24:00.882Z"
   },
   {
    "duration": 18,
    "start_time": "2022-09-04T04:24:02.019Z"
   },
   {
    "duration": 23,
    "start_time": "2022-09-04T04:24:03.130Z"
   },
   {
    "duration": 12,
    "start_time": "2022-09-04T04:24:04.203Z"
   },
   {
    "duration": 15,
    "start_time": "2022-09-04T04:24:05.299Z"
   },
   {
    "duration": 6,
    "start_time": "2022-09-04T04:24:05.721Z"
   },
   {
    "duration": 11,
    "start_time": "2022-09-04T04:24:06.128Z"
   },
   {
    "duration": 9,
    "start_time": "2022-09-04T04:24:06.571Z"
   },
   {
    "duration": 12,
    "start_time": "2022-09-04T04:24:06.982Z"
   },
   {
    "duration": 9,
    "start_time": "2022-09-04T04:24:07.397Z"
   },
   {
    "duration": 8,
    "start_time": "2022-09-04T04:24:07.837Z"
   },
   {
    "duration": 9,
    "start_time": "2022-09-04T04:24:08.237Z"
   },
   {
    "duration": 7,
    "start_time": "2022-09-04T04:24:08.701Z"
   },
   {
    "duration": 7,
    "start_time": "2022-09-04T04:24:09.075Z"
   },
   {
    "duration": 7,
    "start_time": "2022-09-04T04:24:09.598Z"
   },
   {
    "duration": 6,
    "start_time": "2022-09-04T04:24:10.981Z"
   },
   {
    "duration": 11,
    "start_time": "2022-09-04T04:24:11.469Z"
   },
   {
    "duration": 5,
    "start_time": "2022-09-04T04:24:11.900Z"
   },
   {
    "duration": 6,
    "start_time": "2022-09-04T04:24:12.287Z"
   },
   {
    "duration": 7,
    "start_time": "2022-09-04T04:24:13.179Z"
   },
   {
    "duration": 9,
    "start_time": "2022-09-04T04:24:13.626Z"
   },
   {
    "duration": 10,
    "start_time": "2022-09-04T04:24:14.151Z"
   },
   {
    "duration": 7,
    "start_time": "2022-09-04T04:24:14.675Z"
   },
   {
    "duration": 10,
    "start_time": "2022-09-04T04:24:15.649Z"
   },
   {
    "duration": 8,
    "start_time": "2022-09-04T04:24:16.101Z"
   },
   {
    "duration": 6,
    "start_time": "2022-09-04T04:24:16.567Z"
   },
   {
    "duration": 6,
    "start_time": "2022-09-04T04:24:17.491Z"
   },
   {
    "duration": 11,
    "start_time": "2022-09-04T04:24:17.908Z"
   },
   {
    "duration": 7,
    "start_time": "2022-09-04T04:24:18.354Z"
   },
   {
    "duration": 10,
    "start_time": "2022-09-04T04:24:18.835Z"
   },
   {
    "duration": 10,
    "start_time": "2022-09-04T04:24:19.667Z"
   },
   {
    "duration": 11,
    "start_time": "2022-09-04T04:24:20.081Z"
   },
   {
    "duration": 7,
    "start_time": "2022-09-04T04:24:20.554Z"
   },
   {
    "duration": 27,
    "start_time": "2022-09-04T04:24:21.509Z"
   },
   {
    "duration": 24,
    "start_time": "2022-09-04T04:24:21.902Z"
   },
   {
    "duration": 17,
    "start_time": "2022-09-04T04:24:22.341Z"
   },
   {
    "duration": 15,
    "start_time": "2022-09-04T04:24:22.854Z"
   },
   {
    "duration": 2,
    "start_time": "2022-09-04T04:24:24.827Z"
   },
   {
    "duration": 3,
    "start_time": "2022-09-04T04:24:25.716Z"
   },
   {
    "duration": 295,
    "start_time": "2022-09-04T04:24:26.233Z"
   },
   {
    "duration": 15,
    "start_time": "2022-09-04T04:24:26.746Z"
   },
   {
    "duration": 19,
    "start_time": "2022-09-04T04:24:27.230Z"
   },
   {
    "duration": 12,
    "start_time": "2022-09-04T04:24:27.793Z"
   },
   {
    "duration": 8,
    "start_time": "2022-09-04T04:24:28.453Z"
   },
   {
    "duration": 3,
    "start_time": "2022-09-04T04:24:30.824Z"
   },
   {
    "duration": 781,
    "start_time": "2022-09-04T04:24:31.648Z"
   },
   {
    "duration": 3,
    "start_time": "2022-09-04T04:24:33.880Z"
   },
   {
    "duration": 10,
    "start_time": "2022-09-04T04:24:38.590Z"
   },
   {
    "duration": 7,
    "start_time": "2022-09-04T04:24:39.297Z"
   },
   {
    "duration": 15,
    "start_time": "2022-09-04T04:24:43.257Z"
   },
   {
    "duration": 3,
    "start_time": "2022-09-04T04:24:46.879Z"
   },
   {
    "duration": 7,
    "start_time": "2022-09-04T04:24:48.287Z"
   },
   {
    "duration": 6,
    "start_time": "2022-09-04T04:26:12.527Z"
   },
   {
    "duration": 23,
    "start_time": "2022-09-04T04:26:16.626Z"
   },
   {
    "duration": 8,
    "start_time": "2022-09-04T04:26:40.629Z"
   },
   {
    "duration": 59,
    "start_time": "2022-09-04T04:27:18.244Z"
   },
   {
    "duration": 432,
    "start_time": "2022-09-04T04:27:22.739Z"
   },
   {
    "duration": 31,
    "start_time": "2022-09-04T04:27:23.969Z"
   },
   {
    "duration": 14,
    "start_time": "2022-09-04T04:27:24.439Z"
   },
   {
    "duration": 14,
    "start_time": "2022-09-04T04:27:25.612Z"
   },
   {
    "duration": 15,
    "start_time": "2022-09-04T04:27:26.592Z"
   },
   {
    "duration": 11,
    "start_time": "2022-09-04T04:27:27.583Z"
   },
   {
    "duration": 14,
    "start_time": "2022-09-04T04:27:28.610Z"
   },
   {
    "duration": 7,
    "start_time": "2022-09-04T04:27:29.096Z"
   },
   {
    "duration": 8,
    "start_time": "2022-09-04T04:27:29.632Z"
   },
   {
    "duration": 6,
    "start_time": "2022-09-04T04:27:30.258Z"
   },
   {
    "duration": 8,
    "start_time": "2022-09-04T04:27:30.920Z"
   },
   {
    "duration": 8,
    "start_time": "2022-09-04T04:27:31.426Z"
   },
   {
    "duration": 7,
    "start_time": "2022-09-04T04:27:32.106Z"
   },
   {
    "duration": 7,
    "start_time": "2022-09-04T04:27:32.765Z"
   },
   {
    "duration": 7,
    "start_time": "2022-09-04T04:27:33.491Z"
   },
   {
    "duration": 8,
    "start_time": "2022-09-04T04:27:34.207Z"
   },
   {
    "duration": 8,
    "start_time": "2022-09-04T04:27:34.789Z"
   },
   {
    "duration": 7,
    "start_time": "2022-09-04T04:27:36.614Z"
   },
   {
    "duration": 10,
    "start_time": "2022-09-04T04:27:37.169Z"
   },
   {
    "duration": 5,
    "start_time": "2022-09-04T04:27:37.922Z"
   },
   {
    "duration": 5,
    "start_time": "2022-09-04T04:27:38.778Z"
   },
   {
    "duration": 7,
    "start_time": "2022-09-04T04:27:40.153Z"
   },
   {
    "duration": 7,
    "start_time": "2022-09-04T04:27:41.051Z"
   },
   {
    "duration": 11,
    "start_time": "2022-09-04T04:27:42.001Z"
   },
   {
    "duration": 9,
    "start_time": "2022-09-04T04:27:42.804Z"
   },
   {
    "duration": 9,
    "start_time": "2022-09-04T04:27:44.133Z"
   },
   {
    "duration": 9,
    "start_time": "2022-09-04T04:27:44.879Z"
   },
   {
    "duration": 5,
    "start_time": "2022-09-04T04:27:45.682Z"
   },
   {
    "duration": 7,
    "start_time": "2022-09-04T04:27:47.288Z"
   },
   {
    "duration": 9,
    "start_time": "2022-09-04T04:27:48.090Z"
   },
   {
    "duration": 6,
    "start_time": "2022-09-04T04:27:48.847Z"
   },
   {
    "duration": 8,
    "start_time": "2022-09-04T04:27:49.566Z"
   },
   {
    "duration": 7,
    "start_time": "2022-09-04T04:27:51.129Z"
   },
   {
    "duration": 9,
    "start_time": "2022-09-04T04:27:52.080Z"
   },
   {
    "duration": 6,
    "start_time": "2022-09-04T04:27:52.778Z"
   },
   {
    "duration": 16,
    "start_time": "2022-09-04T04:27:54.081Z"
   },
   {
    "duration": 18,
    "start_time": "2022-09-04T04:27:54.800Z"
   },
   {
    "duration": 17,
    "start_time": "2022-09-04T04:27:55.452Z"
   },
   {
    "duration": 21,
    "start_time": "2022-09-04T04:27:56.229Z"
   },
   {
    "duration": 3,
    "start_time": "2022-09-04T04:27:58.332Z"
   },
   {
    "duration": 4,
    "start_time": "2022-09-04T04:27:59.246Z"
   },
   {
    "duration": 278,
    "start_time": "2022-09-04T04:27:59.956Z"
   },
   {
    "duration": 14,
    "start_time": "2022-09-04T04:28:00.650Z"
   },
   {
    "duration": 19,
    "start_time": "2022-09-04T04:28:01.526Z"
   },
   {
    "duration": 19,
    "start_time": "2022-09-04T04:28:02.179Z"
   },
   {
    "duration": 13,
    "start_time": "2022-09-04T04:28:02.977Z"
   },
   {
    "duration": 4,
    "start_time": "2022-09-04T04:28:04.746Z"
   },
   {
    "duration": 830,
    "start_time": "2022-09-04T04:28:07.118Z"
   },
   {
    "duration": 2,
    "start_time": "2022-09-04T04:28:08.006Z"
   },
   {
    "duration": 3,
    "start_time": "2022-09-04T04:28:11.400Z"
   },
   {
    "duration": 2,
    "start_time": "2022-09-04T04:28:12.365Z"
   },
   {
    "duration": 2,
    "start_time": "2022-09-04T04:28:13.148Z"
   },
   {
    "duration": 10,
    "start_time": "2022-09-04T04:28:15.112Z"
   },
   {
    "duration": 7,
    "start_time": "2022-09-04T04:28:15.873Z"
   },
   {
    "duration": 15,
    "start_time": "2022-09-04T04:28:19.411Z"
   },
   {
    "duration": 3,
    "start_time": "2022-09-04T04:28:19.428Z"
   },
   {
    "duration": 5,
    "start_time": "2022-09-04T04:29:41.745Z"
   },
   {
    "duration": 9,
    "start_time": "2022-09-04T04:29:43.551Z"
   },
   {
    "duration": 15,
    "start_time": "2022-09-04T04:29:58.214Z"
   },
   {
    "duration": 6,
    "start_time": "2022-09-04T04:30:34.668Z"
   },
   {
    "duration": 6,
    "start_time": "2022-09-04T04:30:45.274Z"
   },
   {
    "duration": 8,
    "start_time": "2022-09-04T04:30:57.043Z"
   },
   {
    "duration": 7,
    "start_time": "2022-09-04T04:31:04.180Z"
   },
   {
    "duration": 17,
    "start_time": "2022-09-04T04:33:01.653Z"
   },
   {
    "duration": 5,
    "start_time": "2022-09-04T04:33:08.922Z"
   },
   {
    "duration": 7,
    "start_time": "2022-09-04T04:33:09.568Z"
   },
   {
    "duration": 17,
    "start_time": "2022-09-04T04:33:10.772Z"
   },
   {
    "duration": 7,
    "start_time": "2022-09-04T04:33:21.415Z"
   },
   {
    "duration": 23,
    "start_time": "2022-09-04T04:33:23.407Z"
   },
   {
    "duration": 8,
    "start_time": "2022-09-04T04:33:56.278Z"
   },
   {
    "duration": 483,
    "start_time": "2022-09-04T04:34:32.653Z"
   },
   {
    "duration": 32,
    "start_time": "2022-09-04T04:34:33.876Z"
   },
   {
    "duration": 13,
    "start_time": "2022-09-04T04:34:34.452Z"
   },
   {
    "duration": 20,
    "start_time": "2022-09-04T04:34:35.476Z"
   },
   {
    "duration": 465,
    "start_time": "2022-09-04T04:34:42.904Z"
   },
   {
    "duration": 31,
    "start_time": "2022-09-04T04:34:43.371Z"
   },
   {
    "duration": 12,
    "start_time": "2022-09-04T04:34:43.404Z"
   },
   {
    "duration": 15,
    "start_time": "2022-09-04T04:34:43.418Z"
   },
   {
    "duration": 15,
    "start_time": "2022-09-04T04:34:43.435Z"
   },
   {
    "duration": 10,
    "start_time": "2022-09-04T04:34:43.451Z"
   },
   {
    "duration": 36,
    "start_time": "2022-09-04T04:34:43.463Z"
   },
   {
    "duration": 7,
    "start_time": "2022-09-04T04:34:43.500Z"
   },
   {
    "duration": 8,
    "start_time": "2022-09-04T04:34:43.508Z"
   },
   {
    "duration": 8,
    "start_time": "2022-09-04T04:34:43.518Z"
   },
   {
    "duration": 9,
    "start_time": "2022-09-04T04:34:43.527Z"
   },
   {
    "duration": 6,
    "start_time": "2022-09-04T04:34:43.538Z"
   },
   {
    "duration": 42,
    "start_time": "2022-09-04T04:34:43.546Z"
   },
   {
    "duration": 7,
    "start_time": "2022-09-04T04:34:43.591Z"
   },
   {
    "duration": 14,
    "start_time": "2022-09-04T04:34:43.600Z"
   },
   {
    "duration": 14,
    "start_time": "2022-09-04T04:34:43.615Z"
   },
   {
    "duration": 8,
    "start_time": "2022-09-04T04:34:43.630Z"
   },
   {
    "duration": 7,
    "start_time": "2022-09-04T04:34:43.640Z"
   },
   {
    "duration": 10,
    "start_time": "2022-09-04T04:34:43.648Z"
   },
   {
    "duration": 28,
    "start_time": "2022-09-04T04:34:43.659Z"
   },
   {
    "duration": 5,
    "start_time": "2022-09-04T04:34:43.689Z"
   },
   {
    "duration": 7,
    "start_time": "2022-09-04T04:34:43.696Z"
   },
   {
    "duration": 6,
    "start_time": "2022-09-04T04:34:43.704Z"
   },
   {
    "duration": 10,
    "start_time": "2022-09-04T04:34:43.712Z"
   },
   {
    "duration": 6,
    "start_time": "2022-09-04T04:34:43.723Z"
   },
   {
    "duration": 11,
    "start_time": "2022-09-04T04:34:43.730Z"
   },
   {
    "duration": 52,
    "start_time": "2022-09-04T04:34:43.742Z"
   },
   {
    "duration": 7,
    "start_time": "2022-09-04T04:34:43.795Z"
   },
   {
    "duration": 11,
    "start_time": "2022-09-04T04:34:43.804Z"
   },
   {
    "duration": 9,
    "start_time": "2022-09-04T04:34:43.817Z"
   },
   {
    "duration": 5,
    "start_time": "2022-09-04T04:34:43.828Z"
   },
   {
    "duration": 9,
    "start_time": "2022-09-04T04:34:43.834Z"
   },
   {
    "duration": 42,
    "start_time": "2022-09-04T04:34:43.845Z"
   },
   {
    "duration": 7,
    "start_time": "2022-09-04T04:34:43.889Z"
   },
   {
    "duration": 5,
    "start_time": "2022-09-04T04:34:43.898Z"
   },
   {
    "duration": 18,
    "start_time": "2022-09-04T04:34:43.904Z"
   },
   {
    "duration": 18,
    "start_time": "2022-09-04T04:34:43.923Z"
   },
   {
    "duration": 52,
    "start_time": "2022-09-04T04:34:43.942Z"
   },
   {
    "duration": 14,
    "start_time": "2022-09-04T04:34:43.995Z"
   },
   {
    "duration": 3,
    "start_time": "2022-09-04T04:34:44.011Z"
   },
   {
    "duration": 10,
    "start_time": "2022-09-04T04:34:44.019Z"
   },
   {
    "duration": 299,
    "start_time": "2022-09-04T04:34:44.031Z"
   },
   {
    "duration": 15,
    "start_time": "2022-09-04T04:34:44.332Z"
   },
   {
    "duration": 38,
    "start_time": "2022-09-04T04:34:44.349Z"
   },
   {
    "duration": 13,
    "start_time": "2022-09-04T04:34:44.389Z"
   },
   {
    "duration": 10,
    "start_time": "2022-09-04T04:34:44.403Z"
   },
   {
    "duration": 6,
    "start_time": "2022-09-04T04:34:44.415Z"
   },
   {
    "duration": 939,
    "start_time": "2022-09-04T04:34:44.422Z"
   },
   {
    "duration": 0,
    "start_time": "2022-09-04T04:34:45.363Z"
   },
   {
    "duration": 0,
    "start_time": "2022-09-04T04:34:45.364Z"
   },
   {
    "duration": 0,
    "start_time": "2022-09-04T04:34:45.366Z"
   },
   {
    "duration": 0,
    "start_time": "2022-09-04T04:34:45.367Z"
   },
   {
    "duration": 0,
    "start_time": "2022-09-04T04:34:45.368Z"
   },
   {
    "duration": 0,
    "start_time": "2022-09-04T04:34:45.370Z"
   },
   {
    "duration": 0,
    "start_time": "2022-09-04T04:34:45.371Z"
   },
   {
    "duration": 0,
    "start_time": "2022-09-04T04:34:45.372Z"
   },
   {
    "duration": 0,
    "start_time": "2022-09-04T04:34:45.373Z"
   },
   {
    "duration": 0,
    "start_time": "2022-09-04T04:34:45.374Z"
   },
   {
    "duration": 0,
    "start_time": "2022-09-04T04:34:45.375Z"
   },
   {
    "duration": 0,
    "start_time": "2022-09-04T04:34:45.376Z"
   },
   {
    "duration": 0,
    "start_time": "2022-09-04T04:34:45.377Z"
   },
   {
    "duration": 0,
    "start_time": "2022-09-04T04:34:45.378Z"
   },
   {
    "duration": 0,
    "start_time": "2022-09-04T04:34:45.379Z"
   },
   {
    "duration": 0,
    "start_time": "2022-09-04T04:34:45.380Z"
   },
   {
    "duration": 0,
    "start_time": "2022-09-04T04:34:45.381Z"
   },
   {
    "duration": 0,
    "start_time": "2022-09-04T04:34:45.382Z"
   },
   {
    "duration": 0,
    "start_time": "2022-09-04T04:34:45.383Z"
   },
   {
    "duration": 0,
    "start_time": "2022-09-04T04:34:45.384Z"
   },
   {
    "duration": 0,
    "start_time": "2022-09-04T04:34:45.385Z"
   },
   {
    "duration": 0,
    "start_time": "2022-09-04T04:34:45.386Z"
   },
   {
    "duration": 0,
    "start_time": "2022-09-04T04:34:45.387Z"
   },
   {
    "duration": 16,
    "start_time": "2022-09-04T04:34:55.972Z"
   },
   {
    "duration": 8,
    "start_time": "2022-09-04T04:34:57.212Z"
   },
   {
    "duration": 6,
    "start_time": "2022-09-04T04:36:30.744Z"
   },
   {
    "duration": 16,
    "start_time": "2022-09-04T04:36:33.484Z"
   },
   {
    "duration": 6,
    "start_time": "2022-09-04T04:36:53.329Z"
   },
   {
    "duration": 502,
    "start_time": "2022-09-04T04:37:08.714Z"
   },
   {
    "duration": 33,
    "start_time": "2022-09-04T04:37:09.218Z"
   },
   {
    "duration": 13,
    "start_time": "2022-09-04T04:37:09.252Z"
   },
   {
    "duration": 33,
    "start_time": "2022-09-04T04:37:09.267Z"
   },
   {
    "duration": 16,
    "start_time": "2022-09-04T04:37:09.301Z"
   },
   {
    "duration": 12,
    "start_time": "2022-09-04T04:37:09.319Z"
   },
   {
    "duration": 14,
    "start_time": "2022-09-04T04:37:09.333Z"
   },
   {
    "duration": 39,
    "start_time": "2022-09-04T04:37:09.348Z"
   },
   {
    "duration": 7,
    "start_time": "2022-09-04T04:37:09.389Z"
   },
   {
    "duration": 9,
    "start_time": "2022-09-04T04:37:09.398Z"
   },
   {
    "duration": 9,
    "start_time": "2022-09-04T04:37:09.409Z"
   },
   {
    "duration": 8,
    "start_time": "2022-09-04T04:37:09.420Z"
   },
   {
    "duration": 10,
    "start_time": "2022-09-04T04:37:09.429Z"
   },
   {
    "duration": 9,
    "start_time": "2022-09-04T04:37:09.440Z"
   },
   {
    "duration": 8,
    "start_time": "2022-09-04T04:37:09.488Z"
   },
   {
    "duration": 8,
    "start_time": "2022-09-04T04:37:09.498Z"
   },
   {
    "duration": 8,
    "start_time": "2022-09-04T04:37:09.508Z"
   },
   {
    "duration": 10,
    "start_time": "2022-09-04T04:37:09.518Z"
   },
   {
    "duration": 11,
    "start_time": "2022-09-04T04:37:09.530Z"
   },
   {
    "duration": 8,
    "start_time": "2022-09-04T04:37:09.543Z"
   },
   {
    "duration": 37,
    "start_time": "2022-09-04T04:37:09.553Z"
   },
   {
    "duration": 11,
    "start_time": "2022-09-04T04:37:09.592Z"
   },
   {
    "duration": 8,
    "start_time": "2022-09-04T04:37:09.605Z"
   },
   {
    "duration": 10,
    "start_time": "2022-09-04T04:37:09.614Z"
   },
   {
    "duration": 8,
    "start_time": "2022-09-04T04:37:09.625Z"
   },
   {
    "duration": 12,
    "start_time": "2022-09-04T04:37:09.634Z"
   },
   {
    "duration": 46,
    "start_time": "2022-09-04T04:37:09.648Z"
   },
   {
    "duration": 5,
    "start_time": "2022-09-04T04:37:09.698Z"
   },
   {
    "duration": 9,
    "start_time": "2022-09-04T04:37:09.704Z"
   },
   {
    "duration": 11,
    "start_time": "2022-09-04T04:37:09.715Z"
   },
   {
    "duration": 8,
    "start_time": "2022-09-04T04:37:09.728Z"
   },
   {
    "duration": 8,
    "start_time": "2022-09-04T04:37:09.738Z"
   },
   {
    "duration": 6,
    "start_time": "2022-09-04T04:37:09.747Z"
   },
   {
    "duration": 37,
    "start_time": "2022-09-04T04:37:09.755Z"
   },
   {
    "duration": 8,
    "start_time": "2022-09-04T04:37:09.794Z"
   },
   {
    "duration": 32,
    "start_time": "2022-09-04T04:37:09.803Z"
   },
   {
    "duration": 19,
    "start_time": "2022-09-04T04:37:09.837Z"
   },
   {
    "duration": 38,
    "start_time": "2022-09-04T04:37:09.857Z"
   },
   {
    "duration": 14,
    "start_time": "2022-09-04T04:37:09.896Z"
   },
   {
    "duration": 3,
    "start_time": "2022-09-04T04:37:09.911Z"
   },
   {
    "duration": 4,
    "start_time": "2022-09-04T04:37:09.916Z"
   },
   {
    "duration": 318,
    "start_time": "2022-09-04T04:37:09.922Z"
   },
   {
    "duration": 14,
    "start_time": "2022-09-04T04:37:10.242Z"
   },
   {
    "duration": 36,
    "start_time": "2022-09-04T04:37:10.257Z"
   },
   {
    "duration": 14,
    "start_time": "2022-09-04T04:37:10.295Z"
   },
   {
    "duration": 9,
    "start_time": "2022-09-04T04:37:10.311Z"
   },
   {
    "duration": 5,
    "start_time": "2022-09-04T04:37:10.321Z"
   },
   {
    "duration": 837,
    "start_time": "2022-09-04T04:37:10.328Z"
   },
   {
    "duration": 0,
    "start_time": "2022-09-04T04:37:11.167Z"
   },
   {
    "duration": 0,
    "start_time": "2022-09-04T04:37:11.168Z"
   },
   {
    "duration": 0,
    "start_time": "2022-09-04T04:37:11.169Z"
   },
   {
    "duration": 0,
    "start_time": "2022-09-04T04:37:11.170Z"
   },
   {
    "duration": 0,
    "start_time": "2022-09-04T04:37:11.171Z"
   },
   {
    "duration": 0,
    "start_time": "2022-09-04T04:37:11.172Z"
   },
   {
    "duration": 0,
    "start_time": "2022-09-04T04:37:11.173Z"
   },
   {
    "duration": 0,
    "start_time": "2022-09-04T04:37:11.174Z"
   },
   {
    "duration": 0,
    "start_time": "2022-09-04T04:37:11.175Z"
   },
   {
    "duration": 0,
    "start_time": "2022-09-04T04:37:11.176Z"
   },
   {
    "duration": 0,
    "start_time": "2022-09-04T04:37:11.177Z"
   },
   {
    "duration": 0,
    "start_time": "2022-09-04T04:37:11.178Z"
   },
   {
    "duration": 0,
    "start_time": "2022-09-04T04:37:11.179Z"
   },
   {
    "duration": 0,
    "start_time": "2022-09-04T04:37:11.180Z"
   },
   {
    "duration": 0,
    "start_time": "2022-09-04T04:37:11.181Z"
   },
   {
    "duration": 0,
    "start_time": "2022-09-04T04:37:11.183Z"
   },
   {
    "duration": 0,
    "start_time": "2022-09-04T04:37:11.185Z"
   },
   {
    "duration": 0,
    "start_time": "2022-09-04T04:37:11.186Z"
   },
   {
    "duration": 0,
    "start_time": "2022-09-04T04:37:11.186Z"
   },
   {
    "duration": 0,
    "start_time": "2022-09-04T04:37:11.187Z"
   },
   {
    "duration": 0,
    "start_time": "2022-09-04T04:37:11.189Z"
   },
   {
    "duration": 0,
    "start_time": "2022-09-04T04:37:11.190Z"
   },
   {
    "duration": 0,
    "start_time": "2022-09-04T04:37:11.191Z"
   },
   {
    "duration": 18,
    "start_time": "2022-09-04T04:37:16.286Z"
   },
   {
    "duration": 6,
    "start_time": "2022-09-04T04:37:18.342Z"
   },
   {
    "duration": 6,
    "start_time": "2022-09-04T04:37:21.383Z"
   },
   {
    "duration": 17,
    "start_time": "2022-09-04T04:37:22.783Z"
   },
   {
    "duration": 5,
    "start_time": "2022-09-04T04:38:03.399Z"
   },
   {
    "duration": 15,
    "start_time": "2022-09-04T04:38:11.382Z"
   },
   {
    "duration": 6,
    "start_time": "2022-09-04T04:38:20.225Z"
   },
   {
    "duration": 15,
    "start_time": "2022-09-04T04:38:23.191Z"
   },
   {
    "duration": 5,
    "start_time": "2022-09-04T04:38:40.135Z"
   },
   {
    "duration": 15,
    "start_time": "2022-09-04T04:38:42.812Z"
   },
   {
    "duration": 5,
    "start_time": "2022-09-04T04:38:51.651Z"
   },
   {
    "duration": 5,
    "start_time": "2022-09-04T04:38:54.697Z"
   },
   {
    "duration": 6,
    "start_time": "2022-09-04T04:38:58.212Z"
   },
   {
    "duration": 15,
    "start_time": "2022-09-04T04:39:01.006Z"
   },
   {
    "duration": 5,
    "start_time": "2022-09-04T04:39:04.537Z"
   },
   {
    "duration": 15,
    "start_time": "2022-09-04T04:39:07.048Z"
   },
   {
    "duration": 632,
    "start_time": "2022-09-04T14:27:08.940Z"
   },
   {
    "duration": 43,
    "start_time": "2022-09-04T14:27:09.577Z"
   },
   {
    "duration": 13,
    "start_time": "2022-09-04T14:27:09.621Z"
   },
   {
    "duration": 23,
    "start_time": "2022-09-04T14:27:09.635Z"
   },
   {
    "duration": 19,
    "start_time": "2022-09-04T14:27:09.662Z"
   },
   {
    "duration": 12,
    "start_time": "2022-09-04T14:27:09.684Z"
   },
   {
    "duration": 22,
    "start_time": "2022-09-04T14:27:09.698Z"
   },
   {
    "duration": 10,
    "start_time": "2022-09-04T14:27:09.721Z"
   },
   {
    "duration": 17,
    "start_time": "2022-09-04T14:27:09.758Z"
   },
   {
    "duration": 21,
    "start_time": "2022-09-04T14:27:09.778Z"
   },
   {
    "duration": 16,
    "start_time": "2022-09-04T14:27:09.801Z"
   },
   {
    "duration": 14,
    "start_time": "2022-09-04T14:27:09.819Z"
   },
   {
    "duration": 17,
    "start_time": "2022-09-04T14:27:09.835Z"
   },
   {
    "duration": 30,
    "start_time": "2022-09-04T14:27:09.856Z"
   },
   {
    "duration": 22,
    "start_time": "2022-09-04T14:27:09.888Z"
   },
   {
    "duration": 15,
    "start_time": "2022-09-04T14:27:09.912Z"
   },
   {
    "duration": 21,
    "start_time": "2022-09-04T14:27:09.929Z"
   },
   {
    "duration": 40,
    "start_time": "2022-09-04T14:27:09.954Z"
   },
   {
    "duration": 21,
    "start_time": "2022-09-04T14:27:09.996Z"
   },
   {
    "duration": 9,
    "start_time": "2022-09-04T14:27:10.019Z"
   },
   {
    "duration": 7,
    "start_time": "2022-09-04T14:27:10.030Z"
   },
   {
    "duration": 9,
    "start_time": "2022-09-04T14:27:10.039Z"
   },
   {
    "duration": 11,
    "start_time": "2022-09-04T14:27:10.050Z"
   },
   {
    "duration": 38,
    "start_time": "2022-09-04T14:27:10.063Z"
   },
   {
    "duration": 7,
    "start_time": "2022-09-04T14:27:10.104Z"
   },
   {
    "duration": 15,
    "start_time": "2022-09-04T14:27:10.113Z"
   },
   {
    "duration": 8,
    "start_time": "2022-09-04T14:27:10.131Z"
   },
   {
    "duration": 9,
    "start_time": "2022-09-04T14:27:10.141Z"
   },
   {
    "duration": 36,
    "start_time": "2022-09-04T14:27:10.153Z"
   },
   {
    "duration": 11,
    "start_time": "2022-09-04T14:27:10.191Z"
   },
   {
    "duration": 7,
    "start_time": "2022-09-04T14:27:10.205Z"
   },
   {
    "duration": 13,
    "start_time": "2022-09-04T14:27:10.215Z"
   },
   {
    "duration": 8,
    "start_time": "2022-09-04T14:27:10.230Z"
   },
   {
    "duration": 31,
    "start_time": "2022-09-04T14:27:10.240Z"
   },
   {
    "duration": 24,
    "start_time": "2022-09-04T14:27:10.273Z"
   },
   {
    "duration": 27,
    "start_time": "2022-09-04T14:27:10.299Z"
   },
   {
    "duration": 23,
    "start_time": "2022-09-04T14:27:10.328Z"
   },
   {
    "duration": 32,
    "start_time": "2022-09-04T14:27:10.354Z"
   },
   {
    "duration": 25,
    "start_time": "2022-09-04T14:27:10.393Z"
   },
   {
    "duration": 3,
    "start_time": "2022-09-04T14:27:10.420Z"
   },
   {
    "duration": 8,
    "start_time": "2022-09-04T14:27:10.429Z"
   },
   {
    "duration": 489,
    "start_time": "2022-09-04T14:27:10.439Z"
   },
   {
    "duration": 19,
    "start_time": "2022-09-04T14:27:10.930Z"
   },
   {
    "duration": 21,
    "start_time": "2022-09-04T14:27:10.960Z"
   },
   {
    "duration": 32,
    "start_time": "2022-09-04T14:27:10.983Z"
   },
   {
    "duration": 10,
    "start_time": "2022-09-04T14:27:11.017Z"
   },
   {
    "duration": 6,
    "start_time": "2022-09-04T14:27:11.028Z"
   },
   {
    "duration": 1045,
    "start_time": "2022-09-04T14:27:11.036Z"
   },
   {
    "duration": 1,
    "start_time": "2022-09-04T14:27:12.082Z"
   },
   {
    "duration": 0,
    "start_time": "2022-09-04T14:27:12.084Z"
   },
   {
    "duration": 0,
    "start_time": "2022-09-04T14:27:12.086Z"
   },
   {
    "duration": 0,
    "start_time": "2022-09-04T14:27:12.087Z"
   },
   {
    "duration": 0,
    "start_time": "2022-09-04T14:27:12.088Z"
   },
   {
    "duration": 0,
    "start_time": "2022-09-04T14:27:12.090Z"
   },
   {
    "duration": 0,
    "start_time": "2022-09-04T14:27:12.091Z"
   },
   {
    "duration": 0,
    "start_time": "2022-09-04T14:27:12.093Z"
   },
   {
    "duration": 0,
    "start_time": "2022-09-04T14:27:12.093Z"
   },
   {
    "duration": 0,
    "start_time": "2022-09-04T14:27:12.095Z"
   },
   {
    "duration": 0,
    "start_time": "2022-09-04T14:27:12.096Z"
   },
   {
    "duration": 0,
    "start_time": "2022-09-04T14:27:12.097Z"
   },
   {
    "duration": 0,
    "start_time": "2022-09-04T14:27:12.098Z"
   },
   {
    "duration": 0,
    "start_time": "2022-09-04T14:27:12.100Z"
   },
   {
    "duration": 0,
    "start_time": "2022-09-04T14:27:12.101Z"
   },
   {
    "duration": 0,
    "start_time": "2022-09-04T14:27:12.102Z"
   },
   {
    "duration": 0,
    "start_time": "2022-09-04T14:27:12.103Z"
   },
   {
    "duration": 0,
    "start_time": "2022-09-04T14:27:12.105Z"
   },
   {
    "duration": 0,
    "start_time": "2022-09-04T14:27:12.106Z"
   },
   {
    "duration": 0,
    "start_time": "2022-09-04T14:27:12.107Z"
   },
   {
    "duration": 0,
    "start_time": "2022-09-04T14:27:12.109Z"
   },
   {
    "duration": 0,
    "start_time": "2022-09-04T14:27:12.110Z"
   },
   {
    "duration": 0,
    "start_time": "2022-09-04T14:27:12.111Z"
   },
   {
    "duration": 35,
    "start_time": "2022-09-04T14:27:32.648Z"
   },
   {
    "duration": 13,
    "start_time": "2022-09-04T14:27:44.856Z"
   },
   {
    "duration": 9,
    "start_time": "2022-09-04T14:27:45.925Z"
   },
   {
    "duration": 20,
    "start_time": "2022-09-04T14:27:47.602Z"
   },
   {
    "duration": 5,
    "start_time": "2022-09-04T14:27:48.716Z"
   },
   {
    "duration": 18,
    "start_time": "2022-09-04T14:27:49.654Z"
   },
   {
    "duration": 16,
    "start_time": "2022-09-04T14:27:53.435Z"
   },
   {
    "duration": 4,
    "start_time": "2022-09-04T14:37:25.458Z"
   },
   {
    "duration": 12,
    "start_time": "2022-09-04T14:37:28.243Z"
   },
   {
    "duration": 58,
    "start_time": "2022-09-04T14:41:48.283Z"
   },
   {
    "duration": 3,
    "start_time": "2022-09-04T14:41:57.542Z"
   },
   {
    "duration": 11,
    "start_time": "2022-09-04T14:41:58.432Z"
   },
   {
    "duration": 4,
    "start_time": "2022-09-04T14:42:38.235Z"
   },
   {
    "duration": 20,
    "start_time": "2022-09-04T14:42:39.214Z"
   },
   {
    "duration": 4,
    "start_time": "2022-09-04T14:43:17.235Z"
   },
   {
    "duration": 1566,
    "start_time": "2022-09-04T14:43:19.837Z"
   },
   {
    "duration": 4,
    "start_time": "2022-09-04T14:44:13.855Z"
   },
   {
    "duration": 10,
    "start_time": "2022-09-04T14:44:14.630Z"
   },
   {
    "duration": 4,
    "start_time": "2022-09-04T14:44:33.542Z"
   },
   {
    "duration": 11,
    "start_time": "2022-09-04T14:44:34.479Z"
   },
   {
    "duration": 4,
    "start_time": "2022-09-04T14:44:43.452Z"
   },
   {
    "duration": 1814,
    "start_time": "2022-09-04T14:44:45.239Z"
   },
   {
    "duration": 4,
    "start_time": "2022-09-04T14:45:22.492Z"
   },
   {
    "duration": 971,
    "start_time": "2022-09-04T14:45:23.639Z"
   },
   {
    "duration": 76,
    "start_time": "2022-09-04T14:45:48.945Z"
   },
   {
    "duration": 31,
    "start_time": "2022-09-04T14:45:50.614Z"
   },
   {
    "duration": 13,
    "start_time": "2022-09-04T14:45:51.436Z"
   },
   {
    "duration": 14,
    "start_time": "2022-09-04T14:45:52.827Z"
   },
   {
    "duration": 20,
    "start_time": "2022-09-04T14:45:54.274Z"
   },
   {
    "duration": 14,
    "start_time": "2022-09-04T14:45:55.564Z"
   },
   {
    "duration": 16,
    "start_time": "2022-09-04T14:45:56.757Z"
   },
   {
    "duration": 6,
    "start_time": "2022-09-04T14:45:57.433Z"
   },
   {
    "duration": 10,
    "start_time": "2022-09-04T14:45:57.927Z"
   },
   {
    "duration": 7,
    "start_time": "2022-09-04T14:45:58.748Z"
   },
   {
    "duration": 10,
    "start_time": "2022-09-04T14:45:59.818Z"
   },
   {
    "duration": 7,
    "start_time": "2022-09-04T14:46:00.590Z"
   },
   {
    "duration": 9,
    "start_time": "2022-09-04T14:46:01.337Z"
   },
   {
    "duration": 8,
    "start_time": "2022-09-04T14:46:02.093Z"
   },
   {
    "duration": 9,
    "start_time": "2022-09-04T14:46:02.846Z"
   },
   {
    "duration": 6,
    "start_time": "2022-09-04T14:46:03.544Z"
   },
   {
    "duration": 8,
    "start_time": "2022-09-04T14:46:04.233Z"
   },
   {
    "duration": 7,
    "start_time": "2022-09-04T14:46:06.375Z"
   },
   {
    "duration": 8,
    "start_time": "2022-09-04T14:46:07.078Z"
   },
   {
    "duration": 6,
    "start_time": "2022-09-04T14:46:07.878Z"
   },
   {
    "duration": 7,
    "start_time": "2022-09-04T14:46:08.675Z"
   },
   {
    "duration": 7,
    "start_time": "2022-09-04T14:46:10.211Z"
   },
   {
    "duration": 6,
    "start_time": "2022-09-04T14:46:10.920Z"
   },
   {
    "duration": 9,
    "start_time": "2022-09-04T14:46:11.594Z"
   },
   {
    "duration": 7,
    "start_time": "2022-09-04T14:46:12.291Z"
   },
   {
    "duration": 10,
    "start_time": "2022-09-04T14:46:13.607Z"
   },
   {
    "duration": 10,
    "start_time": "2022-09-04T14:46:14.337Z"
   },
   {
    "duration": 6,
    "start_time": "2022-09-04T14:46:15.089Z"
   },
   {
    "duration": 6,
    "start_time": "2022-09-04T14:46:16.411Z"
   },
   {
    "duration": 9,
    "start_time": "2022-09-04T14:46:17.212Z"
   },
   {
    "duration": 6,
    "start_time": "2022-09-04T14:46:17.951Z"
   },
   {
    "duration": 7,
    "start_time": "2022-09-04T14:46:18.788Z"
   },
   {
    "duration": 7,
    "start_time": "2022-09-04T14:46:20.398Z"
   },
   {
    "duration": 7,
    "start_time": "2022-09-04T14:46:21.703Z"
   },
   {
    "duration": 5,
    "start_time": "2022-09-04T14:46:22.689Z"
   },
   {
    "duration": 16,
    "start_time": "2022-09-04T14:46:24.073Z"
   },
   {
    "duration": 17,
    "start_time": "2022-09-04T14:46:24.808Z"
   },
   {
    "duration": 20,
    "start_time": "2022-09-04T14:46:25.578Z"
   },
   {
    "duration": 14,
    "start_time": "2022-09-04T14:46:26.378Z"
   },
   {
    "duration": 2,
    "start_time": "2022-09-04T14:46:29.025Z"
   },
   {
    "duration": 4,
    "start_time": "2022-09-04T14:46:30.674Z"
   },
   {
    "duration": 315,
    "start_time": "2022-09-04T14:46:31.525Z"
   },
   {
    "duration": 19,
    "start_time": "2022-09-04T14:46:35.809Z"
   },
   {
    "duration": 17,
    "start_time": "2022-09-04T14:46:36.714Z"
   },
   {
    "duration": 13,
    "start_time": "2022-09-04T14:46:38.228Z"
   },
   {
    "duration": 9,
    "start_time": "2022-09-04T14:46:39.292Z"
   },
   {
    "duration": 4,
    "start_time": "2022-09-04T14:46:43.025Z"
   },
   {
    "duration": 1576,
    "start_time": "2022-09-04T14:46:44.413Z"
   },
   {
    "duration": 6,
    "start_time": "2022-09-04T14:46:59.953Z"
   },
   {
    "duration": 1376,
    "start_time": "2022-09-04T14:47:05.325Z"
   },
   {
    "duration": 68,
    "start_time": "2022-09-04T14:47:24.148Z"
   },
   {
    "duration": 939,
    "start_time": "2022-09-04T14:47:26.311Z"
   },
   {
    "duration": 5,
    "start_time": "2022-09-04T14:47:46.588Z"
   },
   {
    "duration": 8,
    "start_time": "2022-09-04T14:47:47.492Z"
   },
   {
    "duration": 4,
    "start_time": "2022-09-04T14:48:46.813Z"
   },
   {
    "duration": 18,
    "start_time": "2022-09-04T14:48:47.632Z"
   },
   {
    "duration": 3,
    "start_time": "2022-09-04T14:51:18.839Z"
   },
   {
    "duration": 1119,
    "start_time": "2022-09-04T14:51:20.604Z"
   },
   {
    "duration": 7,
    "start_time": "2022-09-04T14:52:48.326Z"
   },
   {
    "duration": 12,
    "start_time": "2022-09-04T14:53:30.782Z"
   },
   {
    "duration": 1600,
    "start_time": "2022-09-04T14:53:45.607Z"
   },
   {
    "duration": 998,
    "start_time": "2022-09-04T14:54:26.197Z"
   },
   {
    "duration": 17,
    "start_time": "2022-09-04T14:54:57.994Z"
   },
   {
    "duration": 29,
    "start_time": "2022-09-04T14:55:42.656Z"
   },
   {
    "duration": 597,
    "start_time": "2022-09-04T19:01:31.082Z"
   },
   {
    "duration": 26,
    "start_time": "2022-09-04T19:01:31.681Z"
   },
   {
    "duration": 50,
    "start_time": "2022-09-04T19:01:31.708Z"
   },
   {
    "duration": 28,
    "start_time": "2022-09-04T19:01:31.759Z"
   },
   {
    "duration": 13,
    "start_time": "2022-09-04T19:01:31.789Z"
   },
   {
    "duration": 11,
    "start_time": "2022-09-04T19:01:31.804Z"
   },
   {
    "duration": 22,
    "start_time": "2022-09-04T19:01:31.816Z"
   },
   {
    "duration": 8,
    "start_time": "2022-09-04T19:01:31.840Z"
   },
   {
    "duration": 13,
    "start_time": "2022-09-04T19:01:31.849Z"
   },
   {
    "duration": 32,
    "start_time": "2022-09-04T19:01:31.863Z"
   },
   {
    "duration": 22,
    "start_time": "2022-09-04T19:01:31.896Z"
   },
   {
    "duration": 10,
    "start_time": "2022-09-04T19:01:31.919Z"
   },
   {
    "duration": 10,
    "start_time": "2022-09-04T19:01:31.930Z"
   },
   {
    "duration": 10,
    "start_time": "2022-09-04T19:01:31.942Z"
   },
   {
    "duration": 21,
    "start_time": "2022-09-04T19:01:31.953Z"
   },
   {
    "duration": 21,
    "start_time": "2022-09-04T19:01:31.975Z"
   },
   {
    "duration": 32,
    "start_time": "2022-09-04T19:01:31.997Z"
   },
   {
    "duration": 11,
    "start_time": "2022-09-04T19:01:32.030Z"
   },
   {
    "duration": 10,
    "start_time": "2022-09-04T19:01:32.042Z"
   },
   {
    "duration": 15,
    "start_time": "2022-09-04T19:01:32.053Z"
   },
   {
    "duration": 14,
    "start_time": "2022-09-04T19:01:32.069Z"
   },
   {
    "duration": 16,
    "start_time": "2022-09-04T19:01:32.084Z"
   },
   {
    "duration": 5,
    "start_time": "2022-09-04T19:01:32.101Z"
   },
   {
    "duration": 8,
    "start_time": "2022-09-04T19:01:32.108Z"
   },
   {
    "duration": 5,
    "start_time": "2022-09-04T19:01:32.118Z"
   },
   {
    "duration": 14,
    "start_time": "2022-09-04T19:01:32.124Z"
   },
   {
    "duration": 17,
    "start_time": "2022-09-04T19:01:32.139Z"
   },
   {
    "duration": 17,
    "start_time": "2022-09-04T19:01:32.157Z"
   },
   {
    "duration": 11,
    "start_time": "2022-09-04T19:01:32.175Z"
   },
   {
    "duration": 7,
    "start_time": "2022-09-04T19:01:32.188Z"
   },
   {
    "duration": 5,
    "start_time": "2022-09-04T19:01:32.196Z"
   },
   {
    "duration": 7,
    "start_time": "2022-09-04T19:01:32.202Z"
   },
   {
    "duration": 7,
    "start_time": "2022-09-04T19:01:32.210Z"
   },
   {
    "duration": 8,
    "start_time": "2022-09-04T19:01:32.218Z"
   },
   {
    "duration": 7,
    "start_time": "2022-09-04T19:01:32.228Z"
   },
   {
    "duration": 21,
    "start_time": "2022-09-04T19:01:32.237Z"
   },
   {
    "duration": 16,
    "start_time": "2022-09-04T19:01:32.259Z"
   },
   {
    "duration": 14,
    "start_time": "2022-09-04T19:01:32.276Z"
   },
   {
    "duration": 27,
    "start_time": "2022-09-04T19:01:32.291Z"
   },
   {
    "duration": 4,
    "start_time": "2022-09-04T19:01:32.319Z"
   },
   {
    "duration": 18,
    "start_time": "2022-09-04T19:01:32.326Z"
   },
   {
    "duration": 303,
    "start_time": "2022-09-04T19:01:32.345Z"
   },
   {
    "duration": 11,
    "start_time": "2022-09-04T19:01:32.650Z"
   },
   {
    "duration": 20,
    "start_time": "2022-09-04T19:01:32.663Z"
   },
   {
    "duration": 27,
    "start_time": "2022-09-04T19:01:32.684Z"
   },
   {
    "duration": 7,
    "start_time": "2022-09-04T19:01:32.712Z"
   },
   {
    "duration": 16,
    "start_time": "2022-09-04T19:01:32.720Z"
   },
   {
    "duration": 8,
    "start_time": "2022-09-04T19:01:32.738Z"
   },
   {
    "duration": 10,
    "start_time": "2022-09-04T19:01:32.747Z"
   },
   {
    "duration": 7,
    "start_time": "2022-09-04T19:01:32.758Z"
   },
   {
    "duration": 10,
    "start_time": "2022-09-04T19:01:32.767Z"
   },
   {
    "duration": 16,
    "start_time": "2022-09-04T19:01:32.778Z"
   },
   {
    "duration": 53,
    "start_time": "2022-09-04T19:01:32.795Z"
   },
   {
    "duration": 28,
    "start_time": "2022-09-04T19:01:32.849Z"
   },
   {
    "duration": 19,
    "start_time": "2022-09-04T19:01:32.878Z"
   },
   {
    "duration": 20,
    "start_time": "2022-09-04T19:01:32.898Z"
   },
   {
    "duration": 10,
    "start_time": "2022-09-04T19:01:32.919Z"
   },
   {
    "duration": 23,
    "start_time": "2022-09-04T19:01:32.930Z"
   },
   {
    "duration": 7,
    "start_time": "2022-09-04T19:01:32.955Z"
   },
   {
    "duration": 10,
    "start_time": "2022-09-04T19:01:32.964Z"
   },
   {
    "duration": 24,
    "start_time": "2022-09-04T19:01:32.975Z"
   },
   {
    "duration": 19,
    "start_time": "2022-09-04T19:01:33.000Z"
   },
   {
    "duration": 19,
    "start_time": "2022-09-04T19:01:33.020Z"
   },
   {
    "duration": 9,
    "start_time": "2022-09-04T19:01:33.040Z"
   },
   {
    "duration": 8,
    "start_time": "2022-09-04T19:01:33.050Z"
   },
   {
    "duration": 7,
    "start_time": "2022-09-04T19:01:33.059Z"
   },
   {
    "duration": 9,
    "start_time": "2022-09-04T19:01:33.067Z"
   },
   {
    "duration": 25,
    "start_time": "2022-09-04T19:01:33.077Z"
   },
   {
    "duration": 9,
    "start_time": "2022-09-04T19:01:33.103Z"
   },
   {
    "duration": 6,
    "start_time": "2022-09-04T19:01:33.114Z"
   },
   {
    "duration": 8,
    "start_time": "2022-09-04T19:01:33.121Z"
   },
   {
    "duration": 3,
    "start_time": "2022-09-04T19:01:42.890Z"
   },
   {
    "duration": 75,
    "start_time": "2022-09-04T19:05:11.584Z"
   },
   {
    "duration": 3,
    "start_time": "2022-09-04T19:05:32.945Z"
   },
   {
    "duration": 496,
    "start_time": "2022-09-04T19:05:35.239Z"
   },
   {
    "duration": 11,
    "start_time": "2022-09-04T19:06:23.773Z"
   },
   {
    "duration": 8,
    "start_time": "2022-09-04T19:06:24.377Z"
   },
   {
    "duration": 180,
    "start_time": "2022-09-04T19:08:10.385Z"
   },
   {
    "duration": 180,
    "start_time": "2022-09-04T19:08:34.619Z"
   },
   {
    "duration": 543,
    "start_time": "2022-09-04T19:09:12.705Z"
   },
   {
    "duration": 12,
    "start_time": "2022-09-04T19:09:24.081Z"
   },
   {
    "duration": 12,
    "start_time": "2022-09-04T19:10:04.032Z"
   },
   {
    "duration": 178,
    "start_time": "2022-09-04T19:10:53.382Z"
   },
   {
    "duration": 176,
    "start_time": "2022-09-04T19:11:28.328Z"
   },
   {
    "duration": 6,
    "start_time": "2022-09-04T19:12:59.673Z"
   },
   {
    "duration": 6,
    "start_time": "2022-09-04T19:13:03.801Z"
   },
   {
    "duration": 6,
    "start_time": "2022-09-04T19:13:11.436Z"
   },
   {
    "duration": 5,
    "start_time": "2022-09-04T19:13:17.397Z"
   },
   {
    "duration": 173,
    "start_time": "2022-09-04T19:14:27.679Z"
   },
   {
    "duration": 2,
    "start_time": "2022-09-04T19:14:34.084Z"
   },
   {
    "duration": 174,
    "start_time": "2022-09-04T19:14:34.677Z"
   },
   {
    "duration": 871,
    "start_time": "2022-09-04T19:15:55.310Z"
   },
   {
    "duration": 9,
    "start_time": "2022-09-04T19:17:33.311Z"
   },
   {
    "duration": 934,
    "start_time": "2022-09-04T19:18:44.203Z"
   },
   {
    "duration": 3,
    "start_time": "2022-09-04T19:20:09.512Z"
   },
   {
    "duration": 8,
    "start_time": "2022-09-04T19:20:11.636Z"
   },
   {
    "duration": 3,
    "start_time": "2022-09-04T19:20:26.478Z"
   },
   {
    "duration": 8,
    "start_time": "2022-09-04T19:20:27.921Z"
   },
   {
    "duration": 4,
    "start_time": "2022-09-04T19:20:37.077Z"
   },
   {
    "duration": 3,
    "start_time": "2022-09-04T19:20:50.003Z"
   },
   {
    "duration": 5,
    "start_time": "2022-09-04T19:20:52.075Z"
   },
   {
    "duration": 3,
    "start_time": "2022-09-04T19:21:13.580Z"
   },
   {
    "duration": 4,
    "start_time": "2022-09-04T19:21:14.192Z"
   },
   {
    "duration": 3,
    "start_time": "2022-09-04T19:21:44.477Z"
   },
   {
    "duration": 3,
    "start_time": "2022-09-04T19:21:54.340Z"
   },
   {
    "duration": 5,
    "start_time": "2022-09-04T19:21:55.779Z"
   },
   {
    "duration": 3,
    "start_time": "2022-09-04T19:22:19.284Z"
   },
   {
    "duration": 5,
    "start_time": "2022-09-04T19:22:20.624Z"
   },
   {
    "duration": 3,
    "start_time": "2022-09-04T19:22:36.189Z"
   },
   {
    "duration": 5,
    "start_time": "2022-09-04T19:22:37.179Z"
   },
   {
    "duration": 3,
    "start_time": "2022-09-04T19:22:49.301Z"
   },
   {
    "duration": 4,
    "start_time": "2022-09-04T19:22:50.681Z"
   },
   {
    "duration": 3,
    "start_time": "2022-09-04T19:23:17.935Z"
   },
   {
    "duration": 5,
    "start_time": "2022-09-04T19:23:18.983Z"
   },
   {
    "duration": 3,
    "start_time": "2022-09-04T19:24:02.806Z"
   },
   {
    "duration": 5,
    "start_time": "2022-09-04T19:24:04.738Z"
   },
   {
    "duration": 3,
    "start_time": "2022-09-04T19:25:28.674Z"
   },
   {
    "duration": 191,
    "start_time": "2022-09-04T19:31:34.819Z"
   },
   {
    "duration": 210,
    "start_time": "2022-09-04T19:32:02.422Z"
   },
   {
    "duration": 410,
    "start_time": "2022-09-04T19:32:24.557Z"
   },
   {
    "duration": 27,
    "start_time": "2022-09-04T19:32:24.968Z"
   },
   {
    "duration": 10,
    "start_time": "2022-09-04T19:32:24.997Z"
   },
   {
    "duration": 20,
    "start_time": "2022-09-04T19:32:25.009Z"
   },
   {
    "duration": 19,
    "start_time": "2022-09-04T19:32:25.031Z"
   },
   {
    "duration": 8,
    "start_time": "2022-09-04T19:32:25.052Z"
   },
   {
    "duration": 10,
    "start_time": "2022-09-04T19:32:25.062Z"
   },
   {
    "duration": 15,
    "start_time": "2022-09-04T19:32:25.074Z"
   },
   {
    "duration": 6,
    "start_time": "2022-09-04T19:32:25.090Z"
   },
   {
    "duration": 14,
    "start_time": "2022-09-04T19:32:25.099Z"
   },
   {
    "duration": 12,
    "start_time": "2022-09-04T19:32:25.114Z"
   },
   {
    "duration": 9,
    "start_time": "2022-09-04T19:32:25.128Z"
   },
   {
    "duration": 10,
    "start_time": "2022-09-04T19:32:25.139Z"
   },
   {
    "duration": 10,
    "start_time": "2022-09-04T19:32:25.150Z"
   },
   {
    "duration": 10,
    "start_time": "2022-09-04T19:32:25.162Z"
   },
   {
    "duration": 10,
    "start_time": "2022-09-04T19:32:25.173Z"
   },
   {
    "duration": 7,
    "start_time": "2022-09-04T19:32:25.184Z"
   },
   {
    "duration": 4,
    "start_time": "2022-09-04T19:32:25.193Z"
   },
   {
    "duration": 17,
    "start_time": "2022-09-04T19:32:25.198Z"
   },
   {
    "duration": 4,
    "start_time": "2022-09-04T19:32:25.216Z"
   },
   {
    "duration": 5,
    "start_time": "2022-09-04T19:32:25.221Z"
   },
   {
    "duration": 7,
    "start_time": "2022-09-04T19:32:25.228Z"
   },
   {
    "duration": 5,
    "start_time": "2022-09-04T19:32:25.236Z"
   },
   {
    "duration": 7,
    "start_time": "2022-09-04T19:32:25.243Z"
   },
   {
    "duration": 5,
    "start_time": "2022-09-04T19:32:25.251Z"
   },
   {
    "duration": 8,
    "start_time": "2022-09-04T19:32:25.258Z"
   },
   {
    "duration": 6,
    "start_time": "2022-09-04T19:32:25.268Z"
   },
   {
    "duration": 36,
    "start_time": "2022-09-04T19:32:25.277Z"
   },
   {
    "duration": 10,
    "start_time": "2022-09-04T19:32:25.314Z"
   },
   {
    "duration": 7,
    "start_time": "2022-09-04T19:32:25.325Z"
   },
   {
    "duration": 4,
    "start_time": "2022-09-04T19:32:25.333Z"
   },
   {
    "duration": 9,
    "start_time": "2022-09-04T19:32:25.338Z"
   },
   {
    "duration": 5,
    "start_time": "2022-09-04T19:32:25.348Z"
   },
   {
    "duration": 13,
    "start_time": "2022-09-04T19:32:25.354Z"
   },
   {
    "duration": 9,
    "start_time": "2022-09-04T19:32:25.368Z"
   },
   {
    "duration": 16,
    "start_time": "2022-09-04T19:32:25.379Z"
   },
   {
    "duration": 32,
    "start_time": "2022-09-04T19:32:25.396Z"
   },
   {
    "duration": 17,
    "start_time": "2022-09-04T19:32:25.429Z"
   },
   {
    "duration": 11,
    "start_time": "2022-09-04T19:32:25.447Z"
   },
   {
    "duration": 2,
    "start_time": "2022-09-04T19:32:25.460Z"
   },
   {
    "duration": 7,
    "start_time": "2022-09-04T19:32:25.463Z"
   },
   {
    "duration": 300,
    "start_time": "2022-09-04T19:32:25.471Z"
   },
   {
    "duration": 11,
    "start_time": "2022-09-04T19:32:25.773Z"
   },
   {
    "duration": 25,
    "start_time": "2022-09-04T19:32:25.786Z"
   },
   {
    "duration": 11,
    "start_time": "2022-09-04T19:32:25.812Z"
   },
   {
    "duration": 7,
    "start_time": "2022-09-04T19:32:25.826Z"
   },
   {
    "duration": 6,
    "start_time": "2022-09-04T19:32:25.834Z"
   },
   {
    "duration": 16,
    "start_time": "2022-09-04T19:32:25.842Z"
   },
   {
    "duration": 513,
    "start_time": "2022-09-04T19:32:25.859Z"
   },
   {
    "duration": 13,
    "start_time": "2022-09-04T19:32:26.373Z"
   },
   {
    "duration": 6,
    "start_time": "2022-09-04T19:32:26.388Z"
   },
   {
    "duration": 5,
    "start_time": "2022-09-04T19:32:26.395Z"
   },
   {
    "duration": 16,
    "start_time": "2022-09-04T19:32:26.401Z"
   },
   {
    "duration": 9,
    "start_time": "2022-09-04T19:32:26.419Z"
   },
   {
    "duration": 13,
    "start_time": "2022-09-04T19:32:26.429Z"
   },
   {
    "duration": 4,
    "start_time": "2022-09-04T19:32:26.443Z"
   },
   {
    "duration": 9,
    "start_time": "2022-09-04T19:32:26.449Z"
   },
   {
    "duration": 15,
    "start_time": "2022-09-04T19:32:26.460Z"
   },
   {
    "duration": 5,
    "start_time": "2022-09-04T19:32:26.476Z"
   },
   {
    "duration": 5,
    "start_time": "2022-09-04T19:32:26.482Z"
   },
   {
    "duration": 23,
    "start_time": "2022-09-04T19:32:26.488Z"
   },
   {
    "duration": 6,
    "start_time": "2022-09-04T19:32:26.512Z"
   },
   {
    "duration": 8,
    "start_time": "2022-09-04T19:32:26.519Z"
   },
   {
    "duration": 5,
    "start_time": "2022-09-04T19:32:26.528Z"
   },
   {
    "duration": 5,
    "start_time": "2022-09-04T19:32:26.534Z"
   },
   {
    "duration": 5,
    "start_time": "2022-09-04T19:32:26.540Z"
   },
   {
    "duration": 6,
    "start_time": "2022-09-04T19:32:26.546Z"
   },
   {
    "duration": 7,
    "start_time": "2022-09-04T19:32:26.554Z"
   },
   {
    "duration": 6,
    "start_time": "2022-09-04T19:32:26.563Z"
   },
   {
    "duration": 4,
    "start_time": "2022-09-04T19:32:26.571Z"
   },
   {
    "duration": 6,
    "start_time": "2022-09-04T19:32:26.576Z"
   },
   {
    "duration": 197,
    "start_time": "2022-09-04T19:32:46.875Z"
   },
   {
    "duration": 195,
    "start_time": "2022-09-04T19:36:39.068Z"
   },
   {
    "duration": 205,
    "start_time": "2022-09-04T19:36:46.822Z"
   },
   {
    "duration": 187,
    "start_time": "2022-09-04T19:37:57.702Z"
   },
   {
    "duration": 11,
    "start_time": "2022-09-04T19:38:02.899Z"
   },
   {
    "duration": 13,
    "start_time": "2022-09-04T19:38:19.598Z"
   },
   {
    "duration": 13,
    "start_time": "2022-09-04T19:42:04.826Z"
   },
   {
    "duration": 525,
    "start_time": "2022-09-05T00:12:40.482Z"
   },
   {
    "duration": 28,
    "start_time": "2022-09-05T00:12:41.009Z"
   },
   {
    "duration": 11,
    "start_time": "2022-09-05T00:12:41.038Z"
   },
   {
    "duration": 16,
    "start_time": "2022-09-05T00:12:41.051Z"
   },
   {
    "duration": 13,
    "start_time": "2022-09-05T00:12:41.069Z"
   },
   {
    "duration": 13,
    "start_time": "2022-09-05T00:12:41.084Z"
   },
   {
    "duration": 12,
    "start_time": "2022-09-05T00:12:41.098Z"
   },
   {
    "duration": 29,
    "start_time": "2022-09-05T00:12:41.111Z"
   },
   {
    "duration": 6,
    "start_time": "2022-09-05T00:12:41.141Z"
   },
   {
    "duration": 10,
    "start_time": "2022-09-05T00:12:41.149Z"
   },
   {
    "duration": 10,
    "start_time": "2022-09-05T00:12:41.160Z"
   },
   {
    "duration": 11,
    "start_time": "2022-09-05T00:12:41.171Z"
   },
   {
    "duration": 10,
    "start_time": "2022-09-05T00:12:41.183Z"
   },
   {
    "duration": 7,
    "start_time": "2022-09-05T00:12:41.195Z"
   },
   {
    "duration": 10,
    "start_time": "2022-09-05T00:12:41.203Z"
   },
   {
    "duration": 9,
    "start_time": "2022-09-05T00:12:41.215Z"
   },
   {
    "duration": 5,
    "start_time": "2022-09-05T00:12:41.238Z"
   },
   {
    "duration": 10,
    "start_time": "2022-09-05T00:12:41.244Z"
   },
   {
    "duration": 13,
    "start_time": "2022-09-05T00:12:41.255Z"
   },
   {
    "duration": 9,
    "start_time": "2022-09-05T00:12:41.269Z"
   },
   {
    "duration": 6,
    "start_time": "2022-09-05T00:12:41.279Z"
   },
   {
    "duration": 9,
    "start_time": "2022-09-05T00:12:41.286Z"
   },
   {
    "duration": 8,
    "start_time": "2022-09-05T00:12:41.296Z"
   },
   {
    "duration": 10,
    "start_time": "2022-09-05T00:12:41.305Z"
   },
   {
    "duration": 9,
    "start_time": "2022-09-05T00:12:41.316Z"
   },
   {
    "duration": 9,
    "start_time": "2022-09-05T00:12:41.338Z"
   },
   {
    "duration": 6,
    "start_time": "2022-09-05T00:12:41.349Z"
   },
   {
    "duration": 6,
    "start_time": "2022-09-05T00:12:41.358Z"
   },
   {
    "duration": 9,
    "start_time": "2022-09-05T00:12:41.365Z"
   },
   {
    "duration": 7,
    "start_time": "2022-09-05T00:12:41.375Z"
   },
   {
    "duration": 8,
    "start_time": "2022-09-05T00:12:41.383Z"
   },
   {
    "duration": 12,
    "start_time": "2022-09-05T00:12:41.392Z"
   },
   {
    "duration": 6,
    "start_time": "2022-09-05T00:12:41.406Z"
   },
   {
    "duration": 26,
    "start_time": "2022-09-05T00:12:41.413Z"
   },
   {
    "duration": 5,
    "start_time": "2022-09-05T00:12:41.440Z"
   },
   {
    "duration": 17,
    "start_time": "2022-09-05T00:12:41.446Z"
   },
   {
    "duration": 15,
    "start_time": "2022-09-05T00:12:41.464Z"
   },
   {
    "duration": 13,
    "start_time": "2022-09-05T00:12:41.481Z"
   },
   {
    "duration": 13,
    "start_time": "2022-09-05T00:12:41.495Z"
   },
   {
    "duration": 3,
    "start_time": "2022-09-05T00:12:41.538Z"
   },
   {
    "duration": 263,
    "start_time": "2022-09-05T00:12:41.542Z"
   },
   {
    "duration": 12,
    "start_time": "2022-09-05T00:12:41.807Z"
   },
   {
    "duration": 29,
    "start_time": "2022-09-05T00:12:41.821Z"
   },
   {
    "duration": 12,
    "start_time": "2022-09-05T00:12:41.851Z"
   },
   {
    "duration": 10,
    "start_time": "2022-09-05T00:12:41.864Z"
   },
   {
    "duration": 10,
    "start_time": "2022-09-05T00:12:41.876Z"
   },
   {
    "duration": 537,
    "start_time": "2022-09-05T00:12:41.888Z"
   },
   {
    "duration": 15,
    "start_time": "2022-09-05T00:12:42.427Z"
   },
   {
    "duration": 12,
    "start_time": "2022-09-05T00:12:42.443Z"
   },
   {
    "duration": 7,
    "start_time": "2022-09-05T00:12:42.457Z"
   },
   {
    "duration": 18,
    "start_time": "2022-09-05T00:12:42.465Z"
   },
   {
    "duration": 4,
    "start_time": "2022-09-05T00:12:42.484Z"
   },
   {
    "duration": 12,
    "start_time": "2022-09-05T00:12:42.489Z"
   },
   {
    "duration": 15,
    "start_time": "2022-09-05T00:12:42.502Z"
   },
   {
    "duration": 2,
    "start_time": "2022-09-05T00:12:42.518Z"
   },
   {
    "duration": 18,
    "start_time": "2022-09-05T00:12:42.521Z"
   },
   {
    "duration": 5,
    "start_time": "2022-09-05T00:12:42.540Z"
   },
   {
    "duration": 8,
    "start_time": "2022-09-05T00:12:42.546Z"
   },
   {
    "duration": 13,
    "start_time": "2022-09-05T00:12:42.556Z"
   },
   {
    "duration": 7,
    "start_time": "2022-09-05T00:12:42.570Z"
   },
   {
    "duration": 4,
    "start_time": "2022-09-05T00:12:42.578Z"
   },
   {
    "duration": 5,
    "start_time": "2022-09-05T00:12:42.583Z"
   },
   {
    "duration": 9,
    "start_time": "2022-09-05T00:12:42.589Z"
   },
   {
    "duration": 5,
    "start_time": "2022-09-05T00:12:42.600Z"
   },
   {
    "duration": 7,
    "start_time": "2022-09-05T00:12:42.606Z"
   },
   {
    "duration": 4,
    "start_time": "2022-09-05T00:12:42.614Z"
   },
   {
    "duration": 7,
    "start_time": "2022-09-05T00:12:42.620Z"
   },
   {
    "duration": 6,
    "start_time": "2022-09-05T00:20:39.129Z"
   },
   {
    "duration": 842,
    "start_time": "2022-09-05T00:22:36.942Z"
   },
   {
    "duration": 10,
    "start_time": "2022-09-05T00:23:00.528Z"
   },
   {
    "duration": 6,
    "start_time": "2022-09-05T00:23:59.642Z"
   },
   {
    "duration": 10,
    "start_time": "2022-09-05T00:26:26.838Z"
   },
   {
    "duration": 9,
    "start_time": "2022-09-05T00:26:45.673Z"
   },
   {
    "duration": 7,
    "start_time": "2022-09-05T00:27:00.146Z"
   },
   {
    "duration": 6,
    "start_time": "2022-09-05T00:27:43.233Z"
   },
   {
    "duration": 6,
    "start_time": "2022-09-05T00:28:09.932Z"
   },
   {
    "duration": 6,
    "start_time": "2022-09-05T00:29:31.356Z"
   },
   {
    "duration": 7,
    "start_time": "2022-09-05T00:31:32.122Z"
   },
   {
    "duration": 8,
    "start_time": "2022-09-05T00:34:42.963Z"
   },
   {
    "duration": 5,
    "start_time": "2022-09-05T00:35:14.923Z"
   },
   {
    "duration": 6,
    "start_time": "2022-09-05T00:37:30.631Z"
   },
   {
    "duration": 7,
    "start_time": "2022-09-05T00:41:02.833Z"
   },
   {
    "duration": 4,
    "start_time": "2022-09-05T00:45:11.674Z"
   },
   {
    "duration": 214,
    "start_time": "2022-09-05T00:45:12.381Z"
   },
   {
    "duration": 7,
    "start_time": "2022-09-05T00:46:02.804Z"
   },
   {
    "duration": 4,
    "start_time": "2022-09-05T00:46:53.958Z"
   },
   {
    "duration": 242,
    "start_time": "2022-09-05T00:46:54.465Z"
   },
   {
    "duration": 8,
    "start_time": "2022-09-05T00:47:20.087Z"
   },
   {
    "duration": 7,
    "start_time": "2022-09-05T00:48:02.314Z"
   },
   {
    "duration": 5,
    "start_time": "2022-09-05T00:50:07.062Z"
   },
   {
    "duration": 12,
    "start_time": "2022-09-05T00:50:29.121Z"
   },
   {
    "duration": 5,
    "start_time": "2022-09-05T01:00:41.295Z"
   },
   {
    "duration": 4,
    "start_time": "2022-09-05T01:01:41.474Z"
   },
   {
    "duration": 313,
    "start_time": "2022-09-05T01:01:42.940Z"
   },
   {
    "duration": 314,
    "start_time": "2022-09-05T01:01:57.103Z"
   },
   {
    "duration": 6,
    "start_time": "2022-09-05T01:02:52.612Z"
   },
   {
    "duration": 54,
    "start_time": "2022-09-05T01:03:35.007Z"
   },
   {
    "duration": 320,
    "start_time": "2022-09-05T01:03:36.207Z"
   },
   {
    "duration": 4,
    "start_time": "2022-09-05T01:03:49.288Z"
   },
   {
    "duration": 315,
    "start_time": "2022-09-05T01:03:50.127Z"
   },
   {
    "duration": 7,
    "start_time": "2022-09-05T01:03:51.678Z"
   },
   {
    "duration": 12,
    "start_time": "2022-09-05T01:05:52.356Z"
   },
   {
    "duration": 9,
    "start_time": "2022-09-05T01:06:07.663Z"
   },
   {
    "duration": 7,
    "start_time": "2022-09-05T01:07:13.887Z"
   },
   {
    "duration": 6,
    "start_time": "2022-09-05T01:07:44.400Z"
   },
   {
    "duration": 8,
    "start_time": "2022-09-05T01:07:49.259Z"
   },
   {
    "duration": 15,
    "start_time": "2022-09-05T01:11:11.963Z"
   },
   {
    "duration": 7,
    "start_time": "2022-09-05T01:11:35.506Z"
   },
   {
    "duration": 10,
    "start_time": "2022-09-05T01:12:18.463Z"
   },
   {
    "duration": 6,
    "start_time": "2022-09-05T01:16:24.772Z"
   },
   {
    "duration": 10,
    "start_time": "2022-09-05T01:16:43.651Z"
   },
   {
    "duration": 10,
    "start_time": "2022-09-05T01:17:58.580Z"
   },
   {
    "duration": 7,
    "start_time": "2022-09-05T01:24:06.801Z"
   },
   {
    "duration": 9,
    "start_time": "2022-09-05T01:24:21.290Z"
   },
   {
    "duration": 29,
    "start_time": "2022-09-05T01:25:19.740Z"
   },
   {
    "duration": 14,
    "start_time": "2022-09-05T01:25:47.181Z"
   },
   {
    "duration": 11,
    "start_time": "2022-09-05T01:26:38.619Z"
   },
   {
    "duration": 29,
    "start_time": "2022-09-05T01:26:50.302Z"
   },
   {
    "duration": 11,
    "start_time": "2022-09-05T01:28:57.350Z"
   },
   {
    "duration": 12,
    "start_time": "2022-09-05T01:29:18.568Z"
   },
   {
    "duration": 12,
    "start_time": "2022-09-05T01:29:41.887Z"
   },
   {
    "duration": 10,
    "start_time": "2022-09-05T01:30:13.577Z"
   },
   {
    "duration": 9,
    "start_time": "2022-09-05T01:30:21.969Z"
   },
   {
    "duration": 9,
    "start_time": "2022-09-05T01:30:42.358Z"
   },
   {
    "duration": 697,
    "start_time": "2022-09-06T13:51:25.639Z"
   },
   {
    "duration": 39,
    "start_time": "2022-09-06T13:51:26.341Z"
   },
   {
    "duration": 16,
    "start_time": "2022-09-06T13:51:26.382Z"
   },
   {
    "duration": 29,
    "start_time": "2022-09-06T13:51:26.403Z"
   },
   {
    "duration": 16,
    "start_time": "2022-09-06T13:51:26.434Z"
   },
   {
    "duration": 13,
    "start_time": "2022-09-06T13:51:26.452Z"
   },
   {
    "duration": 40,
    "start_time": "2022-09-06T13:51:26.466Z"
   },
   {
    "duration": 10,
    "start_time": "2022-09-06T13:51:26.511Z"
   },
   {
    "duration": 11,
    "start_time": "2022-09-06T13:51:26.523Z"
   },
   {
    "duration": 9,
    "start_time": "2022-09-06T13:51:26.537Z"
   },
   {
    "duration": 12,
    "start_time": "2022-09-06T13:51:26.548Z"
   },
   {
    "duration": 8,
    "start_time": "2022-09-06T13:51:26.562Z"
   },
   {
    "duration": 14,
    "start_time": "2022-09-06T13:51:26.571Z"
   },
   {
    "duration": 27,
    "start_time": "2022-09-06T13:51:26.588Z"
   },
   {
    "duration": 14,
    "start_time": "2022-09-06T13:51:26.618Z"
   },
   {
    "duration": 14,
    "start_time": "2022-09-06T13:51:26.634Z"
   },
   {
    "duration": 11,
    "start_time": "2022-09-06T13:51:26.650Z"
   },
   {
    "duration": 12,
    "start_time": "2022-09-06T13:51:26.663Z"
   },
   {
    "duration": 11,
    "start_time": "2022-09-06T13:51:26.677Z"
   },
   {
    "duration": 27,
    "start_time": "2022-09-06T13:51:26.689Z"
   },
   {
    "duration": 8,
    "start_time": "2022-09-06T13:51:26.718Z"
   },
   {
    "duration": 17,
    "start_time": "2022-09-06T13:51:26.728Z"
   },
   {
    "duration": 13,
    "start_time": "2022-09-06T13:51:26.746Z"
   },
   {
    "duration": 12,
    "start_time": "2022-09-06T13:51:26.761Z"
   },
   {
    "duration": 6,
    "start_time": "2022-09-06T13:51:26.774Z"
   },
   {
    "duration": 12,
    "start_time": "2022-09-06T13:51:26.782Z"
   },
   {
    "duration": 18,
    "start_time": "2022-09-06T13:51:26.796Z"
   },
   {
    "duration": 10,
    "start_time": "2022-09-06T13:51:26.819Z"
   },
   {
    "duration": 12,
    "start_time": "2022-09-06T13:51:26.831Z"
   },
   {
    "duration": 10,
    "start_time": "2022-09-06T13:51:26.845Z"
   },
   {
    "duration": 13,
    "start_time": "2022-09-06T13:51:26.856Z"
   },
   {
    "duration": 18,
    "start_time": "2022-09-06T13:51:26.872Z"
   },
   {
    "duration": 8,
    "start_time": "2022-09-06T13:51:26.903Z"
   },
   {
    "duration": 28,
    "start_time": "2022-09-06T13:51:26.913Z"
   },
   {
    "duration": 7,
    "start_time": "2022-09-06T13:51:26.943Z"
   },
   {
    "duration": 20,
    "start_time": "2022-09-06T13:51:26.951Z"
   },
   {
    "duration": 32,
    "start_time": "2022-09-06T13:51:26.973Z"
   },
   {
    "duration": 21,
    "start_time": "2022-09-06T13:51:27.007Z"
   },
   {
    "duration": 14,
    "start_time": "2022-09-06T13:51:27.029Z"
   },
   {
    "duration": 4,
    "start_time": "2022-09-06T13:51:27.045Z"
   },
   {
    "duration": 338,
    "start_time": "2022-09-06T13:51:27.051Z"
   },
   {
    "duration": 29,
    "start_time": "2022-09-06T13:51:27.390Z"
   },
   {
    "duration": 23,
    "start_time": "2022-09-06T13:51:27.422Z"
   },
   {
    "duration": 14,
    "start_time": "2022-09-06T13:51:27.447Z"
   },
   {
    "duration": 9,
    "start_time": "2022-09-06T13:51:27.463Z"
   },
   {
    "duration": 6,
    "start_time": "2022-09-06T13:51:27.474Z"
   },
   {
    "duration": 647,
    "start_time": "2022-09-06T13:51:27.483Z"
   },
   {
    "duration": 14,
    "start_time": "2022-09-06T13:51:28.133Z"
   },
   {
    "duration": 7,
    "start_time": "2022-09-06T13:51:28.149Z"
   },
   {
    "duration": 9,
    "start_time": "2022-09-06T13:51:28.158Z"
   },
   {
    "duration": 46,
    "start_time": "2022-09-06T13:51:28.169Z"
   },
   {
    "duration": 6,
    "start_time": "2022-09-06T13:51:28.216Z"
   },
   {
    "duration": 8,
    "start_time": "2022-09-06T13:51:28.224Z"
   },
   {
    "duration": 17,
    "start_time": "2022-09-06T13:51:28.234Z"
   },
   {
    "duration": 6,
    "start_time": "2022-09-06T13:51:28.253Z"
   },
   {
    "duration": 11,
    "start_time": "2022-09-06T13:51:28.261Z"
   },
   {
    "duration": 36,
    "start_time": "2022-09-06T13:51:28.275Z"
   },
   {
    "duration": 278,
    "start_time": "2022-09-06T13:51:28.316Z"
   },
   {
    "duration": 24,
    "start_time": "2022-09-06T13:51:28.596Z"
   },
   {
    "duration": 12,
    "start_time": "2022-09-06T13:51:28.623Z"
   },
   {
    "duration": 9,
    "start_time": "2022-09-06T13:51:28.637Z"
   },
   {
    "duration": 441,
    "start_time": "2022-09-06T13:51:28.648Z"
   },
   {
    "duration": 23,
    "start_time": "2022-09-06T13:51:29.090Z"
   },
   {
    "duration": 13,
    "start_time": "2022-09-06T13:51:29.122Z"
   },
   {
    "duration": 18,
    "start_time": "2022-09-06T13:51:29.137Z"
   },
   {
    "duration": 35,
    "start_time": "2022-09-06T13:51:29.157Z"
   },
   {
    "duration": 53,
    "start_time": "2022-09-06T13:51:29.194Z"
   },
   {
    "duration": 25,
    "start_time": "2022-09-06T13:51:29.249Z"
   },
   {
    "duration": 57,
    "start_time": "2022-09-06T14:03:53.927Z"
   },
   {
    "duration": 71,
    "start_time": "2022-09-06T14:05:04.798Z"
   },
   {
    "duration": 15,
    "start_time": "2022-09-06T14:05:23.403Z"
   },
   {
    "duration": 57,
    "start_time": "2022-09-07T00:13:33.709Z"
   },
   {
    "duration": 40,
    "start_time": "2022-09-07T00:19:47.678Z"
   },
   {
    "duration": 558,
    "start_time": "2022-09-07T00:19:50.809Z"
   },
   {
    "duration": 29,
    "start_time": "2022-09-07T00:19:51.369Z"
   },
   {
    "duration": 12,
    "start_time": "2022-09-07T00:19:51.399Z"
   },
   {
    "duration": 20,
    "start_time": "2022-09-07T00:19:51.413Z"
   },
   {
    "duration": 13,
    "start_time": "2022-09-07T00:19:51.438Z"
   },
   {
    "duration": 10,
    "start_time": "2022-09-07T00:19:51.452Z"
   },
   {
    "duration": 12,
    "start_time": "2022-09-07T00:19:51.464Z"
   },
   {
    "duration": 9,
    "start_time": "2022-09-07T00:19:51.477Z"
   },
   {
    "duration": 7,
    "start_time": "2022-09-07T00:19:51.487Z"
   },
   {
    "duration": 7,
    "start_time": "2022-09-07T00:19:51.496Z"
   },
   {
    "duration": 36,
    "start_time": "2022-09-07T00:19:51.504Z"
   },
   {
    "duration": 8,
    "start_time": "2022-09-07T00:19:51.542Z"
   },
   {
    "duration": 10,
    "start_time": "2022-09-07T00:19:51.552Z"
   },
   {
    "duration": 12,
    "start_time": "2022-09-07T00:19:51.563Z"
   },
   {
    "duration": 12,
    "start_time": "2022-09-07T00:19:51.576Z"
   },
   {
    "duration": 8,
    "start_time": "2022-09-07T00:19:51.589Z"
   },
   {
    "duration": 8,
    "start_time": "2022-09-07T00:19:51.598Z"
   },
   {
    "duration": 7,
    "start_time": "2022-09-07T00:19:51.608Z"
   },
   {
    "duration": 21,
    "start_time": "2022-09-07T00:19:51.617Z"
   },
   {
    "duration": 13,
    "start_time": "2022-09-07T00:19:51.640Z"
   },
   {
    "duration": 11,
    "start_time": "2022-09-07T00:19:51.655Z"
   },
   {
    "duration": 16,
    "start_time": "2022-09-07T00:19:51.668Z"
   },
   {
    "duration": 6,
    "start_time": "2022-09-07T00:19:51.685Z"
   },
   {
    "duration": 14,
    "start_time": "2022-09-07T00:19:51.692Z"
   },
   {
    "duration": 12,
    "start_time": "2022-09-07T00:19:51.708Z"
   },
   {
    "duration": 10,
    "start_time": "2022-09-07T00:19:51.722Z"
   },
   {
    "duration": 6,
    "start_time": "2022-09-07T00:19:51.734Z"
   },
   {
    "duration": 16,
    "start_time": "2022-09-07T00:19:51.743Z"
   },
   {
    "duration": 20,
    "start_time": "2022-09-07T00:19:51.760Z"
   },
   {
    "duration": 11,
    "start_time": "2022-09-07T00:19:51.782Z"
   },
   {
    "duration": 7,
    "start_time": "2022-09-07T00:19:51.795Z"
   },
   {
    "duration": 15,
    "start_time": "2022-09-07T00:19:51.803Z"
   },
   {
    "duration": 9,
    "start_time": "2022-09-07T00:19:51.820Z"
   },
   {
    "duration": 15,
    "start_time": "2022-09-07T00:19:51.830Z"
   },
   {
    "duration": 11,
    "start_time": "2022-09-07T00:19:51.846Z"
   },
   {
    "duration": 23,
    "start_time": "2022-09-07T00:19:51.858Z"
   },
   {
    "duration": 15,
    "start_time": "2022-09-07T00:19:51.883Z"
   },
   {
    "duration": 14,
    "start_time": "2022-09-07T00:19:51.899Z"
   },
   {
    "duration": 25,
    "start_time": "2022-09-07T00:19:51.915Z"
   },
   {
    "duration": 4,
    "start_time": "2022-09-07T00:19:51.942Z"
   },
   {
    "duration": 263,
    "start_time": "2022-09-07T00:19:51.947Z"
   },
   {
    "duration": 12,
    "start_time": "2022-09-07T00:19:52.212Z"
   },
   {
    "duration": 27,
    "start_time": "2022-09-07T00:19:52.225Z"
   },
   {
    "duration": 10,
    "start_time": "2022-09-07T00:19:52.254Z"
   },
   {
    "duration": 9,
    "start_time": "2022-09-07T00:19:52.266Z"
   },
   {
    "duration": 5,
    "start_time": "2022-09-07T00:19:52.276Z"
   },
   {
    "duration": 557,
    "start_time": "2022-09-07T00:19:52.282Z"
   },
   {
    "duration": 13,
    "start_time": "2022-09-07T00:19:52.841Z"
   },
   {
    "duration": 6,
    "start_time": "2022-09-07T00:19:52.856Z"
   },
   {
    "duration": 8,
    "start_time": "2022-09-07T00:19:52.864Z"
   },
   {
    "duration": 20,
    "start_time": "2022-09-07T00:19:52.874Z"
   },
   {
    "duration": 7,
    "start_time": "2022-09-07T00:19:52.895Z"
   },
   {
    "duration": 10,
    "start_time": "2022-09-07T00:19:52.904Z"
   },
   {
    "duration": 35,
    "start_time": "2022-09-07T00:19:52.915Z"
   },
   {
    "duration": 4,
    "start_time": "2022-09-07T00:19:52.952Z"
   },
   {
    "duration": 16,
    "start_time": "2022-09-07T00:19:52.958Z"
   },
   {
    "duration": 6,
    "start_time": "2022-09-07T00:19:52.976Z"
   },
   {
    "duration": 237,
    "start_time": "2022-09-07T00:19:52.983Z"
   },
   {
    "duration": 5,
    "start_time": "2022-09-07T00:19:53.222Z"
   },
   {
    "duration": 15,
    "start_time": "2022-09-07T00:19:53.228Z"
   },
   {
    "duration": 10,
    "start_time": "2022-09-07T00:19:53.244Z"
   },
   {
    "duration": 316,
    "start_time": "2022-09-07T00:19:53.256Z"
   },
   {
    "duration": 16,
    "start_time": "2022-09-07T00:19:53.574Z"
   },
   {
    "duration": 8,
    "start_time": "2022-09-07T00:19:53.591Z"
   },
   {
    "duration": 8,
    "start_time": "2022-09-07T00:19:53.600Z"
   },
   {
    "duration": 15,
    "start_time": "2022-09-07T00:19:53.609Z"
   },
   {
    "duration": 20,
    "start_time": "2022-09-07T00:19:53.626Z"
   },
   {
    "duration": 9,
    "start_time": "2022-09-07T00:19:53.647Z"
   },
   {
    "duration": 9,
    "start_time": "2022-09-07T00:19:53.657Z"
   },
   {
    "duration": 4,
    "start_time": "2022-09-07T00:21:55.782Z"
   },
   {
    "duration": 6,
    "start_time": "2022-09-07T00:22:02.570Z"
   },
   {
    "duration": 17,
    "start_time": "2022-09-07T00:22:48.568Z"
   },
   {
    "duration": 7,
    "start_time": "2022-09-07T00:33:53.126Z"
   },
   {
    "duration": 55,
    "start_time": "2022-09-07T00:37:09.662Z"
   },
   {
    "duration": 9,
    "start_time": "2022-09-07T00:37:20.236Z"
   },
   {
    "duration": 10,
    "start_time": "2022-09-07T00:38:33.866Z"
   }
  ],
  "kernelspec": {
   "display_name": "Python 3 (ipykernel)",
   "language": "python",
   "name": "python3"
  },
  "language_info": {
   "codemirror_mode": {
    "name": "ipython",
    "version": 3
   },
   "file_extension": ".py",
   "mimetype": "text/x-python",
   "name": "python",
   "nbconvert_exporter": "python",
   "pygments_lexer": "ipython3",
   "version": "3.9.5"
  },
  "toc": {
   "base_numbering": 1,
   "nav_menu": {},
   "number_sections": true,
   "sideBar": true,
   "skip_h1_title": true,
   "title_cell": "Table of Contents",
   "title_sidebar": "Contents",
   "toc_cell": false,
   "toc_position": {},
   "toc_section_display": true,
   "toc_window_display": true
  }
 },
 "nbformat": 4,
 "nbformat_minor": 2
}
